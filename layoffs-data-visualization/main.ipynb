{
  "cells": [
    {
      "cell_type": "markdown",
      "metadata": {},
      "source": [
        "# <a id='toc1_'></a>[LAB 01: LAYOFFS 2023](#toc0_)"
      ]
    },
    {
      "attachments": {},
      "cell_type": "markdown",
      "metadata": {},
      "source": [
        "**Bảng nội dung**<a id='toc0_'></a>    \n",
        "- [LAB 01: LAYOFFS 2023](#toc1_)    \n",
        "  - [Mô tả đồ án:](#toc1_1_)    \n",
        "    - [<span style=\"color:yellow\"> A. Thu thập dữ liệu</span>](#toc1_1_1_)    \n",
        "      - [Ngữ cảnh thực hiện tìm kiếm dữ liệu](#toc1_1_1_1_)    \n",
        "      - [Chủ đề](#toc1_1_1_2_)    \n",
        "      - [Nguồn](#toc1_1_1_3_)    \n",
        "      - [Người ta có cho phép sử dụng dữ liệu như thế này hay không?](#toc1_1_1_4_)    \n",
        "      - [Người ta đã thu thập dữ liệu này như thế nào? Phương pháp thực hiện là gì?](#toc1_1_1_5_)    \n",
        "      - [Đọc dữ liệu](#toc1_1_1_6_)    \n",
        "    - [<span style=\"color:yellow\"> B. Khám phá dữ liệu</span>](#toc1_1_2_)    \n",
        "      - [Mỗi dòng có ý nghĩa gì? Có vấn đề các dòng có ý nghĩa khác nhau không?](#toc1_1_2_1_)    \n",
        "      - [Mỗi cột có ý nghĩa gì? Thông tin của mỗi cột ? Mỗi cột hiện đang có kiểu dữ liệu gì?](#toc1_1_2_2_)    \n",
        "      - [Phân bố dữ liệu ở các cột](#toc1_1_2_6_)    \n",
        "        - [Với mỗi cột có kiểu dữ liệu dạng numeric, các giá trị được phân bố như thế nào?](#toc1_1_2_6_1_)    \n",
        "        - [Với mỗi cột không có kiểu dữ liệu dạng categorical, các giá trị được phân bố như thế nào?](#toc1_1_2_6_2_)    \n",
        "      - [Tiền xử lý dữ liệu](#toc1_1_2_7_)    \n",
        "    - [<span style=\"color:yellow\"> C. Khám phá mối quan hệ trong dữ liệu</span>](#toc1_1_4_)    \n",
        "      - [Tìm hiểu mối liên hệ giữa Stage và Percentage_laid_off:](#toc1_1_4_1_)    \n",
        "      - [Xét từng quốc gia, thể hiện bằng biểu đồ cột cho thấy số lượng người bị sa thải của các ngành. ](#toc1_1_8_1_)    \n",
        "      - [Ngành nào đang có số lượng layoff cao nhất trên thế giới](#toc1_1_11_1_)    \n",
        "      - [Xét tất cả các ngành, dùng biểu đồ cột thể hiện số lượng quốc gia có ngành nghề đó layoff top đầu / cuối. ](#toc1_1_11_2_)    \n",
        "      - [Khám phá dữ liệu thực tế](#toc1_1_11_4_)    \n",
        "        - [Địa điểm tiêu biểu nơi xảy ra layoff](#toc1_1_11_4_1_)    \n",
        "        - [Số lượng layoff theo thời gian](#toc1_1_11_4_2_)    \n",
        "        - [Số lượng layoff theo tháng](#toc1_1_11_4_3_)    \n",
        "        - [Liệu có đợt layoff này diễn ra vào holiday week?](#toc1_2_)    \n",
        "        - [Tình hình layoff ở Việt Nam](#toc1_2_1_)    \n",
        "        - [Với mỗi đợt sa thải, các công ty thường cho nghỉ bao nhiêu phần trăm nhân sự?](#toc1_2_2_)    \n",
        "        - [Top 20 công ty có tổng % số lượng nhân sự bị sa thải nhiều nhất](#toc1_2_3_)    \n",
        "        - [Tìm hiểu về các công ty sa thải hơn 50% nhân sự trong các đợt](#toc1_2_4_)    \n",
        "        - [Tìm hiểu quan hệ giữa total_laid_off,percentage_laid_off,funds_raised,total_employees](#toc1_2_5_)    \n",
        "\n",
        "<!-- vscode-jupyter-toc-config\n",
        "\tnumbering=false\n",
        "\tanchor=true\n",
        "\tflat=false\n",
        "\tminLevel=1\n",
        "\tmaxLevel=6\n",
        "\t/vscode-jupyter-toc-config -->\n",
        "<!-- THIS CELL WILL BE REPLACED ON TOC UPDATE. DO NOT WRITE YOUR TEXT IN THIS CELL -->"
      ]
    },
    {
      "cell_type": "markdown",
      "metadata": {},
      "source": [
        "## <a id='toc1_1_'></a>[Mô tả đồ án:](#toc0_)\n",
        "- Từ nguồn dữ liệu lấy được từ Kaggle về vấn đề sa thải nhân viên ở các công ty trên toàn thế giới, đồ án này nhằm mục đích phân tích dữ liệu đã có để có được cái nhìn khách quan hơn về vấn đề này."
      ]
    },
    {
      "attachments": {},
      "cell_type": "markdown",
      "metadata": {},
      "source": [
        "---"
      ]
    },
    {
      "attachments": {},
      "cell_type": "markdown",
      "metadata": {},
      "source": [
        "Import các thư viện"
      ]
    },
    {
      "cell_type": "code",
      "execution_count": null,
      "metadata": {},
      "outputs": [],
      "source": [
        "import numpy as np\n",
        "import pandas as pd\n",
        "import seaborn as sns\n",
        "import matplotlib.pyplot as plt\n",
        "from textwrap import wrap\n",
        "from wordcloud import WordCloud\n",
        "import plotly.express as px\n",
        "import matplotlib.colors as colors"
      ]
    },
    {
      "attachments": {},
      "cell_type": "markdown",
      "metadata": {},
      "source": [
        "---"
      ]
    },
    {
      "cell_type": "markdown",
      "metadata": {},
      "source": [
        "### <a id='toc1_1_1_'></a>[<span style=\"color:yellow\"> A. Thu thập dữ liệu</span>](#toc0_)\n"
      ]
    },
    {
      "cell_type": "markdown",
      "metadata": {},
      "source": [
        "#### <a id='toc1_1_1_1_'></a>[Ngữ cảnh thực hiện tìm kiếm dữ liệu](#toc0_)"
      ]
    },
    {
      "attachments": {},
      "cell_type": "markdown",
      "metadata": {},
      "source": [
        "Sau dịch covid 19, các công ty công nghệ trên toàn cầu đang đối mặt với sự suy thoái kinh tế. Sự chậm lại của chi tiêu từ người tiêu dùng, lãi suất cao hơn từ các ngân hàng trung ương và sức mạnh của đồng đô la ngoại tệ đang gợi ý về khả năng xảy ra suy thoái kinh tế và các công ty công nghệ đã bắt đầu **cắt giảm nhân sự**."
      ]
    },
    {
      "cell_type": "markdown",
      "metadata": {},
      "source": [
        "#### <a id='toc1_1_1_2_'></a>[Chủ đề](#toc0_)"
      ]
    },
    {
      "attachments": {},
      "cell_type": "markdown",
      "metadata": {},
      "source": [
        "Phân tích tình trạng hỗn loạn công nghệ gần đây thông qua số liệu về việc sa thải nhân sự, từ đó rút ra được những thông tin hữu ích."
      ]
    },
    {
      "cell_type": "markdown",
      "metadata": {},
      "source": [
        "#### <a id='toc1_1_1_3_'></a>[Nguồn](#toc0_)\n",
        "Dữ liệu được lấy trên Kaggle dưới file csv, đường link dẫn đến  [Ở đây](https://www.kaggle.com/datasets/swaptr/layoffs-2022?resource=download)"
      ]
    },
    {
      "cell_type": "markdown",
      "metadata": {},
      "source": [
        "#### <a id='toc1_1_1_4_'></a>[Người ta có cho phép sử dụng dữ liệu như thế này hay không?](#toc0_)"
      ]
    },
    {
      "attachments": {},
      "cell_type": "markdown",
      "metadata": {},
      "source": [
        "Thông tin License của dữ liệu: Open Database.\n",
        "\n",
        "Theo thông tin License của dữ liệu, người dùng được phép tự do chia sẻ, sửa đổi và sử dụng dữ liệu trong khi duy trì sự tự do tương tự cho người dùng khác."
      ]
    },
    {
      "cell_type": "markdown",
      "metadata": {},
      "source": [
        "#### <a id='toc1_1_1_5_'></a>[Người ta đã thu thập dữ liệu này như thế nào? Phương pháp thực hiện là gì?](#toc0_)"
      ]
    },
    {
      "attachments": {},
      "cell_type": "markdown",
      "metadata": {},
      "source": [
        "Dữ liệu được thu thập bằng cách theo dõi số liệu được báo cáo trên các nền tảng:\n",
        "- Bloombreg\n",
        "- San Francisco Business Times\n",
        "- TechCrunch\n",
        "- The New York Times\n",
        "\n",
        "Phương pháp thu thập dữ liệu: Dữ liệu được tải xuống từ Layoffs.fyi Tracker và được biên soạn thành 1 file CSV."
      ]
    },
    {
      "cell_type": "markdown",
      "metadata": {},
      "source": [
        "#### <a id='toc1_1_1_6_'></a>[Đọc dữ liệu](#toc0_)"
      ]
    },
    {
      "cell_type": "code",
      "execution_count": null,
      "metadata": {},
      "outputs": [],
      "source": [
        "df=pd.read_csv('./datasets/layoffs.csv')\n",
        "df.head()"
      ]
    },
    {
      "attachments": {},
      "cell_type": "markdown",
      "metadata": {},
      "source": [
        "---"
      ]
    },
    {
      "cell_type": "markdown",
      "metadata": {},
      "source": [
        "### <a id='toc1_1_2_'></a>[<span style=\"color:yellow\"> B. Khám phá dữ liệu</span>](#toc0_)\n"
      ]
    },
    {
      "cell_type": "markdown",
      "metadata": {},
      "source": [
        "#### <a id='toc1_1_2_1_'></a>[Mỗi dòng có ý nghĩa gì? Có vấn đề các dòng có ý nghĩa khác nhau không?](#toc0_)"
      ]
    },
    {
      "attachments": {},
      "cell_type": "markdown",
      "metadata": {},
      "source": [
        "- Mỗi dòng chứa dữ liệu về một công ty và các thông tin liên quan đến công ty đó như: tên công ty, nơi đặt trụ sở chính, loại ngành nghề, số nhân viên bị sa thải, tỷ lệ sa thải, ngày công bố, giai đoạn của công ty, quốc gia công ty hoạt động, số vốn huy động bởi công ty.\n",
        "\n",
        "- ví dụ: dòng 1: doanh nghiệp SiriusXM có trụ sở tại New York City và hoạt động trong ngành truyền thông, đã sa thải 475 nhân viên, chiếm 8% tổng số nhân viên của họ tính tới ngày 6 tháng 3 năm 2023. Công ty cũng đang ở giai đoạn Post-IPO và có trụ sở tại Hoa Kỳ. Họ đã huy động được số vốn 525 triệu đô la.\n",
        "\n",
        "- Không có tình trạng các dòng có ý nghĩa khác nhau."
      ]
    },
    {
      "cell_type": "markdown",
      "metadata": {},
      "source": [
        "#### <a id='toc1_1_2_2_'></a>[Mỗi cột có ý nghĩa gì?](#toc0_)"
      ]
    },
    {
      "cell_type": "code",
      "execution_count": null,
      "metadata": {},
      "outputs": [],
      "source": [
        "column=2\n",
        "print(\"column \", column,\": \", df.columns[column])\n",
        "print(\"size: \", len(df.loc[:, df.columns[column]]))\n",
        "print(\"number of values: \", len(df.loc[:, df.columns[column]].unique()))\n",
        "\n",
        "arr= df.loc[:, df.columns[column]].unique()\n",
        "\n",
        "nanIndex=-1\n",
        "for index in range(len(arr)):\n",
        "    if isinstance(arr[index], float) and np.isnan(arr[index]):\n",
        "        nanIndex=index\n",
        "        break\n",
        "if nanIndex != -1:\n",
        "    arr=np.delete(arr,nanIndex)\n",
        "\n",
        "print(\"number of values (without nan): \", len(arr))\n",
        "\n",
        "print(\"data (without nan) : \", ', '.join(arr))\n",
        "\n",
        "\n",
        "\n",
        "    "
      ]
    },
    {
      "cell_type": "markdown",
      "metadata": {},
      "source": [
        "#### <a id='toc1_1_2_3_'></a>[Thông tin của mỗi cột:](#toc0_)\n",
        "- Company: Tên của công ty\n",
        "    - Kích thước: 2357\n",
        "    - Số lượng dữ liệu không trùng lắp: 1893\n",
        "    - Một số Company có trong dữ liệu: Atlassian, SiriusXM, Alerzo, UpGrad, Loft, Embark Trucks,...\n",
        "- Location: Nơi đặt trụ sở chính của công ty\n",
        "    - Kích thước: 2357\n",
        "    - Số lượng dữ liệu không trùng lắp: 191\n",
        "    - Một số Location có trong dữ liệu: Sydney, New York City, Ibadan, Mumbai, Sao Paulo,...\n",
        "\n",
        "- Industry: Loại ngành mà công ty hoạt động\n",
        "    - Kích thước: 2357\n",
        "    - Số lượng dữ liệu không trùng lắp: 30\n",
        "    - Một số Industry có trong dữ liệu: Other, Media, Retail, Education, Real Estate, Transportation,...\n",
        "\n",
        "- Total_laid_off: Tổng số nhân viên bị sa thải bởi công ty\n",
        "    - Kích thước: 2357\n",
        "    - Số lượng dữ liệu không trùng lắp: 286\n",
        "    - Một số Total_laid_off có trong dữ liệu: 475.0, 400.0, 120.0, 340.0, 230.0, 100.0, 63.0, 30.0...\n",
        "\n",
        "- Percentage_laid_off: Tỷ lệ nhân viên bị sa thải bởi công ty\n",
        "    - Kích thước: 2357\n",
        "    - Số lượng dữ liệu không trùng lắp: 76\n",
        "    - Một số Percentage_laid_off có trong dữ liệu: 0.05, 0.08, 0.15, 0.7, 0.03, 0.11, 0.1, 1.0...\n",
        "\n",
        "- Date: Ngày công bố thông tin về việc sa thải\n",
        "    - Kích thước: 2357\n",
        "    - Số lượng dữ liệu không trùng lắp: 191\n",
        "    - Một số Date có trong dữ liệu: 2023-03-06, 2023-03-03, 2023-03-02, 2023-03-01, 2023-02-28,...\n",
        "\n",
        "- Stage: Giai đoạn của công ty\n",
        "    - Kích thước: 2357\n",
        "    - Số lượng dữ liệu không trùng lắp: 17\n",
        "    - Một số Stage có trong dữ liệu: Post-IPO, Series B, Unknown, Acquired, Series F, Series E...\n",
        "\n",
        "- Country: Quốc gia nơi công ty đặt trụ sở\n",
        "    - Kích thước: 2357\n",
        "    - Số lượng dữ liệu không trùng lắp: 59\n",
        "    - Một số Country có trong dữ liệu:  Australia, United States, Nigeria, India, Brazil,...\n",
        "\n",
        "- Funds_raised: Tổng số vốn do công ty huy động (tính bằng triệu đô la)\n",
        "    - Kích thước: 2357\n",
        "    - Số lượng dữ liệu không trùng lắp: 639\n",
        "    - Một số Funds_raised có trong dữ liệu: 525.0, 16.0, 631.0, 788.0, 317.0, 59.0, 152.0..."
      ]
    },
    {
      "cell_type": "markdown",
      "metadata": {},
      "source": [
        "#### <a id='toc1_1_2_4_'></a>[Mỗi cột hiện đang có kiểu dữ liệu gì?](#toc0_)"
      ]
    },
    {
      "cell_type": "code",
      "execution_count": null,
      "metadata": {},
      "outputs": [],
      "source": [
        "df.dtypes"
      ]
    },
    {
      "cell_type": "code",
      "execution_count": null,
      "metadata": {},
      "outputs": [],
      "source": [
        "object_columns = df.select_dtypes(include=['object']).columns\n",
        "for col in object_columns:\n",
        "    print(col,\":\",set(df[col].apply(type)))"
      ]
    },
    {
      "attachments": {},
      "cell_type": "markdown",
      "metadata": {},
      "source": [
        "Chúng ta nhận thấy rằng ba cột `industry`, `date` và `stage` có dạng dữ liệu không đồng nhất, tuy nhiên đây chỉ là do sự thiếu hụt dữ liệu trong các dòng, được biểu thị bằng giá trị `NaN` (dạng số thực)."
      ]
    },
    {
      "cell_type": "markdown",
      "metadata": {},
      "source": [
        "#### <a id='toc1_1_2_5_'></a>[Có cột nào có kiểu dữ liệu chưa phù hợp để có thể xử lý tiếp hay không?](#toc0_)"
      ]
    },
    {
      "attachments": {},
      "cell_type": "markdown",
      "metadata": {},
      "source": [
        "Các cột sau đang có kiểu dữ liệu là `object`, do đó cần được chuyển đổi sang kiểu chuỗi (`string`):\n",
        "\n",
        "* `company`\n",
        "* `location`\n",
        "* `industry`\n",
        "* `stage`\n",
        "* `country`\n",
        "\n",
        "Trong khi đó, cột `date` đang có kiểu dữ liệu là `object`, cần được chuyển đổi sang kiểu ngày tháng (`datetime`)."
      ]
    },
    {
      "cell_type": "markdown",
      "metadata": {},
      "source": [
        "#### <a id='toc1_1_2_6_'></a>[Phân bố dữ liệu ở các cột](#toc0_)"
      ]
    },
    {
      "cell_type": "markdown",
      "metadata": {},
      "source": [
        "##### <a id='toc1_1_2_6_1_'></a>[Với mỗi cột có kiểu dữ liệu dạng numeric, các giá trị được phân bố như thế nào?](#toc0_)"
      ]
    },
    {
      "cell_type": "code",
      "execution_count": null,
      "metadata": {},
      "outputs": [],
      "source": [
        "numerical_des = df.describe()\n",
        "missing_ratio = pd.DataFrame({col : df[col].isnull().sum() / len(df) for col in numerical_des.columns}, index=[\"missing_ratio\"])\n",
        "pd.concat([numerical_des,missing_ratio])"
      ]
    },
    {
      "attachments": {},
      "cell_type": "markdown",
      "metadata": {},
      "source": [
        "Từ bảng dữ liệu phân tích của kiểu dữ liệu numberic, tồn tại những trường dữ liệu với tỉ lệ thiếu lên tới hơn 30%."
      ]
    },
    {
      "attachments": {},
      "cell_type": "markdown",
      "metadata": {},
      "source": [
        ">> Total Laid Off"
      ]
    },
    {
      "cell_type": "code",
      "execution_count": null,
      "metadata": {},
      "outputs": [],
      "source": [
        "plt.figure(figsize=(14,6))\n",
        "ax= sns.histplot(data=df, x='total_laid_off')\n",
        "ax.set_yscale('log')\n",
        "plt.show()"
      ]
    },
    {
      "cell_type": "code",
      "execution_count": null,
      "metadata": {},
      "outputs": [],
      "source": [
        "sns.histplot(data=df, x='percentage_laid_off')\n",
        "plt.show()"
      ]
    },
    {
      "cell_type": "code",
      "execution_count": null,
      "metadata": {},
      "outputs": [],
      "source": [
        "plt.figure(figsize=(14,6))\n",
        "ax=sns.histplot(data=df, x='funds_raised')\n",
        "ax.set_yscale('log')\n",
        "plt.show()"
      ]
    },
    {
      "cell_type": "markdown",
      "metadata": {},
      "source": [
        "##### <a id='toc1_1_2_6_2_'></a>[Với mỗi cột không có kiểu dữ liệu dạng categorical, các giá trị được phân bố như thế nào?](#toc1_) [&#8593;](#toc0_)"
      ]
    },
    {
      "cell_type": "code",
      "execution_count": null,
      "metadata": {},
      "outputs": [],
      "source": [
        "cate_cols=['company', 'location', 'industry', 'stage', 'country']\n",
        "cate_rows=[\"missing_ratio\",\"num_diff_vals\",\"diff_vals\"]\n",
        "data_cate={}\n",
        "for col in cate_cols:\n",
        "    row=[]\n",
        "    row.append(round(df[col].isnull().sum()/len(df[col])*100,3))\n",
        "    data_cate.update({f'{col}':row})\n",
        "\n",
        "    row.append(len(df[col][df[col].isna()==False].unique()))\n",
        "    row.append(np.array(df[col][df[col].isna()==False].unique()))\n",
        "    data_cate.update({f'{col}':row})\n",
        "\n",
        "cate_col_df=pd.DataFrame(data_cate,index=cate_rows)\n",
        "display(cate_col_df)"
      ]
    },
    {
      "attachments": {},
      "cell_type": "markdown",
      "metadata": {},
      "source": [
        ">> Có cần phải tiền xử lý dữ liệu hay không và nếu có thì nhóm sinh viên cần phải xử lý như thế nào?"
      ]
    },
    {
      "cell_type": "code",
      "execution_count": null,
      "metadata": {},
      "outputs": [],
      "source": [
        "df.info()"
      ]
    },
    {
      "attachments": {},
      "cell_type": "markdown",
      "metadata": {},
      "source": [
        "Quan sát thấy có số lượng lớn dữ liệu bị thiếu và có những cột phải xử lý kiểu dữ liệu do vậy ta phải tiền xử lý dữ liệu."
      ]
    },
    {
      "cell_type": "markdown",
      "metadata": {},
      "source": [
        "#### <a id='toc1_1_2_7_'></a>[Tiền xử lý dữ liệu](#toc0_)"
      ]
    },
    {
      "cell_type": "code",
      "execution_count": null,
      "metadata": {},
      "outputs": [],
      "source": [
        "# Kiểm tra missing data\n",
        "have_Nan=df.columns[df.isna().any()]\n",
        "\n",
        "# Đếm số missing data của các cột có missing data\n",
        "print(\"Missing data:\")\n",
        "print(df[have_Nan].isnull().sum())\n",
        "df.isna().sum().plot(kind=\"barh\",title='Missing data')\n",
        "plt.show()\n",
        "\n",
        "# Phần trăm dữ liệu bị thiểu của những cột này\n",
        "print(\"Percentage missing data:\")\n",
        "percentage_missing_data=df[have_Nan].isnull().sum() * 100 / df.shape[0]\n",
        "print(percentage_missing_data)\n",
        "\n",
        "# Kiểm tra có dữ liệu bị duplicate không\n",
        "print(\"Number of rows duplicated: \"+str(df[df.duplicated()].shape[0]))\n"
      ]
    },
    {
      "attachments": {},
      "cell_type": "markdown",
      "metadata": {},
      "source": [
        "Ta thấy có một số lượng khá lớn dữ liệu bị thiếu ở cột `total_laid_off`,`percentage_laid_off` và `funds_raised` . Vì có những cột dữ liệu bị thiếu lên đến hơn 30% nên ta không thể chọn phương án bỏ toàn bộ những dòng nào bị thiếu dữ liệu. Bên cạnh đó có tồn tại 1 dòng bị trùng ta cũng cần phải xử lý. \n",
        "\n",
        "- Đầu tiên ta loại bỏ những dòng có dữ liệu bị thiếu ở cột `industry`,`date` và `stage` vì số lượng bị thiếu không đáng kể.\n",
        "- Xóa dòng bị trùng dữ liệu.\n",
        "- Loại bỏ những dòng mà bị thiếu cả hai trường quan trọng là `total_laid_off` và `percentage_laid_off` vì những dòng này không có ý nghĩa để ta phân tích.\n",
        "- Tiếp theo tùy theo hướng phân tích ta sẽ chọn những cột dữ liệu phù hợp. tạm thời ta sẽ fill bằng 0."
      ]
    },
    {
      "cell_type": "code",
      "execution_count": null,
      "metadata": {},
      "outputs": [],
      "source": [
        "# Loại bỏ những dòng có dữ liệu bị thiếu ở cột `industry`,`date` và `stage`\n",
        "df = df[~df['industry'].isna()]\n",
        "df = df[~df['date'].isna()]\n",
        "df = df[~df['stage'].isna()]\n",
        "\n",
        "# Xóa dòng bị trùng dữ liệu.\n",
        "df = df[~df.duplicated()]\n",
        "\n",
        "# Loại bỏ những dòng mà bị thiểu cả hai trường quan trọng là `total_laid_off` và `percentage_laid_off`\n",
        "df = df[~(df['total_laid_off'].isna()&df['percentage_laid_off'].isna())]\n",
        "\n",
        "# \n",
        "df = df.fillna(0)\n",
        "print(\"After fill null:\")\n",
        "print(df.isna().sum())"
      ]
    },
    {
      "attachments": {},
      "cell_type": "markdown",
      "metadata": {},
      "source": [
        "Sau khi đã tạm thời xử lý các dữ liệu bị thiếu ta bắt đầu xử lý kiễu dữ liệu của các cột.\n",
        "\n",
        "- Chuyển data type của cột `date` sang dạng `datetime`.\n",
        "- Chuyển data type của các cột đang là dạng `object ('str')` sang dạng `category`"
      ]
    },
    {
      "cell_type": "code",
      "execution_count": null,
      "metadata": {},
      "outputs": [],
      "source": [
        "# Chuyển data type của cột `date` sang dạng `datetime`.\n",
        "df['date']=pd.to_datetime(df['date'])\n",
        "# Chuyển data type của các cột đang là dạng `object` sang dạng `category`\n",
        "object_columns = df.select_dtypes(include=['object']).columns\n",
        "for col in object_columns:\n",
        "    df[col]=df[col].astype('category')\n",
        "df.info()"
      ]
    },
    {
      "attachments": {},
      "cell_type": "markdown",
      "metadata": {},
      "source": [
        "Đã xữ lý xong kiểu dữ liệu của các cột. Giờ ta quan sát đến giá trị dữ liệu bên trong các cột."
      ]
    },
    {
      "cell_type": "code",
      "execution_count": null,
      "metadata": {},
      "outputs": [],
      "source": [
        "# Sắp xếp df theo tên company để quan sát cột `company`\n",
        "print(df.sort_values('company')['company'].unique())\n",
        "a=df['company'].unique()\n",
        "b=df['company'].str.upper().unique()\n",
        "print(a.shape[0])\n",
        "print(b.shape[0])"
      ]
    },
    {
      "attachments": {},
      "cell_type": "markdown",
      "metadata": {},
      "source": [
        "Số lượng tên công ty:\n",
        "\n",
        "-   Data gốc: 1629\n",
        "-   Data sau khi đưa tất cả về uppercase: 1624\n",
        "\n",
        "Ta thấy có sự khác nhau về số lượng tên công ty khi ta giữ nguyên data gốc và sau khi đưa tất cả về uppercase -> Có những tên của cùng một công ty nhưng chưa được chuẩn hóa cùng 1 quy tắc.\n",
        "-> Đưa tất cả về 1 loại (uppercase) và ta cũng phải xóa các khoảng trắng thừa trong tên công ty phòng trường hợp có tên công ty bị thừa khoảng trắng."
      ]
    },
    {
      "cell_type": "code",
      "execution_count": null,
      "metadata": {},
      "outputs": [],
      "source": [
        "# Xử lý dữ liệu cột `company`\n",
        "df['company']=df['company'].str.upper()\n",
        "df['company']=df['company'].str.split().str.join(\" \")\n",
        "df['company'].unique().shape[0]"
      ]
    },
    {
      "attachments": {},
      "cell_type": "markdown",
      "metadata": {},
      "source": [
        "Xử lý tương tự cho cột `location`, `industry`, `stage` và `country`."
      ]
    },
    {
      "cell_type": "code",
      "execution_count": null,
      "metadata": {},
      "outputs": [],
      "source": [
        "# Xử lý dữ liệu cột `location`\n",
        "df['location']=df['location'].str.upper()\n",
        "df['location']=df['location'].str.split().str.join(\" \")\n",
        "df['location'].unique().shape[0]"
      ]
    },
    {
      "cell_type": "code",
      "execution_count": null,
      "metadata": {},
      "outputs": [],
      "source": [
        "# Xử lý dữ liệu cột `industry`\n",
        "df['industry']=df['industry'].str.upper()\n",
        "df['industry']=df['industry'].str.split().str.join(\" \")\n",
        "df['industry'].unique().shape[0]"
      ]
    },
    {
      "cell_type": "code",
      "execution_count": null,
      "metadata": {},
      "outputs": [],
      "source": [
        "# Xử lý dữ liệu cột `stage`\n",
        "df['stage']=df['stage'].str.upper()\n",
        "df['stage']=df['stage'].str.split().str.join(\" \")\n",
        "df['stage'].unique().shape[0]"
      ]
    },
    {
      "cell_type": "code",
      "execution_count": null,
      "metadata": {},
      "outputs": [],
      "source": [
        "# Xử lý dữ liệu cột `country`\n",
        "df['country']=df['country'].str.upper()\n",
        "df['country']=df['country'].str.split().str.join(\" \")\n",
        "df['country'].unique().shape[0]"
      ]
    },
    {
      "attachments": {},
      "cell_type": "markdown",
      "metadata": {},
      "source": [
        "Tiếp theo ta kiểm tra những cột có kiễu dữ liệu là số để xem có xuất hiện dữ liệu không hợp lệ không.\n",
        "- Có dòng nào chứa số âm không?\n",
        "- `percentage_laid_off` có giá trị nào lớn hơn 1 không?"
      ]
    },
    {
      "cell_type": "code",
      "execution_count": null,
      "metadata": {},
      "outputs": [],
      "source": [
        "# Kiểu tra giá trị âm\n",
        "print(\"Negative total_laid_off: \"+str(sum(df.total_laid_off<0)))\n",
        "print(\"Negative percentage_laid_off: \"+str(sum(df.percentage_laid_off<0)))\n",
        "print(\"Negative funds_raised: \"+str(sum(df.funds_raised<0)))\n",
        "\n",
        "# Kiểm tra giá trị `percentage_laid_off` không hợp lệ\n",
        "print(\"percentage_laid_off greater than 1: \"+str(sum(df.percentage_laid_off>1)))"
      ]
    },
    {
      "attachments": {},
      "cell_type": "markdown",
      "metadata": {},
      "source": [
        "Sau khi đã xử lý xong tất cả ta sắp xếp và reset index của data."
      ]
    },
    {
      "cell_type": "code",
      "execution_count": null,
      "metadata": {},
      "outputs": [],
      "source": [
        "df=df.sort_values('company')\n",
        "df=df.reset_index(drop=True)\n",
        "df.head()"
      ]
    },
    {
      "cell_type": "markdown",
      "metadata": {},
      "source": [
        "### <a id='toc1_1_3_'></a>[Thêm cột total_employee để phục phụ phân tích sau này](#toc0_)"
      ]
    },
    {
      "cell_type": "code",
      "execution_count": null,
      "metadata": {},
      "outputs": [],
      "source": [
        "df_with_total_employees=df.sort_values(by='total_laid_off',ascending=False)\n",
        "df_with_total_employees=df_with_total_employees.reset_index(drop=True)\n",
        "df_with_total_employees=df_with_total_employees[df_with_total_employees['percentage_laid_off']>0]\n",
        "df_with_total_employees['total_employees']=round(df_with_total_employees['total_laid_off']/df_with_total_employees['percentage_laid_off'])\n",
        "df_with_total_employees=df_with_total_employees[df_with_total_employees['total_employees']>0]\n",
        "df_with_total_employees=df_with_total_employees.sort_values(by='total_employees',ascending=False)\n",
        "df_with_total_employees=df_with_total_employees.reset_index(drop=True)"
      ]
    },
    {
      "cell_type": "code",
      "execution_count": null,
      "metadata": {},
      "outputs": [],
      "source": [
        "df2=df_with_total_employees.groupby('company')['total_employees'].max()\n",
        "df2.sort_values(ascending=False).head(10)"
      ]
    },
    {
      "cell_type": "markdown",
      "metadata": {},
      "source": [
        "### <a id='toc1_1_4_'></a>[<span style=\"color:yellow\"> C. Khám phá mối quan hệ trong dữ liệu</span>](#toc0_)"
      ]
    },
    {
      "cell_type": "markdown",
      "metadata": {},
      "source": [
        "#### <a id='toc1_1_4_1_'></a>[Tìm hiểu mối liên hệ giữa Stage và Percentage_laid_off:](#toc0_)"
      ]
    },
    {
      "cell_type": "code",
      "execution_count": null,
      "metadata": {},
      "outputs": [],
      "source": [
        "df_clean_percentage=df[df['percentage_laid_off']>0]\n",
        "df_clean_percentage['percentage_laid_off']=df_clean_percentage['percentage_laid_off']*100\n",
        "df_clean_percentage['percentage_lo_range']=pd.cut(x=df_clean_percentage['percentage_laid_off'], bins=[0, 10, 20, 30,\n",
        "                                          40,50,60,70,80,90,100],labels=['0-10', '10-20', '20-30',\n",
        "                                          '30-40','40-50','50-60','60-70','70-80','80-90','90-100'],include_lowest=True)"
      ]
    },
    {
      "cell_type": "code",
      "execution_count": null,
      "metadata": {},
      "outputs": [],
      "source": [
        "df_clean_percentage['stage']=df_clean_percentage['stage'].sort_values()\n",
        "table = pd.pivot_table(df_clean_percentage, values='percentage_laid_off', index='percentage_lo_range',columns='stage', aggfunc='count')\n",
        "table=table.sort_values(by=['percentage_lo_range'],ascending=False)\n"
      ]
    },
    {
      "cell_type": "code",
      "execution_count": null,
      "metadata": {},
      "outputs": [],
      "source": [
        "fig, (ax1,ax2) = plt.subplots(1,2,figsize=(15, 5), tight_layout=True)\n",
        "\n",
        "df_clean_percentage=df_clean_percentage.sort_values('stage',ascending=True)\n",
        "# fig.tight_layout(pad=5.0)\n",
        "ax1.set_xlabel('Percentage laid off (%)')\n",
        "\n",
        "ax1.set_title('Phân bố giữa Stage, percentage laid off với mean',wrap=True)\n",
        "ax1.set_xticklabels(df_clean_percentage['stage'].unique(),rotation=90)\n",
        "\n",
        "sns.scatterplot(x='stage', y='percentage_laid_off',data=df_clean_percentage, ax=ax1,alpha=0.5)\n",
        "\n",
        "sns.lineplot(x='stage', y='percentage_laid_off',data=df_clean_percentage,ax=ax1,color='red',errorbar=None)\n",
        "\n",
        "\n",
        "sns.heatmap(table, annot=True, fmt=\"d\", linewidths=.5, ax=ax2,cmap=\"crest\",cbar_kws={'label': 'Number of companies'})\n",
        "ax2.set_title('Stage, quy mô layoff và tổng số công ty diễn ra layoff với quy mô đó',wrap=True)\n",
        "ax2.set_xlabel('Percentage laid off (%)')\n",
        "plt.show()"
      ]
    },
    {
      "attachments": {},
      "cell_type": "markdown",
      "metadata": {},
      "source": [
        "Một vài điểm đáng chú ý:\n",
        "- Nhìn vào biểu đồ scatter và heatmap ta có thể thấy dữ liệu phân bố chủ yếu ở mức sa thải dưới 20% nhân sự mỗi đợt. \n",
        "- Nhìn và heat map ta thấy tương đồng nhiều nhất là 150 công ty ở stage `Post-IPO` có xu hướng sa thải >10% nhân sự.\n",
        "- Nhìn vào mean line, các công ty có `stage` là `Seed` sa thải % nhân sự rất cao và không bao giờ sa thải dưới 10% nhân sự.\n",
        "- Dữ liệu chủ yếu tập trung ở nhóm các công ty có stage từ `Series A` đến `Series E`. Nhóm này có xu hướng sa thải trung bình 10-20% mỗi đợt.\n",
        "- Các công ty stage từ `Series F` đến `Series J` và `Subdiary` có rất ít dữ liệu sa thải và không bao giờ sa thải hơn 50% nhân sự trong một đợt. Có thể lý giải đây là các giai đoạn gọi vốn sau khi đã khá ổn định của các công ty nên ít diễn ra sa thải. Các công ty thuộc `Subdiary` thì có công ty mẹ chống lưng nên tình trạng cũng tương đối ổn định."
      ]
    },
    {
      "cell_type": "markdown",
      "metadata": {},
      "source": [
        "### <a id='toc1_1_5_'></a>[Stage nào có tổng số laid off cao nhất:](#toc0_)"
      ]
    },
    {
      "cell_type": "code",
      "execution_count": null,
      "metadata": {},
      "outputs": [],
      "source": [
        "stage_df = df.groupby('stage').sum().reset_index()"
      ]
    },
    {
      "cell_type": "code",
      "execution_count": null,
      "metadata": {},
      "outputs": [],
      "source": [
        "px.pie(stage_df,names='stage',values='total_laid_off',\n",
        "      color_discrete_sequence=px.colors.sequential.thermal,\n",
        "       title='Tổng số laid off của từng stage (theo tỷ lệ %)')"
      ]
    },
    {
      "attachments": {},
      "cell_type": "markdown",
      "metadata": {},
      "source": [
        "Từ biểu đồ tổng số laid off của từng stage ta có thể thấy:\n",
        "- Stage POST-IPO chiếm 53.2% tổng số lượng laid off, chiếm hơn 1/2 tổng số laid off của tất cả các công ty.\n",
        "- POST-IPO cũng chính là Stage có tổng số laid off cao nhất."
      ]
    },
    {
      "cell_type": "markdown",
      "metadata": {},
      "source": [
        "### <a id='toc1_1_6_'></a>[Tổng số lượng nhân viên bị sa thải của các ngành công nghiệp khác nhau theo từng năm:](#toc0_)"
      ]
    },
    {
      "cell_type": "code",
      "execution_count": null,
      "metadata": {},
      "outputs": [],
      "source": [
        "df_tmp = df.reset_index()\n",
        "df_tmp['date'] = pd.to_datetime(df_tmp['date'])\n",
        "df_industry = df_tmp.groupby([ df.industry, df.date.dt.year]).sum()\n",
        "df_industry = df_industry.reset_index()"
      ]
    },
    {
      "cell_type": "code",
      "execution_count": null,
      "metadata": {},
      "outputs": [],
      "source": [
        "plt.figure(figsize=(14, 10))\n",
        "plt.xticks(rotation=45)\n",
        "plt.title(\"Tổng số lượng sa thải của các ngành công nghiệp khác nhau trong từng năm\")\n",
        "sns.set(style=\"white\", palette=\"Accent\", color_codes=True)\n",
        "\n",
        "sns.barplot(data=df_industry.sort_values(by=['total_laid_off','date'], ascending=False), x=\"industry\", y=\"total_laid_off\", hue=\"date\")"
      ]
    },
    {
      "attachments": {},
      "cell_type": "markdown",
      "metadata": {},
      "source": [
        "Xu hướng sa thải hằng năm của thế giới cho thấy rằng:\n",
        "- Việc xa thải cao hơn vào năm 2020, sau đó giảm và năm 2021 và tăng vọt vào năm 2021.\n",
        "- Vào năm 2020, các ngành công nghiệp Transportation (vận tải) và Travel (du lịch) đã bị ảnh hưởng nhiều nhất bởi dịch COVID-19. Điều đó được thể hiện thông qua số lượng sa thải vào năm 2020. Nhưng 2 ngành này đã phục hồi vào những năm sau đó.\n",
        "- Các ngành công nghiệp Retail (bán lẻ), Consumer (tiêu dùng) và Food (thực phẩm) đã phải đối mặt với việc sa thải gia tăng mạnh mẽ qua các năm."
      ]
    },
    {
      "cell_type": "markdown",
      "metadata": {},
      "source": [
        "### <a id='toc1_1_7_'></a>[Theo từng năm, quốc gia có tổng số lượng sa thải lớn nhất:](#toc0_)"
      ]
    },
    {
      "cell_type": "code",
      "execution_count": null,
      "metadata": {},
      "outputs": [],
      "source": [
        "df_tmp['year'] = df_tmp['date'].dt.year\n",
        "layoff_year_country = df_tmp.groupby(['year','country']).sum().reset_index()[['year','country','total_laid_off']]"
      ]
    },
    {
      "cell_type": "code",
      "execution_count": null,
      "metadata": {},
      "outputs": [],
      "source": [
        "layoff_year_country = layoff_year_country.sort_values([\"year\",\"total_laid_off\"],ascending=False)"
      ]
    },
    {
      "cell_type": "code",
      "execution_count": null,
      "metadata": {},
      "outputs": [],
      "source": [
        "px.bar(layoff_year_country,x='year',y='total_laid_off',color='country',text='country',\n",
        "      title='Tổng lượng sa thải của từng năm theo quốc gia'\n",
        "      )"
      ]
    },
    {
      "attachments": {},
      "cell_type": "markdown",
      "metadata": {},
      "source": [
        "Từ biểu đồ trên ta thấy:\n",
        "- Tổng số lượng sa thải giảm trong giai đoạn từ 2020 sang 2021. Nhưng sau đó lại tăng mạnh vào giai đoạn 2022.\n",
        "- Với tất cả các năm 2020, 2021, 2022, 2023 thì United States luôn là quốc gia có số lượng sa thải lớn nhất. Thường chiếm gần 1/2 tổng số lượng sa thải của tất cả các quốc gia."
      ]
    },
    {
      "cell_type": "markdown",
      "metadata": {},
      "source": [
        "### <a id='toc1_1_8_'></a>[Mối quan hệ giữa total layoffs và funds raised của các công ty:](#toc0_)"
      ]
    },
    {
      "cell_type": "code",
      "execution_count": null,
      "metadata": {},
      "outputs": [],
      "source": [
        "funds_raised = df[(df.funds_raised<40000)][['total_laid_off', 'funds_raised']]"
      ]
    },
    {
      "cell_type": "code",
      "execution_count": null,
      "metadata": {},
      "outputs": [],
      "source": [
        "fig = plt.figure(figsize=(15,10))\n",
        "sns.regplot(data=df, x=funds_raised.total_laid_off, y=funds_raised.funds_raised)\n",
        "plt.title(\"Mối quan hệ giữa total layoffs và funds raised của các công ty\")\n",
        "plt.show()"
      ]
    },
    {
      "attachments": {},
      "cell_type": "markdown",
      "metadata": {},
      "source": [
        "Dựa vào biểu đồ Mối quan hệ của total laidoffs và funds raised:\n",
        "- Đa số các công ty có số funds raised vừa và ít thì cũng có total laidoffs vừa và thấp.\n",
        "- Những công ty có total laidoff cao, thậm chí là rất cao có funds raised rất thấp (gần bằng 0).\n",
        "- Ngược lại, những công ty có funds raised cao thì thường sẽ có total laidoff thấp."
      ]
    },
    {
      "cell_type": "markdown",
      "metadata": {},
      "source": [
        "### <a id='toc1_1_9_'></a>[Số lượng sa thải trên thế giới giai đoạn 2020 - 2023](#toc0_)"
      ]
    },
    {
      "cell_type": "code",
      "execution_count": null,
      "metadata": {},
      "outputs": [],
      "source": [
        "# group the data by country and industry and sum the total_laid_off column\n",
        "grouped = df.groupby(['country']).agg({'total_laid_off': 'sum'}).reset_index()\n",
        "# create a choropleth map using Plotly\n",
        "fig = px.choropleth(grouped, locations='country', locationmode='country names', color='total_laid_off',\n",
        "                    # color_continuous_scale='OrRd',\n",
        "                    color_continuous_scale='YlOrRd',\n",
        "                    hover_name='country', projection='natural earth', title='Number of People Laid Off by Country')\n",
        "\n",
        "# show the map\n",
        "fig.show()"
      ]
    },
    {
      "attachments": {},
      "cell_type": "markdown",
      "metadata": {},
      "source": [
        "Biểu đồ trên thể hiện tình hình người bị sa thải cụ thể ở các đất nước trên thế giới. Cụ thể:\n",
        "- Đất nước đang đứng dưới nguy cơ lớn về việc chuyển đổi nhân sự là Mỹ với thống kê khoảng 250.000 người mất việc.\n",
        "- Các đất nước khác thì có tỉ lệ ít đáng kể so với Mỹ, như với Ấn Độ với khoảng 35.953 người mất việc, Brazil 10.391 người, Canada 6.319 người, các đất nước còn lại với con số không đáng kể."
      ]
    },
    {
      "cell_type": "markdown",
      "metadata": {},
      "source": [
        "*Vì số lượng ngành nghề khá nhiều để visualize, nên ta sẽ nhóm các ngành nghề thành các nhóm ngành*"
      ]
    },
    {
      "cell_type": "code",
      "execution_count": null,
      "metadata": {},
      "outputs": [],
      "source": [
        "# Mapping industries into groups\n",
        "industry_to_sector = {\n",
        "    'CRYPTO': 'Technology',\n",
        "    'DATA': 'Technology',\n",
        "    'HARDWARE': 'Technology',\n",
        "    'SOFTWARE': 'Technology',\n",
        "    'HEALTHCARE': 'Healthcare',\n",
        "    'FITNESS': 'Healthcare',\n",
        "    'RETAIL': 'Retail',\n",
        "    'FOOD': 'Retail',\n",
        "    'FINANCE': 'Finance',\n",
        "    'EDUCATION': 'Education',\n",
        "    'MEDIA': 'Media',\n",
        "    'TRANSPORTATION': 'Transportation and Logistics',\n",
        "    'LOGISTICS': 'Transportation and Logistics',\n",
        "    'INFRASTRUCTURE': 'Other',\n",
        "    'PRODUCT': 'Other',\n",
        "    'CONSTRUCTION': 'Other',\n",
        "    'OTHER': 'Other',\n",
        "    'LEGAL': 'Other',\n",
        "    'REAL ESTATE': 'Other',\n",
        "    'HR': 'Other',\n",
        "    'RECRUITING': 'Other',\n",
        "    'SALES': 'Sales',\n",
        "    'AEROSPACE': 'Other',\n",
        "    'SECURITY': 'Other'\n",
        "}"
      ]
    },
    {
      "cell_type": "markdown",
      "metadata": {},
      "source": [
        "### <a id='toc1_1_10_'></a>[Tình hình sa thải trong các ngành ở các quốc gia](#toc0_)"
      ]
    },
    {
      "cell_type": "code",
      "execution_count": null,
      "metadata": {},
      "outputs": [],
      "source": [
        "df_sub=df.copy()\n",
        "df_sub['sector'] = df_sub['industry'].map(industry_to_sector)\n",
        "\n",
        "# Group the data by country and industry and calculate the total number of layoffs\n",
        "grouped = df_sub.groupby(['country', 'sector'])['total_laid_off'].sum()\n",
        "\n",
        "# Reshape the data to create a pivot table with countries as rows, industries as columns, and total layoffs as values\n",
        "pivoted = grouped.reset_index().pivot(index='country', columns='sector', values='total_laid_off')\n",
        "\n",
        "# Create the stacked bar chart\n",
        "fig, ax = plt.subplots(figsize=(12, 8))\n",
        "pivoted.plot(kind='bar', stacked=True, ax=ax)\n",
        "\n",
        "# Set the y-axis scale to a log scale\n",
        "ax.set_yscale('log')\n",
        "\n",
        "# Set the title and axis labels\n",
        "plt.title('Total Layoffs by Sector and Country')\n",
        "plt.xlabel('Country')\n",
        "plt.ylabel('Total Layoffs')\n",
        "\n",
        "# Show the plot\n",
        "plt.show()"
      ]
    },
    {
      "attachments": {},
      "cell_type": "markdown",
      "metadata": {},
      "source": [
        "Nhóm các ngành nghề có liên quan thành các lĩnh vực: **Technology, Healthcare, Retail, Finance, Education, Media, Transportation and Logistics, Other, Sales**.\\\n",
        "Biểu diễn bằng biểu đồ cột chồng cho thấy tỉ lệ các lĩnh vực xuất hiện sa thải ở từng quốc gia, *biểu thị đầy đủ về các lĩnh vực* đang được tác động trong một đất nước như thế nào.\\\n",
        "Các yếu tố đáng chú ý về tỷ lệ sa thải có thể bao gồm:\n",
        "- Ấn Độ là quốc gia gặp phải vấn đề sa thải nghiêm trọng nhất liên quan đến giáo dục.\n",
        "- Netherlands chỉ gặp vấn đề ở 2 lĩnh vực chính là Healthcare và Finance.\n",
        "- Lĩnh vực Finance có nguy cơ bị sa thải cao nhất và bị ảnh hưởng tại hầu hết các quốc gia."
      ]
    },
    {
      "cell_type": "markdown",
      "metadata": {},
      "source": [
        "### <a id='toc1_1_11_'></a>[Các quốc gia đang dẫn đầu trong làn sóng sa thải ở từng lĩnh vực](#toc0_)"
      ]
    },
    {
      "cell_type": "code",
      "execution_count": null,
      "metadata": {},
      "outputs": [],
      "source": [
        "# Map industries to sectors in the DataFrame\n",
        "df['sector'] = df['industry'].map(industry_to_sector)\n",
        "\n",
        "# Group the data by sector and country\n",
        "grouped = df.groupby(['sector', 'country'])['total_laid_off'].sum().reset_index()\n",
        "\n",
        "\n",
        "fig= plt.figure(figsize=(12,13))\n",
        "# Loop through the sectors and create a bar chart for each one\n",
        "for index, sector in enumerate(grouped['sector'].unique()):\n",
        "\n",
        "    # Filter the data for the current sector\n",
        "    sector_data = grouped[grouped['sector'] == sector]\n",
        "    \n",
        "    # Sort the data by total layoffs for each country in the sector\n",
        "    sorted_data = sector_data.sort_values('total_laid_off', ascending=False)\n",
        "    \n",
        "    # Filter to include only the top 5 countries\n",
        "    top_5 = sorted_data.head(5)\n",
        "    \n",
        "    # Create the bar chart\n",
        "    ax = fig.add_subplot(4,3,index+1)\n",
        "    ax = sns.barplot(data=top_5,\n",
        "                     x= \"country\",\n",
        "                     y='total_laid_off')\n",
        "    # ax.bar(top_5['country'], top_5['total_laid_off'])\n",
        "    ax.set_title(f'Top 5 total Layoffs in {sector}')\n",
        "    if index % 3 ==0 : ax.set_ylabel('Total LayOffs')\n",
        "    ax.tick_params(axis='x')\n",
        "    plt.xticks(fontsize=7,rotation=30)\n",
        "\n",
        "\n",
        "top_n_countries = 10\n",
        "# create a chart that ranks countries based on their total layoffs in all industries\n",
        "all_data = df.groupby('country')['total_laid_off'].sum().nlargest(top_n_countries)\n",
        "\n",
        "\n",
        "# fig.subplots_adjust(left=0.1, bottom=0.2)\n",
        "sns.barplot(data=all_data.to_frame().reset_index(),x=\"country\", y =\"total_laid_off\")\n",
        "# ax.bar(all_data.index, all_data.values)\n",
        "ax.set_title(f'Top {top_n_countries} Total Layoffs')\n",
        "ax.set_xlabel('Country')\n",
        "ax.set_ylabel('Total Laid Off')\n",
        "ax.set_yscale('log')\n",
        "\n",
        "# add padding between subplots and adjust layout\n",
        "plt.tight_layout(pad=2)\n",
        "# add margin between rows\n",
        "fig.subplots_adjust(hspace=0.5)\n",
        "plt.show()"
      ]
    },
    {
      "attachments": {},
      "cell_type": "markdown",
      "metadata": {},
      "source": [
        "Từ những nhóm lĩnh vực mà ta đã chia, ta có các biểu đồ cột thể hiện những quốc gia với số lượng sa thải nhân viên ***đạt top đầu***.\\\n",
        "Dễ thấy Mỹ là quốc gia đứng đầu trong tất cả các bảng cho thấy tỉ lệ sa thải ở đất nước này là *đáng báo động*.\\\n",
        "Đặc biệt đáng quan tâm về tỉ lệ bị sa thải của trong các ngành công nghệ liên quan tới Sales, Retail, Technology."
      ]
    },
    {
      "cell_type": "code",
      "execution_count": null,
      "metadata": {},
      "outputs": [],
      "source": [
        "plt.figure(figsize=(14, 8))\n",
        "pivot_df = pd.pivot_table(df, values='total_laid_off', columns=['country'], index=['industry'], aggfunc='sum')\n",
        "# sns.heatmap(pivot_df, cmap='YlGnBu')\n",
        "\n",
        "sns.heatmap(pivot_df, cmap='YlGnBu', norm=colors.LogNorm())\n",
        "plt.title('Số lượng nhân viên bị cho nghỉ việc ở các quốc gia')"
      ]
    },
    {
      "attachments": {},
      "cell_type": "markdown",
      "metadata": {},
      "source": [
        "**Heat map** trực quan số lượng nhân viên bị cho nghỉ việc ở các quốc gia.\\\n",
        "Mỹ đứng đầu ở hầu hết mọi lĩnh vực.\\\n",
        "Tiếp đến là Ấn Độ với các ngành như: Consumer, Education, Food, Finance, Transportation."
      ]
    },
    {
      "cell_type": "markdown",
      "metadata": {},
      "source": [
        "#### <a id='toc1_1_11_1_'></a>[Ngành nào đang có số lượng layoff cao nhất trên thế giới](#toc0_)"
      ]
    },
    {
      "cell_type": "code",
      "execution_count": null,
      "metadata": {},
      "outputs": [],
      "source": [
        "industry_grouped = df.groupby([\"industry\"])[\"total_laid_off\"].sum().reset_index()\n",
        "\n",
        "plt.figure(figsize=(14, 8))\n",
        "plt.xticks(rotation=90)\n",
        "sns.barplot(df,x=\"industry\",y=\"total_laid_off\", errorbar=None)\n",
        "# dùng industry_grouped mới đúng"
      ]
    },
    {
      "attachments": {},
      "cell_type": "markdown",
      "metadata": {},
      "source": [
        "Ở thời điểm hiện tại xét trên những mảng của các công ty công nghệ, nhận thấy là các công ty chuyên Hardware đang có lượng người bị sa thải nhiều nhất (gấp hơn 2 lần so với công ty đứng vị trí thứ 2).\\\n",
        "Một số nguyên nhân chính của nó là do: sự cạnh tranh, nhu cầu thị trường thay đổi, giảm thiểu chi phí bảo trì và sửa chữa bằng cách tạo ra các sản phẩm dễ dàng sửa chữa, tác động của đại dịch COVID-19."
      ]
    },
    {
      "attachments": {},
      "cell_type": "markdown",
      "metadata": {},
      "source": [
        "#### <a id='toc1_1_11_2_'></a>[Xét tất cả các ngành, dùng biểu đồ cột thể hiện số lượng quốc gia có ngành nghề đó layoff top đầu / cuối. ](#toc0_)\n",
        "\n",
        "Các bước thực hiện: \n",
        "- Ta gom nhóm các Industry, sau đó đếm số lượng country laid off (có unique để đảm bảo 1 country không được đếm quá 1 lần) \n",
        "\n",
        "* dữ liệu trong df đã thông qua xử lý, chỉ có các trường hợp laid off\n",
        "\n",
        "Nhận xét:\n",
        "- Industry có số lượng country laid off cao nhất là finance (số lượng: 20) và food (số lượng: 20)\n",
        "- Industry có số lượng country laid off thấp nhất là manufacturing (số lượng: 1)"
      ]
    },
    {
      "cell_type": "code",
      "execution_count": null,
      "metadata": {},
      "outputs": [],
      "source": [
        "# df_industry = df.groupby(\"industry\")[\"country\"].agg([\"count\"]).sort_values(\"count\")\n",
        "\n",
        "\n",
        "df_industry = df.groupby(\"industry\").agg({\"country\": pd.Series.nunique}).sort_values(\"country\")\n",
        "# print(df_industry)\n",
        "\n",
        "print(\"industry max: \",df_industry[df_industry[\"country\"]==df_industry[\"country\"].max()], \"\\n\")\n",
        "print(\"industry min: \",df_industry[df_industry[\"country\"]==df_industry[\"country\"].min()], \"\\n\")\n",
        "\n",
        "ax = df_industry.plot.bar()\n",
        "ax.set_xlabel=\"industry\"\n",
        "ax.set_ylabel=\"total countries\"\n",
        "ax.set_title=\"Total laid off group by industry\"\n"
      ]
    },
    {
      "cell_type": "markdown",
      "metadata": {},
      "source": [
        "#### <a id='toc1_1_11_3_'></a>[Thêm total_employee để chọn ra top company theo quy mô nhân sự. Từ đây phát triễn các phân tích trên nhóm top company.](#toc0_)"
      ]
    },
    {
      "cell_type": "code",
      "execution_count": null,
      "metadata": {},
      "outputs": [],
      "source": [
        "n=10\n",
        "\n",
        "top_n_biggest_companies =list(df_with_total_employees.groupby(\"company\")\\\n",
        "                                                .agg({\"total_employees\": \"max\"})\\\n",
        "                                                .sort_values(\"total_employees\",ascending=False)[:n]\\\n",
        "                                                .index)\n",
        "\n",
        "\n",
        "plt.figure(figsize=(14, 8))\n",
        "plt.xticks(size=10)\n",
        "plt.title(\"Tổng nhân viên trong các tập đoàn lớn\",size=14)\n",
        "sns.barplot(df_with_total_employees[df_with_total_employees['company'].isin(top_n_biggest_companies)],\n",
        "            x=\"company\",\n",
        "            y=\"total_employees\",\n",
        "            errorbar=None,\n",
        "            estimator=\"sum\")\n",
        "\n",
        "\n",
        "plt.figure(figsize=(14, 8))\n",
        "plt.xticks(size=10)\n",
        "plt.title(\"Tổng nhân sự sa thải trong các tập đoàn lớn\",size=14)\n",
        "sns.barplot(df_with_total_employees[df_with_total_employees['company'].isin(top_n_biggest_companies)],\n",
        "            x=\"company\",\n",
        "            y=\"total_laid_off\",\n",
        "            errorbar=None,\n",
        "            estimator=\"sum\")"
      ]
    },
    {
      "cell_type": "code",
      "execution_count": null,
      "metadata": {},
      "outputs": [],
      "source": [
        "df_with_total_employees.describe()['total_laid_off']"
      ]
    },
    {
      "attachments": {},
      "cell_type": "markdown",
      "metadata": {},
      "source": [
        "Trong top 10 công ty lớn, số lượng sa thải đạt thấp nhất là khoảng 2200 người. Nhận thấy được là các tập đoàn lớn có xu hướng sa thải nhân viên cao hơn mức bình quân của toàn bộ các công ty trong tập dữ liệu (272 người)."
      ]
    },
    {
      "cell_type": "markdown",
      "metadata": {},
      "source": [
        "#### <a id='toc1_1_11_4_'></a>[Khám phá dữ liệu thực tế](#toc0_)"
      ]
    },
    {
      "attachments": {},
      "cell_type": "markdown",
      "metadata": {},
      "source": [
        "##### <a id='toc1_1_11_4_1_'></a>[Địa điểm tiêu biểu nơi xảy ra layoff](#toc0_)"
      ]
    },
    {
      "cell_type": "code",
      "execution_count": null,
      "metadata": {},
      "outputs": [],
      "source": [
        "\n",
        "plt.figure(facecolor='k')\n",
        "wordcloud = WordCloud(width=400, height=200,max_font_size=100).generate(' '.join(df['location']))\n",
        "\n",
        "plt.imshow(wordcloud,interpolation=\"bilinear\")\n",
        "plt.axis(\"off\")\n",
        "plt.tight_layout(pad=0)\n",
        "plt.show()"
      ]
    },
    {
      "attachments": {},
      "cell_type": "markdown",
      "metadata": {},
      "source": [
        "San Francisco area bay với Silicon Valley nổi tiếng lại cũng là nơi diễn ra layoff nhiều nhất :("
      ]
    },
    {
      "attachments": {},
      "cell_type": "markdown",
      "metadata": {},
      "source": [
        "##### <a id='toc1_1_11_4_2_'></a>[Số lượng layoff theo thời gian](#toc0_)"
      ]
    },
    {
      "cell_type": "code",
      "execution_count": null,
      "metadata": {},
      "outputs": [],
      "source": [
        "df_clean_total_lo=df[df['total_laid_off']>0]\n",
        "df_clean_total_lo['date'].min()\n",
        "df_clean_total_lo['date'].max()\n",
        "df_clean_total_lo['month_year'] = pd.to_datetime(df_clean_total_lo['date']).dt.strftime('%Y-%m')\n",
        "total_by_month_year = df_clean_total_lo.groupby('month_year').sum()['total_laid_off']\n",
        "total_by_month_year.reindex(pd.period_range('2020-01',total_by_month_year.index[-1],freq='M'))\n",
        "total_by_month_year.fillna(0.0)\n",
        "total_by_month_year.max()"
      ]
    },
    {
      "cell_type": "code",
      "execution_count": null,
      "metadata": {},
      "outputs": [],
      "source": [
        "df_total_employees_time=df_with_total_employees[df_with_total_employees.total_laid_off>0]\n",
        "df_total_employees_time['year']=df_total_employees_time['date'].apply(lambda x :x.year)\n",
        "df_total_employees_time['month']=df_total_employees_time['date'].apply(lambda x :x.month)\n",
        "df_total_employees_time['month_year'] = pd.to_datetime(df_total_employees_time['date']).dt.strftime('%Y-%m')\n",
        "\n"
      ]
    },
    {
      "cell_type": "code",
      "execution_count": null,
      "metadata": {},
      "outputs": [],
      "source": [
        "total_by_time=df_total_employees_time.groupby('month_year').sum()['total_laid_off']\n",
        "\n",
        "fig, ax = plt.subplots( figsize=(12, 7), tight_layout=True)\n",
        "fig.tight_layout(pad=5.0)\n",
        "plt.plot(total_by_time.index,total_by_time.values)\n",
        "plt.xlabel('Date')\n",
        "plt.ylabel('Total laid off')\n",
        "plt.title('Số người bị sa thải qua từng thời điểm')\n",
        "\n",
        "\n",
        "x_max=np.where(total_by_time == total_by_time.max())[0]\n",
        "y_max=total_by_time.max()\n",
        "plt.annotate(f'{int(y_max)} employees laid off', xy=(x_max, y_max), xytext=(x_max-10, y_max),arrowprops=dict(arrowstyle='->',color='red'))\n",
        "\n",
        "# beautify the x-labels\n",
        "plt.gcf().autofmt_xdate()\n",
        "plt.xticks(fontsize=8)\n",
        "\n",
        "\n",
        "print(f\"Số lượng lay off nhiều nhất trong 1 tháng: {y_max} người\")"
      ]
    },
    {
      "attachments": {},
      "cell_type": "markdown",
      "metadata": {},
      "source": [
        "Làng sóng layoff diễn ra mạnh mẽ nhất từ tháng 9 2022 và đạt đỉnh vào tháng 1 2023 với tổng cộng gần 80 ngàn người bị sa thải trong 1 tháng."
      ]
    },
    {
      "attachments": {},
      "cell_type": "markdown",
      "metadata": {},
      "source": [
        "##### <a id='toc1_1_11_4_3_'></a>[Số lượng layoff theo tháng](#toc0_)"
      ]
    },
    {
      "cell_type": "code",
      "execution_count": null,
      "metadata": {},
      "outputs": [],
      "source": [
        "\n",
        "analysis_year = df_total_employees_time.groupby([\"year\"],sort=True)\n",
        "fig, ax = plt.subplots( figsize=(9, 7), tight_layout=True)\n",
        "fig.tight_layout(pad=5.0)\n",
        "for year, dfx in analysis_year:\n",
        "    df_m=dfx.groupby('month').sum()['total_laid_off']\n",
        "    plt.plot(df_m.index,df_m.values,label=f'{year}')\n",
        "\n",
        "plt.xticks(np.arange(1, 13, 1))\n",
        "plt.xlabel('Month')    \n",
        "plt.ylabel('Total laid off')   \n",
        "plt.title('Số người bị sa thải theo tháng') \n",
        "plt.legend()\n"
      ]
    },
    {
      "attachments": {},
      "cell_type": "markdown",
      "metadata": {},
      "source": [
        "Tháng 11 và tháng 1 là hai thời điểm có nhiều người bị sa thải nhất. Nhìn rộng hơn thì quý 1 và quý 4 là những thời điểm có lượng sa thải lớn nhất."
      ]
    },
    {
      "attachments": {},
      "cell_type": "markdown",
      "metadata": {},
      "source": [
        "## <a id='toc1_2_'></a>[Liệu có đợt layoff này diễn ra vào holiday week?](#toc0_)"
      ]
    },
    {
      "attachments": {},
      "cell_type": "markdown",
      "metadata": {},
      "source": [
        "*holiday week: Tuần lễ cuối cùng của năm gồm cả Christmas (25/12) và ngày đầu năm mới (01/01). Đây là dịp lễ lớn ở các nước phương tây."
      ]
    },
    {
      "cell_type": "code",
      "execution_count": null,
      "metadata": {},
      "outputs": [],
      "source": [
        "df_time=df.set_index('date',drop=True)\n",
        "holiday_laid_off_2021=df_time['2020-12-24':'2021-01-01']\n",
        "holiday_laid_off_2022=df_time['2021-12-24':'2022-01-01']\n",
        "holiday_laid_off_2023=df_time['2022-12-24':'2023-01-01']"
      ]
    },
    {
      "cell_type": "code",
      "execution_count": null,
      "metadata": {},
      "outputs": [],
      "source": [
        "print(holiday_laid_off_2021)"
      ]
    },
    {
      "cell_type": "code",
      "execution_count": null,
      "metadata": {},
      "outputs": [],
      "source": [
        "print(holiday_laid_off_2022)"
      ]
    },
    {
      "cell_type": "code",
      "execution_count": null,
      "metadata": {},
      "outputs": [],
      "source": [
        "print(holiday_laid_off_2023)"
      ]
    },
    {
      "attachments": {},
      "cell_type": "markdown",
      "metadata": {},
      "source": [
        "Kết quả ta thấy cuối năm 2022 có 4 công ty cho một số lượng khá lớn nhân viên nghỉ khỏe ngay trong thời gian diễn ra trong holiday week 😥."
      ]
    },
    {
      "attachments": {},
      "cell_type": "markdown",
      "metadata": {},
      "source": [
        "### <a id='toc1_2_1_'></a>[Tình hình layoff ở Việt Nam](#toc0_)"
      ]
    },
    {
      "cell_type": "code",
      "execution_count": null,
      "metadata": {},
      "outputs": [],
      "source": [
        "print(df[df.country=='VIETNAM'])"
      ]
    },
    {
      "attachments": {},
      "cell_type": "markdown",
      "metadata": {},
      "source": [
        "Ta thấy có 3 đợt sa thải được ghi nhận tại Việt Nam đến từ 2 công ty."
      ]
    },
    {
      "cell_type": "markdown",
      "metadata": {},
      "source": [
        "### <a id='toc1_2_2_'></a>[Với mỗi đợt sa thải, các công ty thường cho nghỉ bao nhiêu phần trăm nhân sự?](#toc0_)"
      ]
    },
    {
      "cell_type": "code",
      "execution_count": null,
      "metadata": {},
      "outputs": [],
      "source": [
        "df_clean_percentage=df[df['percentage_laid_off']>0]\n",
        "df_clean_percentage['percentage_laid_off']=df_clean_percentage['percentage_laid_off']*100\n",
        "df_clean_percentage['percentage_lo_range']=pd.cut(x=df_clean_percentage['percentage_laid_off'], bins=[0, 10, 20, 30,\n",
        "                                          40,50,60,70,80,90,100],labels=['0-10', '10-20', '20-30',\n",
        "                                          '30-40','40-50','50-60','60-70','70-80','80-90','90-100'],include_lowest=True)"
      ]
    },
    {
      "cell_type": "code",
      "execution_count": null,
      "metadata": {},
      "outputs": [],
      "source": [
        "fig, ax = plt.subplots(figsize=(10, 6), tight_layout=True)\n",
        "fig.tight_layout(pad=5.0)\n",
        "ax.set_xticks(np.arange(0, 101, 10))\n",
        "ax.set_title( 'Số đợt sa thải theo quy mô phần trăm nhân sự mỗi đợt',wrap=True,pad=10)\n",
        "ax.set_xlabel('percentage laid off (%)')\n",
        "ax.set_ylabel('Number of times laid off happend')\n",
        "sns.histplot(df_clean_percentage['percentage_laid_off'], kde=True, bins=50)"
      ]
    },
    {
      "attachments": {},
      "cell_type": "markdown",
      "metadata": {},
      "source": [
        "Ta thấy biểu đồ có 2 đỉnh. Đỉnh lớn nằm quanh 10% cho ta nhận định với mỗi đợt sa thải thì khoảng 10% nhân sự là con số ưu thích của các công ty. Biểu đồ lệch trái cho thấy các công ty có xu hướng luôn có gắng để sa thải ít hơn 50% nhân sự mỗi đợt. Điều thú vị khác là đỉnh thứ 2 nằm ở mức 100%. Điều này có thể liên quan đến các công ty quy nhỏ, toàn bộ các thành viên gắng kết với nhau đến những giây phút cuối cùng ?!?"
      ]
    },
    {
      "cell_type": "markdown",
      "metadata": {},
      "source": [
        "### <a id='toc1_2_3_'></a>[Top 20 công ty có tổng % số lượng nhân sự bị sa thải nhiều nhất](#toc0_)"
      ]
    },
    {
      "cell_type": "code",
      "execution_count": null,
      "metadata": {},
      "outputs": [],
      "source": [
        "fig, ax = plt.subplots( figsize=(9, 5), tight_layout=True)\n",
        "fig.tight_layout(pad=5.0)\n",
        "top_20 = df.groupby(['company','location']).sum().sort_values(by='percentage_laid_off',ascending=False).head(20)['percentage_laid_off'] * 100.0\n",
        "top_20.plot(kind='barh',ax=ax)\n",
        "ax.set_title('Top 20 công ty sai thải nhân sự nhiều nhất theo tổng tỉ lệ phần trăm')\n",
        "ax.set_xlabel('percentage laid off (%)')\n",
        "ax.set_ylabel('Company')"
      ]
    },
    {
      "cell_type": "markdown",
      "metadata": {},
      "source": [
        "Ta có thể thấy là có nhiều công ty sa thải với tổng hơn cả 100% nhân sự. Nguyên do là vì họ đã sa thải- tuyển lại và tiếp tục sa thải tiếp trong nhiều đợt . Một ví dụ là công ty `Air rooms`, ngày 2020-04-22 họ sa thải 70% nhân sự và sau đó vào ngày 2020-05-07 họ tiếp tục sa thải toàn bộ 100% nhân sự. Cá biệt có công ty `Service` trụ sở tại Los Angeles đã sai thải 2 lần với quy mô mỗi lần là 100% nhân sự chỉ cách nhau vài ngày 💀."
      ]
    },
    {
      "cell_type": "code",
      "execution_count": null,
      "metadata": {},
      "outputs": [],
      "source": [
        "print(df[df.company=='AIRY ROOMS'])\n",
        "print(df[df.company=='SERVICE'])"
      ]
    },
    {
      "cell_type": "markdown",
      "metadata": {},
      "source": [
        "### <a id='toc1_2_4_'></a>[Tìm hiểu về các công ty sa thải hơn 50% nhân sự trong các đợt](#toc0_)"
      ]
    },
    {
      "cell_type": "code",
      "execution_count": null,
      "metadata": {},
      "outputs": [],
      "source": [
        "more_than_50percent_laid_off=df_clean_percentage[df_clean_percentage.percentage_laid_off>=50]\n",
        "# số lần sa thải có quy mô > 50% nhân viên\n",
        "n_more_than_50percent_laid_off=more_than_50percent_laid_off.shape[0]\n",
        "\n",
        "# số lần sa thải có quy mô 100% nhân viên\n",
        "laid_off_all_employees =df_clean_percentage[df_clean_percentage.percentage_laid_off==100]\n",
        "n_laid_off_all_employees = laid_off_all_employees.shape[0]\n",
        "print(\"Tổng số đợt sa thải >50% nhân sự: \"+str(n_more_than_50percent_laid_off))\n",
        "print(\"Tổng số đợt sa thải 100% nhân sự: \"+str(n_laid_off_all_employees))"
      ]
    },
    {
      "cell_type": "code",
      "execution_count": null,
      "metadata": {},
      "outputs": [],
      "source": [
        "fig, (ax1, ax2) = plt.subplots(1, 2, figsize=(12, 5), tight_layout=True)\n",
        "fig.tight_layout(pad=5.0)\n",
        "#pie chart\n",
        "pie_lb=['\\n'.join(wrap('Vẫn còn nhân sự', 15)),'\\n'.join(wrap('Toàn bộ nhân sự đã bị sa thải', 15))]\n",
        "ax1.pie([n_more_than_50percent_laid_off-n_laid_off_all_employees,n_laid_off_all_employees],labels=pie_lb,autopct='%.0f%%',counterclock=False, startangle=-270,colors=['#F1C40F','#E74C3C'])\n",
        "ax1.set_title('Tình trạng nhân sự của các công ty có hơn 50% nhân viên bị sa thải',wrap=True)\n",
        "\n",
        "#histogram\n",
        "ax2.hist(more_than_50percent_laid_off['stage'],alpha=0.9)\n",
        "plt.xticks(rotation=45, size=10)\n",
        "ax2.set_xlabel('Stage')\n",
        "ax2.set_ylabel('Number of companies')\n",
        "ax2.set_title('Phân bố theo Stage của các công ty có hơn 50% nhân viên bị sa thải',wrap=True)\n",
        "plt.show()"
      ]
    },
    {
      "attachments": {},
      "cell_type": "markdown",
      "metadata": {},
      "source": [
        "Dựa vào biểu đồ tròn ta thấy rằng, một khi đã sa thải hơn 50% nhân sự thì có tới hơn 53% đó sẽ là những lần sa thải toàn bộ 100% nhân sự. \n",
        "Nhìn vào biểu đồ histogram ta thấy rằng đa số những công ty thuộc nhóm ra thải nhiều này chủ yếu không có thông tin về `stage` hoặc thuộc những giai đoạn khởi đầu (`Seed`, `SeriesA`...). Những công ty này thiếu sự ổn định."
      ]
    },
    {
      "cell_type": "markdown",
      "metadata": {},
      "source": [
        "### <a id='toc1_2_5_'></a>[Tìm hiểu quan hệ giữa total_laid_off,percentage_laid_off,funds_raised,total_employees](#toc0_)"
      ]
    },
    {
      "cell_type": "code",
      "execution_count": null,
      "metadata": {},
      "outputs": [],
      "source": [
        "# xữ lý các dòng có giá trị 0\n",
        "df_cor=df_with_total_employees[(df_with_total_employees != 0).all(1)]\n",
        "df_cor.reset_index(drop=True)\n",
        "\n",
        "# lấy 4 cột 'total_laid_off','percentage_laid_off','funds_raised','total_employees' để so sánh correlation\n",
        "df_cor=df_cor.loc[:,['total_laid_off','percentage_laid_off','funds_raised','total_employees']]\n",
        "df_cor.shape[0]"
      ]
    },
    {
      "cell_type": "code",
      "execution_count": null,
      "metadata": {},
      "outputs": [],
      "source": [
        "# vẽ correlation map\n",
        "corr = df_cor.corr()\n",
        "sns.heatmap(corr,\n",
        "    cmap=sns.diverging_palette(220, 10, as_cmap=True),\n",
        "    vmin=-1.0, vmax=1.0,\n",
        "    square=True)"
      ]
    },
    {
      "attachments": {},
      "cell_type": "markdown",
      "metadata": {},
      "source": [
        "Ta thấy rằng `total_employees` và `total_laid_off` có quan hệ phụ thuộc mạnh còn các cặp feature còn lại gần như không có quan hệ."
      ]
    }
  ],
  "metadata": {
    "kernelspec": {
      "display_name": "Python 3",
      "language": "python",
      "name": "python3"
    },
    "language_info": {
      "codemirror_mode": {
        "name": "ipython",
        "version": 3
      },
      "file_extension": ".py",
      "mimetype": "text/x-python",
      "name": "python",
      "nbconvert_exporter": "python",
      "pygments_lexer": "ipython3",
      "version": "3.9.12"
    },
    "orig_nbformat": 4
  },
  "nbformat": 4,
  "nbformat_minor": 2
}
