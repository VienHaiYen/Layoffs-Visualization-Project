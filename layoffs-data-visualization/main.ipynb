{
 "cells": [
  {
   "attachments": {},
   "cell_type": "markdown",
   "metadata": {},
   "source": [
    "# LAB 01: LAYOFFS 2023"
   ]
  },
  {
   "attachments": {},
   "cell_type": "markdown",
   "metadata": {},
   "source": [
    "## Mô tả đồ án:\n",
    "- Từ nguồn dữ liệu lấy được từ Kaggle về vấn đề sa thải nhân viên ở các công ty trên toàn thế giới, đồ án này nhằm mục đích phân tích dữ liệu đã có để có được cái nhìn khách quan hơn về vấn đề này."
   ]
  },
  {
   "attachments": {},
   "cell_type": "markdown",
   "metadata": {},
   "source": [
    "---"
   ]
  },
  {
   "attachments": {},
   "cell_type": "markdown",
   "metadata": {},
   "source": [
    "### Import các thư viện"
   ]
  },
  {
   "cell_type": "code",
   "execution_count": 22,
   "metadata": {},
   "outputs": [],
   "source": [
    "import numpy as np\n",
    "import pandas as pd\n",
    "import seaborn as sns\n",
    "import matplotlib.pyplot as plt"
   ]
  },
  {
   "attachments": {},
   "cell_type": "markdown",
   "metadata": {},
   "source": [
    "---"
   ]
  },
  {
   "attachments": {},
   "cell_type": "markdown",
   "metadata": {},
   "source": [
    "### <span style=\"color:yellow\"> A. Thu thập dữ liệu</span>\n"
   ]
  },
  {
   "attachments": {},
   "cell_type": "markdown",
   "metadata": {},
   "source": [
    "#### Ngữ cảnh thực hiện tìm kiếm dữ liệu"
   ]
  },
  {
   "attachments": {},
   "cell_type": "markdown",
   "metadata": {},
   "source": [
    "Sau dịch covid 19, các công ty công nghệ trên toàn cầu đang đối mặt với sự suy thoái kinh tế. Sự chậm lại của chi tiêu từ người tiêu dùng, lãi suất cao hơn từ các ngân hàng trung ương và sức mạnh của đồng đô la ngoại tệ đang gợi ý về khả năng xảy ra suy thoái kinh tế và các công ty công nghệ đã bắt đầu **cắt giảm nhân sự**."
   ]
  },
  {
   "attachments": {},
   "cell_type": "markdown",
   "metadata": {},
   "source": [
    "#### Chủ đề"
   ]
  },
  {
   "attachments": {},
   "cell_type": "markdown",
   "metadata": {},
   "source": [
    "Phân tích tình trạng hỗn loạn công nghệ gần đây thông qua số liệu về việc sa thải nhân sự, từ đó rút ra được những thông tin hữu ích."
   ]
  },
  {
   "attachments": {},
   "cell_type": "markdown",
   "metadata": {},
   "source": [
    "#### Nguồn\n",
    "Dữ liệu được lấy trên Kaggle dưới file csv, đường link dẫn đến  [Ở đây](https://www.kaggle.com/datasets/swaptr/layoffs-2022?resource=download)"
   ]
  },
  {
   "attachments": {},
   "cell_type": "markdown",
   "metadata": {},
   "source": [
    "#### Người ta có cho phép sử dụng dữ liệu như thế này hay không?"
   ]
  },
  {
   "attachments": {},
   "cell_type": "markdown",
   "metadata": {},
   "source": [
    "Thông tin License của dữ liệu: Open Database.\n",
    "\n",
    "Theo thông tin License của dữ liệu, người dùng được phép tự do chia sẻ, sửa đổi và sử dụng dữ liệu trong khi duy trì sự tự do tương tự cho người dùng khác."
   ]
  },
  {
   "attachments": {},
   "cell_type": "markdown",
   "metadata": {},
   "source": [
    "#### Người ta đã thu thập dữ liệu này như thế nào? Phương pháp thực hiện là gì?"
   ]
  },
  {
   "attachments": {},
   "cell_type": "markdown",
   "metadata": {},
   "source": [
    "Dữ liệu được thu thập bằng cách theo dõi số liệu được báo cáo trên các nền tảng:\n",
    "- Bloombreg\n",
    "- San Francisco Business Times\n",
    "- TechCrunch\n",
    "- The New York Times\n",
    "\n",
    "Phương pháp thu thập dữ liệu: Dữ liệu được tải xuống từ Layoffs.fyi Tracker và được biên soạn thành 1 file CSV."
   ]
  },
  {
   "attachments": {},
   "cell_type": "markdown",
   "metadata": {},
   "source": [
    "#### Đọc dữ liệu"
   ]
  },
  {
   "cell_type": "code",
   "execution_count": 23,
   "metadata": {},
   "outputs": [
    {
     "data": {
      "text/html": [
       "<div>\n",
       "<style scoped>\n",
       "    .dataframe tbody tr th:only-of-type {\n",
       "        vertical-align: middle;\n",
       "    }\n",
       "\n",
       "    .dataframe tbody tr th {\n",
       "        vertical-align: top;\n",
       "    }\n",
       "\n",
       "    .dataframe thead th {\n",
       "        text-align: right;\n",
       "    }\n",
       "</style>\n",
       "<table border=\"1\" class=\"dataframe\">\n",
       "  <thead>\n",
       "    <tr style=\"text-align: right;\">\n",
       "      <th></th>\n",
       "      <th>company</th>\n",
       "      <th>location</th>\n",
       "      <th>industry</th>\n",
       "      <th>total_laid_off</th>\n",
       "      <th>percentage_laid_off</th>\n",
       "      <th>date</th>\n",
       "      <th>stage</th>\n",
       "      <th>country</th>\n",
       "      <th>funds_raised</th>\n",
       "    </tr>\n",
       "  </thead>\n",
       "  <tbody>\n",
       "    <tr>\n",
       "      <th>0</th>\n",
       "      <td>Atlassian</td>\n",
       "      <td>Sydney</td>\n",
       "      <td>Other</td>\n",
       "      <td>500.0</td>\n",
       "      <td>0.05</td>\n",
       "      <td>2023-03-06</td>\n",
       "      <td>Post-IPO</td>\n",
       "      <td>Australia</td>\n",
       "      <td>210.0</td>\n",
       "    </tr>\n",
       "    <tr>\n",
       "      <th>1</th>\n",
       "      <td>SiriusXM</td>\n",
       "      <td>New York City</td>\n",
       "      <td>Media</td>\n",
       "      <td>475.0</td>\n",
       "      <td>0.08</td>\n",
       "      <td>2023-03-06</td>\n",
       "      <td>Post-IPO</td>\n",
       "      <td>United States</td>\n",
       "      <td>525.0</td>\n",
       "    </tr>\n",
       "    <tr>\n",
       "      <th>2</th>\n",
       "      <td>Alerzo</td>\n",
       "      <td>Ibadan</td>\n",
       "      <td>Retail</td>\n",
       "      <td>400.0</td>\n",
       "      <td>NaN</td>\n",
       "      <td>2023-03-06</td>\n",
       "      <td>Series B</td>\n",
       "      <td>Nigeria</td>\n",
       "      <td>16.0</td>\n",
       "    </tr>\n",
       "    <tr>\n",
       "      <th>3</th>\n",
       "      <td>UpGrad</td>\n",
       "      <td>Mumbai</td>\n",
       "      <td>Education</td>\n",
       "      <td>120.0</td>\n",
       "      <td>NaN</td>\n",
       "      <td>2023-03-06</td>\n",
       "      <td>Unknown</td>\n",
       "      <td>India</td>\n",
       "      <td>631.0</td>\n",
       "    </tr>\n",
       "    <tr>\n",
       "      <th>4</th>\n",
       "      <td>Loft</td>\n",
       "      <td>Sao Paulo</td>\n",
       "      <td>Real Estate</td>\n",
       "      <td>340.0</td>\n",
       "      <td>0.15</td>\n",
       "      <td>2023-03-03</td>\n",
       "      <td>Unknown</td>\n",
       "      <td>Brazil</td>\n",
       "      <td>788.0</td>\n",
       "    </tr>\n",
       "  </tbody>\n",
       "</table>\n",
       "</div>"
      ],
      "text/plain": [
       "     company       location     industry  total_laid_off  percentage_laid_off  \\\n",
       "0  Atlassian         Sydney        Other           500.0                 0.05   \n",
       "1   SiriusXM  New York City        Media           475.0                 0.08   \n",
       "2     Alerzo         Ibadan       Retail           400.0                  NaN   \n",
       "3     UpGrad         Mumbai    Education           120.0                  NaN   \n",
       "4       Loft      Sao Paulo  Real Estate           340.0                 0.15   \n",
       "\n",
       "         date     stage        country  funds_raised  \n",
       "0  2023-03-06  Post-IPO      Australia         210.0  \n",
       "1  2023-03-06  Post-IPO  United States         525.0  \n",
       "2  2023-03-06  Series B        Nigeria          16.0  \n",
       "3  2023-03-06   Unknown          India         631.0  \n",
       "4  2023-03-03   Unknown         Brazil         788.0  "
      ]
     },
     "execution_count": 23,
     "metadata": {},
     "output_type": "execute_result"
    }
   ],
   "source": [
    "df=pd.read_csv('./datasets/layoffs.csv')\n",
    "df.head()"
   ]
  },
  {
   "attachments": {},
   "cell_type": "markdown",
   "metadata": {},
   "source": [
    "---"
   ]
  },
  {
   "attachments": {},
   "cell_type": "markdown",
   "metadata": {},
   "source": [
    "### <span style=\"color:yellow\"> B. Khám phá dữ liệu</span>\n"
   ]
  },
  {
   "attachments": {},
   "cell_type": "markdown",
   "metadata": {},
   "source": [
    "#### Mỗi dòng có ý nghĩa gì? Có vấn đề các dòng có ý nghĩa khác nhau không?"
   ]
  },
  {
   "cell_type": "code",
   "execution_count": 24,
   "metadata": {},
   "outputs": [],
   "source": [
    "# df['stage']"
   ]
  },
  {
   "attachments": {},
   "cell_type": "markdown",
   "metadata": {},
   "source": [
    "- Mỗi dòng chứa dữ liệu về một công ty và các thông tin liên quan đến công ty đó như: tên công ty, nơi đặt trụ sở chính, loại ngành nghề, số nhân viên bị sa thải, tỷ lệ sa thải, ngày công bố, giai đoạn của công ty, quốc gia công ty hoạt động, số vốn huy động bởi công ty.\n",
    "\n",
    "- ví dụ: dòng 1: doanh nghiệp SiriusXM có trụ sở tại New York City và hoạt động trong ngành truyền thông, đã sa thải 475 nhân viên, chiếm 8% tổng số nhân viên của họ tính tới ngày 6 tháng 3 năm 2023. Công ty cũng đang ở giai đoạn Post-IPO và có trụ sở tại Hoa Kỳ. Họ đã huy động được số vốn 525 triệu đô la.\n",
    "\n",
    "- Không có tình trạng các dòng có ý nghĩa khác nhau."
   ]
  },
  {
   "attachments": {},
   "cell_type": "markdown",
   "metadata": {},
   "source": [
    "#### Mỗi cột có ý nghĩa gì?"
   ]
  },
  {
   "cell_type": "code",
   "execution_count": 25,
   "metadata": {},
   "outputs": [
    {
     "name": "stdout",
     "output_type": "stream",
     "text": [
      "column  2 :  industry\n",
      "size:  2357\n",
      "number of values:  30\n",
      "number of values (without nan):  29\n",
      "data (without nan) :  Other, Media, Retail, Education, Real Estate, Transportation, Marketing, Travel, Healthcare, Security, Food, Fitness, Consumer, Logistics, HR, Support, Crypto, Finance, Data, Sales, Infrastructure, Hardware, Product, Construction, Legal, Energy, Manufacturing, Recruiting, Aerospace\n"
     ]
    }
   ],
   "source": [
    "\n",
    "# print(\"total columns: \",len(df.columns)) \n",
    "\n",
    "# for column in range(len(df.columns)) :\n",
    "#     print(\"column \", column,\" \", df.columns[column])\n",
    "#     print(\"size: \", len(df.loc[:, df.columns[column]]))\n",
    "#     print(\"number of values: \", len(df.loc[:, df.columns[column]].unique()), \"\\n\")\n",
    "#     print(\"head: \", ' ,'.join(df.loc[:, df.columns[column]].unique()) )\n",
    "\n",
    "column=2\n",
    "print(\"column \", column,\": \", df.columns[column])\n",
    "print(\"size: \", len(df.loc[:, df.columns[column]]))\n",
    "print(\"number of values: \", len(df.loc[:, df.columns[column]].unique()))\n",
    "# print(df.loc[:, df.columns[column]].unique())\n",
    "arr= df.loc[:, df.columns[column]].unique()\n",
    "\n",
    "nanIndex=-1\n",
    "for index in range(len(arr)):\n",
    "    if isinstance(arr[index], float) and np.isnan(arr[index]):\n",
    "        nanIndex=index\n",
    "        break\n",
    "if nanIndex != -1:\n",
    "    arr=np.delete(arr,nanIndex)\n",
    "\n",
    "print(\"number of values (without nan): \", len(arr))\n",
    "\n",
    "# print for string type\n",
    "print(\"data (without nan) : \", ', '.join(arr))\n",
    "\n",
    "# print for number type\n",
    "# print( \", \".join(map(str, arr)))\n",
    "\n",
    "    "
   ]
  },
  {
   "attachments": {},
   "cell_type": "markdown",
   "metadata": {},
   "source": [
    "## Thông tin của mỗi cột:\n",
    "- Company: Tên của công ty\n",
    "    - Kích thước: 2357\n",
    "    - Số lượng dữ liệu không trùng lắp: 1893\n",
    "    - Một số Company có trong dữ liệu: Atlassian, SiriusXM, Alerzo, UpGrad, Loft, Embark Trucks,...\n",
    "- Location: Nơi đặt trụ sở chính của công ty\n",
    "    - Kích thước: 2357\n",
    "    - Số lượng dữ liệu không trùng lắp: 191\n",
    "    - Một số Location có trong dữ liệu: Sydney, New York City, Ibadan, Mumbai, Sao Paulo,...\n",
    "\n",
    "- Industry: Loại ngành mà công ty hoạt động\n",
    "    - Kích thước: 2357\n",
    "    - Số lượng dữ liệu không trùng lắp: 30\n",
    "    - Một số Industry có trong dữ liệu: Other, Media, Retail, Education, Real Estate, Transportation,...\n",
    "\n",
    "- Total_laid_off: Tổng số nhân viên bị sa thải bởi công ty\n",
    "    - Kích thước: 2357\n",
    "    - Số lượng dữ liệu không trùng lắp: 286\n",
    "    - Một số Total_laid_off có trong dữ liệu: 475.0, 400.0, 120.0, 340.0, 230.0, 100.0, 63.0, 30.0...\n",
    "\n",
    "- Percentage_laid_off: Tỷ lệ nhân viên bị sa thải bởi công ty\n",
    "    - Kích thước: 2357\n",
    "    - Số lượng dữ liệu không trùng lắp: 76\n",
    "    - Một số Percentage_laid_off có trong dữ liệu: 0.05, 0.08, 0.15, 0.7, 0.03, 0.11, 0.1, 1.0...\n",
    "\n",
    "- Date: Ngày công bố thông tin về việc sa thải\n",
    "    - Kích thước: 2357\n",
    "    - Số lượng dữ liệu không trùng lắp: 191\n",
    "    - Một số Date có trong dữ liệu: 2023-03-06, 2023-03-03, 2023-03-02, 2023-03-01, 2023-02-28,...\n",
    "\n",
    "- Stage: Giai đoạn của công ty\n",
    "    - Kích thước: 2357\n",
    "    - Số lượng dữ liệu không trùng lắp: 17\n",
    "    - Một số Stage có trong dữ liệu: Post-IPO, Series B, Unknown, Acquired, Series F, Series E...\n",
    "\n",
    "- Country: Quốc gia nơi công ty đặt trụ sở\n",
    "    - Kích thước: 2357\n",
    "    - Số lượng dữ liệu không trùng lắp: 59\n",
    "    - Một số Country có trong dữ liệu:  Australia, United States, Nigeria, India, Brazil,...\n",
    "\n",
    "- Funds_raised: Tổng số vốn do công ty huy động (tính bằng triệu đô la)\n",
    "    - Kích thước: 2357\n",
    "    - Số lượng dữ liệu không trùng lắp: 639\n",
    "    - Một số Funds_raised có trong dữ liệu: 525.0, 16.0, 631.0, 788.0, 317.0, 59.0, 152.0..."
   ]
  },
  {
   "attachments": {},
   "cell_type": "markdown",
   "metadata": {},
   "source": [
    "#### Mỗi cột hiện đang có kiểu dữ liệu gì?"
   ]
  },
  {
   "cell_type": "code",
   "execution_count": 26,
   "metadata": {},
   "outputs": [
    {
     "data": {
      "text/plain": [
       "company                 object\n",
       "location                object\n",
       "industry                object\n",
       "total_laid_off         float64\n",
       "percentage_laid_off    float64\n",
       "date                    object\n",
       "stage                   object\n",
       "country                 object\n",
       "funds_raised           float64\n",
       "dtype: object"
      ]
     },
     "execution_count": 26,
     "metadata": {},
     "output_type": "execute_result"
    }
   ],
   "source": [
    "df.dtypes"
   ]
  },
  {
   "cell_type": "code",
   "execution_count": 27,
   "metadata": {},
   "outputs": [
    {
     "name": "stdout",
     "output_type": "stream",
     "text": [
      "company : {<class 'str'>}\n",
      "location : {<class 'str'>}\n",
      "industry : {<class 'str'>, <class 'float'>}\n",
      "date : {<class 'str'>, <class 'float'>}\n",
      "stage : {<class 'str'>, <class 'float'>}\n",
      "country : {<class 'str'>}\n"
     ]
    }
   ],
   "source": [
    "object_columns = df.select_dtypes(include=['object']).columns\n",
    "for col in object_columns:\n",
    "    print(col,\":\",set(df[col].apply(type)))"
   ]
  },
  {
   "attachments": {},
   "cell_type": "markdown",
   "metadata": {},
   "source": [
    "Chúng ta nhận thấy rằng ba cột `industry`, `date` và `stage` có dạng dữ liệu không đồng nhất, tuy nhiên đây chỉ là do sự thiếu hụt dữ liệu trong các dòng, được biểu thị bằng giá trị `NaN` (dạng số thực)."
   ]
  },
  {
   "attachments": {},
   "cell_type": "markdown",
   "metadata": {},
   "source": [
    "#### Có cột nào có kiểu dữ liệu chưa phù hợp để có thể xử lý tiếp hay không?"
   ]
  },
  {
   "attachments": {},
   "cell_type": "markdown",
   "metadata": {},
   "source": [
    "Các cột sau đang có kiểu dữ liệu là `object`, do đó cần được chuyển đổi sang kiểu chuỗi (`string`):\n",
    "\n",
    "* `company`\n",
    "* `location`\n",
    "* `industry`\n",
    "* `stage`\n",
    "* `country`\n",
    "\n",
    "Trong khi đó, cột `date` đang có kiểu dữ liệu là `object`, cần được chuyển đổi sang kiểu ngày tháng (`datetime`)."
   ]
  },
  {
   "attachments": {},
   "cell_type": "markdown",
   "metadata": {},
   "source": [
    "#### Có cần phải tiền xử lý dữ liệu hay không và nếu có thì nhóm sinh viên cần phải xử lý như thế nào?"
   ]
  },
  {
   "cell_type": "code",
   "execution_count": 28,
   "metadata": {},
   "outputs": [
    {
     "name": "stdout",
     "output_type": "stream",
     "text": [
      "<class 'pandas.core.frame.DataFrame'>\n",
      "RangeIndex: 2357 entries, 0 to 2356\n",
      "Data columns (total 9 columns):\n",
      " #   Column               Non-Null Count  Dtype  \n",
      "---  ------               --------------  -----  \n",
      " 0   company              2357 non-null   object \n",
      " 1   location             2357 non-null   object \n",
      " 2   industry             2356 non-null   object \n",
      " 3   total_laid_off       1618 non-null   float64\n",
      " 4   percentage_laid_off  1573 non-null   float64\n",
      " 5   date                 2356 non-null   object \n",
      " 6   stage                2351 non-null   object \n",
      " 7   country              2357 non-null   object \n",
      " 8   funds_raised         2148 non-null   float64\n",
      "dtypes: float64(3), object(6)\n",
      "memory usage: 165.9+ KB\n"
     ]
    }
   ],
   "source": [
    "df.info()"
   ]
  },
  {
   "attachments": {},
   "cell_type": "markdown",
   "metadata": {},
   "source": [
    "Quan sát thấy có số lượng lớn dữ liệu bị thiếu và có những cột phải xử lý kiểu dữ liệu do vậy ta phải tiền xử lý dữ liệu."
   ]
  },
  {
   "attachments": {},
   "cell_type": "markdown",
   "metadata": {},
   "source": [
    "### Tiền xử lý dữ liệu"
   ]
  },
  {
   "cell_type": "code",
   "execution_count": 29,
   "metadata": {},
   "outputs": [
    {
     "name": "stdout",
     "output_type": "stream",
     "text": [
      "Missing data:\n",
      "industry                 1\n",
      "total_laid_off         739\n",
      "percentage_laid_off    784\n",
      "date                     1\n",
      "stage                    6\n",
      "funds_raised           209\n",
      "dtype: int64\n",
      "Percentage missing data:\n",
      "industry                0.042427\n",
      "total_laid_off         31.353415\n",
      "percentage_laid_off    33.262622\n",
      "date                    0.042427\n",
      "stage                   0.254561\n",
      "funds_raised            8.867204\n",
      "dtype: float64\n",
      "Number of rows duplicated: 1\n"
     ]
    }
   ],
   "source": [
    "# Kiểm tra missing data\n",
    "have_Nan=df.columns[df.isna().any()]\n",
    "\n",
    "# Đếm số missing data của các cột có missing value\n",
    "print(\"Missing data:\")\n",
    "print(df[have_Nan].isnull().sum())\n",
    "\n",
    "# Phần trăm dữ liệu bị thiểu của những cột này\n",
    "print(\"Percentage missing data:\")\n",
    "print(df[have_Nan].isnull().sum() * 100 / df.shape[0])\n",
    "\n",
    "# Kiểm tra có dữ liệu bị duplicate không\n",
    "print(\"Number of rows duplicated: \"+str(df[df.duplicated()].shape[0]))\n"
   ]
  },
  {
   "attachments": {},
   "cell_type": "markdown",
   "metadata": {},
   "source": [
    "Ta thấy có một số lượng khá lớn dữ liệu bị thiếu ở cột `total_laid_off`,`percentage_laid_off` và `funds_raised` . Vì có những cột dữ liệu bị thiếu lên đến hơn 30% nên ta không thể chọn phương án bỏ toàn bộ những dòng nào bị thiếu dữ liệu. Bên cạnh đó có tồn tại 1 dòng bị trùng ta cũng cần phải xử lý. \n",
    "\n",
    "- Đầu tiên ta loại bỏ những dòng có dữ liệu bị thiếu ở cột `industry`,`date` và `stage` vì số lượng bị thiếu không đáng kể.\n",
    "- Xóa dòng bị trùng dữ liệu.\n",
    "- Loại bỏ những dòng mà bị thiếu cả hai trường quan trọng là `total_laid_off` và `percentage_laid_off` vì những dòng này không có ý nghĩa để ta phân tích.\n",
    "- Tiếp theo tùy theo hướng phân tích ta sẽ chọn những cột dữ liệu phù hợp. tạm thời ta sẽ fill bằng 0."
   ]
  },
  {
   "cell_type": "code",
   "execution_count": 30,
   "metadata": {},
   "outputs": [
    {
     "name": "stdout",
     "output_type": "stream",
     "text": [
      "After fill null:\n",
      "company                0\n",
      "location               0\n",
      "industry               0\n",
      "total_laid_off         0\n",
      "percentage_laid_off    0\n",
      "date                   0\n",
      "stage                  0\n",
      "country                0\n",
      "funds_raised           0\n",
      "dtype: int64\n"
     ]
    }
   ],
   "source": [
    "# Loại bỏ những dòng có dữ liệu bị thiếu ở cột `industry`,`date` và `stage`\n",
    "df = df[~df['industry'].isna()]\n",
    "df = df[~df['date'].isna()]\n",
    "df = df[~df['stage'].isna()]\n",
    "\n",
    "# Xóa dòng bị trùng dữ liệu.\n",
    "df = df[~df.duplicated()]\n",
    "\n",
    "# Loại bỏ những dòng mà bị thiểu cả hai trường quan trọng là `total_laid_off` và `percentage_laid_off`\n",
    "df = df[~(df['total_laid_off'].isna()&df['percentage_laid_off'].isna())]\n",
    "\n",
    "# \n",
    "df = df.fillna(0)\n",
    "print(\"After fill null:\")\n",
    "print(df.isna().sum())"
   ]
  },
  {
   "attachments": {},
   "cell_type": "markdown",
   "metadata": {},
   "source": [
    "Sau khi đã tạm thời xử lý các dữ liệu bị thiếu ta bắt đầu xử lý kiễu dữ liệu của các cột.\n",
    "\n",
    "- Chuyển data type của cột `date` sang dạng `datetime`.\n",
    "- Chuyển data type của các cột đang là dạng `object ('str')` sang dạng `category`"
   ]
  },
  {
   "cell_type": "code",
   "execution_count": 31,
   "metadata": {},
   "outputs": [
    {
     "name": "stdout",
     "output_type": "stream",
     "text": [
      "<class 'pandas.core.frame.DataFrame'>\n",
      "Int64Index: 1988 entries, 0 to 2355\n",
      "Data columns (total 9 columns):\n",
      " #   Column               Non-Null Count  Dtype         \n",
      "---  ------               --------------  -----         \n",
      " 0   company              1988 non-null   category      \n",
      " 1   location             1988 non-null   category      \n",
      " 2   industry             1988 non-null   category      \n",
      " 3   total_laid_off       1988 non-null   float64       \n",
      " 4   percentage_laid_off  1988 non-null   float64       \n",
      " 5   date                 1988 non-null   datetime64[ns]\n",
      " 6   stage                1988 non-null   category      \n",
      " 7   country              1988 non-null   category      \n",
      " 8   funds_raised         1988 non-null   float64       \n",
      "dtypes: category(5), datetime64[ns](1), float64(3)\n",
      "memory usage: 178.3 KB\n"
     ]
    }
   ],
   "source": [
    "# Chuyển data type của cột `date` sang dạng `datetime`.\n",
    "df['date']=pd.to_datetime(df['date'])\n",
    "# Chuyển data type của các cột đang là dạng `object` sang dạng `category`\n",
    "object_columns = df.select_dtypes(include=['object']).columns\n",
    "for col in object_columns:\n",
    "    df[col]=df[col].astype('category')\n",
    "df.info()"
   ]
  },
  {
   "attachments": {},
   "cell_type": "markdown",
   "metadata": {},
   "source": [
    "Đã xữ lý xong kiểu dữ liệu của các cột. Giờ ta quan sát đến giá trị dữ liệu bên trong các cột."
   ]
  },
  {
   "cell_type": "code",
   "execution_count": 32,
   "metadata": {},
   "outputs": [
    {
     "name": "stdout",
     "output_type": "stream",
     "text": [
      "[' Included Health', '#Paid', '&Open', '100 Thieves', '10X Genomics', ..., 'iFood', 'iPrice Group', 'iRobot', 'nCino', 'uShip']\n",
      "Length: 1629\n",
      "Categories (1629, object): [' Included Health', '#Paid', '&Open', '100 Thieves', ..., 'iPrice Group', 'iRobot', 'nCino', 'uShip']\n",
      "1629\n",
      "1624\n"
     ]
    }
   ],
   "source": [
    "# Sắp xếp df theo tên company để quan sát cột `company`\n",
    "print(df.sort_values('company')['company'].unique())\n",
    "a=df['company'].unique()\n",
    "b=df['company'].str.upper().unique()\n",
    "print(a.shape[0])\n",
    "print(b.shape[0])"
   ]
  },
  {
   "attachments": {},
   "cell_type": "markdown",
   "metadata": {},
   "source": [
    "Số lượng tên công ty:\n",
    "\n",
    "-   Data gốc: 1629\n",
    "-   Data sau khi đưa tất cả về uppercase: 1624\n",
    "\n",
    "Ta thấy có sự khác nhau về số lượng tên công ty khi ta giữ nguyên data gốc và sau khi đưa tất cả về uppercase -> Có những tên của cùng một công ty nhưng chưa được chuẩn hóa cùng 1 quy tắc.\n",
    "-> Đưa tất cả về 1 loại (uppercase) và ta cũng phải xóa các khoảng trắng thừa trong tên công ty phòng trường hợp có tên công ty bị thừa khoảng trắng."
   ]
  },
  {
   "cell_type": "code",
   "execution_count": 33,
   "metadata": {},
   "outputs": [
    {
     "data": {
      "text/plain": [
       "1621"
      ]
     },
     "execution_count": 33,
     "metadata": {},
     "output_type": "execute_result"
    }
   ],
   "source": [
    "# Xử lý dữ liệu cột `company`\n",
    "df['company']=df['company'].str.upper()\n",
    "df['company']=df['company'].str.split().str.join(\" \")\n",
    "df['company'].unique().shape[0]"
   ]
  },
  {
   "attachments": {},
   "cell_type": "markdown",
   "metadata": {},
   "source": [
    "Xử lý tương tự cho cột `location`, `industry`, `stage` và `country`."
   ]
  },
  {
   "cell_type": "code",
   "execution_count": 34,
   "metadata": {},
   "outputs": [
    {
     "data": {
      "text/plain": [
       "166"
      ]
     },
     "execution_count": 34,
     "metadata": {},
     "output_type": "execute_result"
    }
   ],
   "source": [
    "# Xử lý dữ liệu cột `location`\n",
    "df['location']=df['location'].str.upper()\n",
    "df['location']=df['location'].str.split().str.join(\" \")\n",
    "df['location'].unique().shape[0]"
   ]
  },
  {
   "cell_type": "code",
   "execution_count": 35,
   "metadata": {},
   "outputs": [
    {
     "data": {
      "text/plain": [
       "29"
      ]
     },
     "execution_count": 35,
     "metadata": {},
     "output_type": "execute_result"
    }
   ],
   "source": [
    "# Xử lý dữ liệu cột `industry`\n",
    "df['industry']=df['industry'].str.upper()\n",
    "df['industry']=df['industry'].str.split().str.join(\" \")\n",
    "df['industry'].unique().shape[0]"
   ]
  },
  {
   "cell_type": "code",
   "execution_count": 36,
   "metadata": {},
   "outputs": [
    {
     "data": {
      "text/plain": [
       "16"
      ]
     },
     "execution_count": 36,
     "metadata": {},
     "output_type": "execute_result"
    }
   ],
   "source": [
    "# Xử lý dữ liệu cột `stage`\n",
    "df['stage']=df['stage'].str.upper()\n",
    "df['stage']=df['stage'].str.split().str.join(\" \")\n",
    "df['stage'].unique().shape[0]"
   ]
  },
  {
   "cell_type": "code",
   "execution_count": 37,
   "metadata": {},
   "outputs": [
    {
     "data": {
      "text/plain": [
       "51"
      ]
     },
     "execution_count": 37,
     "metadata": {},
     "output_type": "execute_result"
    }
   ],
   "source": [
    "# Xử lý dữ liệu cột `country`\n",
    "df['country']=df['country'].str.upper()\n",
    "df['country']=df['country'].str.split().str.join(\" \")\n",
    "df['country'].unique().shape[0]"
   ]
  },
  {
   "attachments": {},
   "cell_type": "markdown",
   "metadata": {},
   "source": [
    "Tiếp theo ta kiểm tra những cột có kiễu dữ liệu là số để xem có xuất hiện dữ liệu không hợp lệ không.\n",
    "- Có dòng nào chứa số âm không?\n",
    "- `percentage_laid_off` có giá trị nào lớn hơn 1 không?"
   ]
  },
  {
   "cell_type": "code",
   "execution_count": 38,
   "metadata": {},
   "outputs": [
    {
     "name": "stdout",
     "output_type": "stream",
     "text": [
      "Negative total_laid_off: 0\n",
      "Negative percentage_laid_off: 0\n",
      "Negative funds_raised: 0\n",
      "percentage_laid_off greater than 1: 0\n"
     ]
    }
   ],
   "source": [
    "# Kiểu tra giá trị âm\n",
    "print(\"Negative total_laid_off: \"+str(sum(df.total_laid_off<0)))\n",
    "print(\"Negative percentage_laid_off: \"+str(sum(df.percentage_laid_off<0)))\n",
    "print(\"Negative funds_raised: \"+str(sum(df.funds_raised<0)))\n",
    "\n",
    "# Kiểm tra giá trị `percentage_laid_off` không hợp lệ\n",
    "print(\"percentage_laid_off greater than 1: \"+str(sum(df.percentage_laid_off>1)))"
   ]
  },
  {
   "attachments": {},
   "cell_type": "markdown",
   "metadata": {},
   "source": [
    "Sau khi đã xử lý xong tất cả ta sắp xếp và reset index của data."
   ]
  },
  {
   "cell_type": "code",
   "execution_count": 39,
   "metadata": {},
   "outputs": [
    {
     "data": {
      "text/html": [
       "<div>\n",
       "<style scoped>\n",
       "    .dataframe tbody tr th:only-of-type {\n",
       "        vertical-align: middle;\n",
       "    }\n",
       "\n",
       "    .dataframe tbody tr th {\n",
       "        vertical-align: top;\n",
       "    }\n",
       "\n",
       "    .dataframe thead th {\n",
       "        text-align: right;\n",
       "    }\n",
       "</style>\n",
       "<table border=\"1\" class=\"dataframe\">\n",
       "  <thead>\n",
       "    <tr style=\"text-align: right;\">\n",
       "      <th></th>\n",
       "      <th>company</th>\n",
       "      <th>location</th>\n",
       "      <th>industry</th>\n",
       "      <th>total_laid_off</th>\n",
       "      <th>percentage_laid_off</th>\n",
       "      <th>date</th>\n",
       "      <th>stage</th>\n",
       "      <th>country</th>\n",
       "      <th>funds_raised</th>\n",
       "    </tr>\n",
       "  </thead>\n",
       "  <tbody>\n",
       "    <tr>\n",
       "      <th>0</th>\n",
       "      <td>#PAID</td>\n",
       "      <td>TORONTO</td>\n",
       "      <td>MARKETING</td>\n",
       "      <td>19.0</td>\n",
       "      <td>0.17</td>\n",
       "      <td>2023-01-27</td>\n",
       "      <td>SERIES B</td>\n",
       "      <td>CANADA</td>\n",
       "      <td>21.0</td>\n",
       "    </tr>\n",
       "    <tr>\n",
       "      <th>1</th>\n",
       "      <td>&amp;OPEN</td>\n",
       "      <td>DUBLIN</td>\n",
       "      <td>MARKETING</td>\n",
       "      <td>9.0</td>\n",
       "      <td>0.09</td>\n",
       "      <td>2022-11-17</td>\n",
       "      <td>SERIES A</td>\n",
       "      <td>IRELAND</td>\n",
       "      <td>35.0</td>\n",
       "    </tr>\n",
       "    <tr>\n",
       "      <th>2</th>\n",
       "      <td>100 THIEVES</td>\n",
       "      <td>LOS ANGELES</td>\n",
       "      <td>CONSUMER</td>\n",
       "      <td>12.0</td>\n",
       "      <td>0.00</td>\n",
       "      <td>2022-07-13</td>\n",
       "      <td>SERIES C</td>\n",
       "      <td>UNITED STATES</td>\n",
       "      <td>120.0</td>\n",
       "    </tr>\n",
       "    <tr>\n",
       "      <th>3</th>\n",
       "      <td>10X GENOMICS</td>\n",
       "      <td>SF BAY AREA</td>\n",
       "      <td>HEALTHCARE</td>\n",
       "      <td>100.0</td>\n",
       "      <td>0.08</td>\n",
       "      <td>2022-08-04</td>\n",
       "      <td>POST-IPO</td>\n",
       "      <td>UNITED STATES</td>\n",
       "      <td>242.0</td>\n",
       "    </tr>\n",
       "    <tr>\n",
       "      <th>4</th>\n",
       "      <td>1STDIBS</td>\n",
       "      <td>NEW YORK CITY</td>\n",
       "      <td>RETAIL</td>\n",
       "      <td>70.0</td>\n",
       "      <td>0.17</td>\n",
       "      <td>2020-04-02</td>\n",
       "      <td>SERIES D</td>\n",
       "      <td>UNITED STATES</td>\n",
       "      <td>253.0</td>\n",
       "    </tr>\n",
       "  </tbody>\n",
       "</table>\n",
       "</div>"
      ],
      "text/plain": [
       "        company       location    industry  total_laid_off  \\\n",
       "0         #PAID        TORONTO   MARKETING            19.0   \n",
       "1         &OPEN         DUBLIN   MARKETING             9.0   \n",
       "2   100 THIEVES    LOS ANGELES    CONSUMER            12.0   \n",
       "3  10X GENOMICS    SF BAY AREA  HEALTHCARE           100.0   \n",
       "4       1STDIBS  NEW YORK CITY      RETAIL            70.0   \n",
       "\n",
       "   percentage_laid_off       date     stage        country  funds_raised  \n",
       "0                 0.17 2023-01-27  SERIES B         CANADA          21.0  \n",
       "1                 0.09 2022-11-17  SERIES A        IRELAND          35.0  \n",
       "2                 0.00 2022-07-13  SERIES C  UNITED STATES         120.0  \n",
       "3                 0.08 2022-08-04  POST-IPO  UNITED STATES         242.0  \n",
       "4                 0.17 2020-04-02  SERIES D  UNITED STATES         253.0  "
      ]
     },
     "execution_count": 39,
     "metadata": {},
     "output_type": "execute_result"
    }
   ],
   "source": [
    "df=df.sort_values('company')\n",
    "df=df.reset_index(drop=True)\n",
    "df.head()"
   ]
  },
  {
   "attachments": {},
   "cell_type": "markdown",
   "metadata": {},
   "source": [
    "Tới đây ta đã tiền xử lý dữ liệu xong tạm ổn."
   ]
  },
  {
   "cell_type": "code",
   "execution_count": 40,
   "metadata": {},
   "outputs": [
    {
     "data": {
      "text/html": [
       "<div>\n",
       "<style scoped>\n",
       "    .dataframe tbody tr th:only-of-type {\n",
       "        vertical-align: middle;\n",
       "    }\n",
       "\n",
       "    .dataframe tbody tr th {\n",
       "        vertical-align: top;\n",
       "    }\n",
       "\n",
       "    .dataframe thead th {\n",
       "        text-align: right;\n",
       "    }\n",
       "</style>\n",
       "<table border=\"1\" class=\"dataframe\">\n",
       "  <thead>\n",
       "    <tr style=\"text-align: right;\">\n",
       "      <th></th>\n",
       "      <th>company</th>\n",
       "      <th>location</th>\n",
       "      <th>industry</th>\n",
       "      <th>total_laid_off</th>\n",
       "      <th>percentage_laid_off</th>\n",
       "      <th>date</th>\n",
       "      <th>stage</th>\n",
       "      <th>country</th>\n",
       "      <th>funds_raised</th>\n",
       "      <th>total_employees</th>\n",
       "    </tr>\n",
       "  </thead>\n",
       "  <tbody>\n",
       "    <tr>\n",
       "      <th>0</th>\n",
       "      <td>AMAZON</td>\n",
       "      <td>SEATTLE</td>\n",
       "      <td>RETAIL</td>\n",
       "      <td>8000.0</td>\n",
       "      <td>0.02</td>\n",
       "      <td>2023-01-04</td>\n",
       "      <td>POST-IPO</td>\n",
       "      <td>UNITED STATES</td>\n",
       "      <td>108.0</td>\n",
       "      <td>400000.0</td>\n",
       "    </tr>\n",
       "    <tr>\n",
       "      <th>1</th>\n",
       "      <td>AMAZON</td>\n",
       "      <td>SEATTLE</td>\n",
       "      <td>RETAIL</td>\n",
       "      <td>10000.0</td>\n",
       "      <td>0.03</td>\n",
       "      <td>2022-11-16</td>\n",
       "      <td>POST-IPO</td>\n",
       "      <td>UNITED STATES</td>\n",
       "      <td>108.0</td>\n",
       "      <td>333333.0</td>\n",
       "    </tr>\n",
       "    <tr>\n",
       "      <th>2</th>\n",
       "      <td>GOOGLE</td>\n",
       "      <td>SF BAY AREA</td>\n",
       "      <td>CONSUMER</td>\n",
       "      <td>12000.0</td>\n",
       "      <td>0.06</td>\n",
       "      <td>2023-01-20</td>\n",
       "      <td>POST-IPO</td>\n",
       "      <td>UNITED STATES</td>\n",
       "      <td>26.0</td>\n",
       "      <td>200000.0</td>\n",
       "    </tr>\n",
       "    <tr>\n",
       "      <th>3</th>\n",
       "      <td>MICROSOFT</td>\n",
       "      <td>SEATTLE</td>\n",
       "      <td>OTHER</td>\n",
       "      <td>10000.0</td>\n",
       "      <td>0.05</td>\n",
       "      <td>2023-01-18</td>\n",
       "      <td>POST-IPO</td>\n",
       "      <td>UNITED STATES</td>\n",
       "      <td>1.0</td>\n",
       "      <td>200000.0</td>\n",
       "    </tr>\n",
       "    <tr>\n",
       "      <th>4</th>\n",
       "      <td>IBM</td>\n",
       "      <td>NEW YORK CITY</td>\n",
       "      <td>HARDWARE</td>\n",
       "      <td>3900.0</td>\n",
       "      <td>0.02</td>\n",
       "      <td>2023-01-25</td>\n",
       "      <td>POST-IPO</td>\n",
       "      <td>UNITED STATES</td>\n",
       "      <td>0.0</td>\n",
       "      <td>195000.0</td>\n",
       "    </tr>\n",
       "    <tr>\n",
       "      <th>...</th>\n",
       "      <td>...</td>\n",
       "      <td>...</td>\n",
       "      <td>...</td>\n",
       "      <td>...</td>\n",
       "      <td>...</td>\n",
       "      <td>...</td>\n",
       "      <td>...</td>\n",
       "      <td>...</td>\n",
       "      <td>...</td>\n",
       "      <td>...</td>\n",
       "    </tr>\n",
       "    <tr>\n",
       "      <th>1184</th>\n",
       "      <td>DOTSCIENCE</td>\n",
       "      <td>LONDON</td>\n",
       "      <td>PRODUCT</td>\n",
       "      <td>10.0</td>\n",
       "      <td>1.00</td>\n",
       "      <td>2020-05-19</td>\n",
       "      <td>UNKNOWN</td>\n",
       "      <td>UNITED KINGDOM</td>\n",
       "      <td>0.0</td>\n",
       "      <td>10.0</td>\n",
       "    </tr>\n",
       "    <tr>\n",
       "      <th>1185</th>\n",
       "      <td>PANDA SQUAD</td>\n",
       "      <td>SF BAY AREA</td>\n",
       "      <td>CONSUMER</td>\n",
       "      <td>6.0</td>\n",
       "      <td>0.75</td>\n",
       "      <td>2020-03-13</td>\n",
       "      <td>SEED</td>\n",
       "      <td>UNITED STATES</td>\n",
       "      <td>1.0</td>\n",
       "      <td>8.0</td>\n",
       "    </tr>\n",
       "    <tr>\n",
       "      <th>1186</th>\n",
       "      <td>ATSU</td>\n",
       "      <td>SEATTLE</td>\n",
       "      <td>INFRASTRUCTURE</td>\n",
       "      <td>6.0</td>\n",
       "      <td>1.00</td>\n",
       "      <td>2020-04-10</td>\n",
       "      <td>UNKNOWN</td>\n",
       "      <td>UNITED STATES</td>\n",
       "      <td>1.0</td>\n",
       "      <td>6.0</td>\n",
       "    </tr>\n",
       "    <tr>\n",
       "      <th>1187</th>\n",
       "      <td>DARK</td>\n",
       "      <td>SF BAY AREA</td>\n",
       "      <td>PRODUCT</td>\n",
       "      <td>6.0</td>\n",
       "      <td>1.00</td>\n",
       "      <td>2020-06-23</td>\n",
       "      <td>SEED</td>\n",
       "      <td>UNITED STATES</td>\n",
       "      <td>3.0</td>\n",
       "      <td>6.0</td>\n",
       "    </tr>\n",
       "    <tr>\n",
       "      <th>1188</th>\n",
       "      <td>TUTORMUNDI</td>\n",
       "      <td>SAO PAULO</td>\n",
       "      <td>EDUCATION</td>\n",
       "      <td>4.0</td>\n",
       "      <td>1.00</td>\n",
       "      <td>2020-04-24</td>\n",
       "      <td>SERIES A</td>\n",
       "      <td>BRAZIL</td>\n",
       "      <td>2.0</td>\n",
       "      <td>4.0</td>\n",
       "    </tr>\n",
       "  </tbody>\n",
       "</table>\n",
       "<p>1189 rows × 10 columns</p>\n",
       "</div>"
      ],
      "text/plain": [
       "          company       location        industry  total_laid_off  \\\n",
       "0          AMAZON        SEATTLE          RETAIL          8000.0   \n",
       "1          AMAZON        SEATTLE          RETAIL         10000.0   \n",
       "2          GOOGLE    SF BAY AREA        CONSUMER         12000.0   \n",
       "3       MICROSOFT        SEATTLE           OTHER         10000.0   \n",
       "4             IBM  NEW YORK CITY        HARDWARE          3900.0   \n",
       "...           ...            ...             ...             ...   \n",
       "1184   DOTSCIENCE         LONDON         PRODUCT            10.0   \n",
       "1185  PANDA SQUAD    SF BAY AREA        CONSUMER             6.0   \n",
       "1186         ATSU        SEATTLE  INFRASTRUCTURE             6.0   \n",
       "1187         DARK    SF BAY AREA         PRODUCT             6.0   \n",
       "1188   TUTORMUNDI      SAO PAULO       EDUCATION             4.0   \n",
       "\n",
       "      percentage_laid_off       date     stage         country  funds_raised  \\\n",
       "0                    0.02 2023-01-04  POST-IPO   UNITED STATES         108.0   \n",
       "1                    0.03 2022-11-16  POST-IPO   UNITED STATES         108.0   \n",
       "2                    0.06 2023-01-20  POST-IPO   UNITED STATES          26.0   \n",
       "3                    0.05 2023-01-18  POST-IPO   UNITED STATES           1.0   \n",
       "4                    0.02 2023-01-25  POST-IPO   UNITED STATES           0.0   \n",
       "...                   ...        ...       ...             ...           ...   \n",
       "1184                 1.00 2020-05-19   UNKNOWN  UNITED KINGDOM           0.0   \n",
       "1185                 0.75 2020-03-13      SEED   UNITED STATES           1.0   \n",
       "1186                 1.00 2020-04-10   UNKNOWN   UNITED STATES           1.0   \n",
       "1187                 1.00 2020-06-23      SEED   UNITED STATES           3.0   \n",
       "1188                 1.00 2020-04-24  SERIES A          BRAZIL           2.0   \n",
       "\n",
       "      total_employees  \n",
       "0            400000.0  \n",
       "1            333333.0  \n",
       "2            200000.0  \n",
       "3            200000.0  \n",
       "4            195000.0  \n",
       "...               ...  \n",
       "1184             10.0  \n",
       "1185              8.0  \n",
       "1186              6.0  \n",
       "1187              6.0  \n",
       "1188              4.0  \n",
       "\n",
       "[1189 rows x 10 columns]"
      ]
     },
     "execution_count": 40,
     "metadata": {},
     "output_type": "execute_result"
    }
   ],
   "source": [
    "\n",
    "# Khúc này là thêm 1 cột `total_employees` mục đích là lấy ra top company, lưu tạm để qua phần phân tích dùng\n",
    "df_with_total_employees=df.sort_values(by='total_laid_off',ascending=False)\n",
    "df_with_total_employees=df_with_total_employees.reset_index(drop=True)\n",
    "df_with_total_employees=df_with_total_employees[df_with_total_employees['percentage_laid_off']>0]\n",
    "df_with_total_employees['total_employees']=round(df_with_total_employees['total_laid_off']/df_with_total_employees['percentage_laid_off'])\n",
    "df_with_total_employees=df_with_total_employees[df_with_total_employees['total_employees']>0]\n",
    "df_with_total_employees=df_with_total_employees.sort_values(by='total_employees',ascending=False)\n",
    "df_with_total_employees=df_with_total_employees.reset_index(drop=True)\n",
    "df_with_total_employees\n"
   ]
  },
  {
   "cell_type": "code",
   "execution_count": 41,
   "metadata": {},
   "outputs": [
    {
     "data": {
      "text/plain": [
       "company\n",
       "AMAZON        400000.0\n",
       "GOOGLE        200000.0\n",
       "MICROSOFT     200000.0\n",
       "IBM           195000.0\n",
       "DELL          133000.0\n",
       "ERICSSON      106250.0\n",
       "SAP           100000.0\n",
       "SALESFORCE    100000.0\n",
       "META           84615.0\n",
       "CISCO          82000.0\n",
       "Name: total_employees, dtype: float64"
      ]
     },
     "execution_count": 41,
     "metadata": {},
     "output_type": "execute_result"
    }
   ],
   "source": [
    "df2=df_with_total_employees.groupby('company')['total_employees'].max()\n",
    "df2.sort_values(ascending=False).head(10)"
   ]
  },
  {
   "attachments": {},
   "cell_type": "markdown",
   "metadata": {},
   "source": [
    "### Mối liên hệ giữa cột dữ liệu Stage và Percentage_laid_off, liệu nó có liên quan tới nhau hay không ?  Liễu "
   ]
  },
  {
   "cell_type": "code",
   "execution_count": null,
   "metadata": {},
   "outputs": [],
   "source": []
  },
  {
   "attachments": {},
   "cell_type": "markdown",
   "metadata": {},
   "source": [
    "### Xét từng quốc gia, thể hiện bằng biểu đồ cột cho thấy số lượng người bị sa thải của các ngành. Trí "
   ]
  },
  {
   "cell_type": "code",
   "execution_count": null,
   "metadata": {},
   "outputs": [],
   "source": []
  },
  {
   "attachments": {},
   "cell_type": "markdown",
   "metadata": {},
   "source": [
    "### ngành nào đang có số lượng layoff cao nhất trên thế giới - Yến "
   ]
  },
  {
   "cell_type": "code",
   "execution_count": null,
   "metadata": {},
   "outputs": [],
   "source": []
  },
  {
   "attachments": {},
   "cell_type": "markdown",
   "metadata": {},
   "source": [
    "### Xét tất cả các ngành, dùng biểu đồ cột thể hiện số lượng quốc gia có ngành nghề đó layoff top đầu / cuối. Hưng \n",
    "\n",
    "Các bước thực hiện: Với mỗi industry ta sẽ tìm số lượng country laid off:\n",
    "- Lọc ra các country\n",
    "- Với mỗi country, đếm số lượng total_laid_off\n",
    "- Nếu total_laid_off của country tương ứng khác 0 thì số lượng country laid off tăng lên 1\n",
    "Sau khi đã có số lượng country laid off, ta trực quan bằng biểu đồ cột với trục x là industry và y là số lượng country laid off tương ứng với industry đó. (xem hình bên dưới)\n",
    "\n",
    "Nhận xét:\n",
    "- Industry có số lượng country laid off cao nhất là finance (số lượng: 20)\n",
    "- Industry có số lượng country laid off thấp nhất là manufacturing (số lượng: 1)"
   ]
  },
  {
   "cell_type": "code",
   "execution_count": 42,
   "metadata": {},
   "outputs": [
    {
     "name": "stdout",
     "output_type": "stream",
     "text": [
      "29\n",
      "   industry  total countries\n",
      "12  FINANCE               20\n",
      "         industry  total countries\n",
      "24  MANUFACTURING                1\n"
     ]
    },
    {
     "data": {
      "text/plain": [
       "<Axes: xlabel='industry', ylabel='total countries'>"
      ]
     },
     "execution_count": 42,
     "metadata": {},
     "output_type": "execute_result"
    },
    {
     "data": {
      "image/png": "[encoded data removed]",
      "text/plain": [
       "<Figure size 640x480 with 1 Axes>"
      ]
     },
     "metadata": {},
     "output_type": "display_data"
    }
   ],
   "source": [
    "x= df[\"industry\"].unique()\n",
    "print(len(x))\n",
    "y=[]\n",
    "z=0\n",
    "\n",
    "for i in range(len(df[\"industry\"].unique())):\n",
    "    industryData= df[\"industry\"].unique()[i]\n",
    "    industryRows = df[df[\"industry\"]==industryData]\n",
    "    countryArr = industryRows[\"country\"].unique()\n",
    "\n",
    "    res1=0\n",
    "    for item in industryRows[\"total_laid_off\"]:\n",
    "        res1+=item\n",
    "    # print(res1)\n",
    "\n",
    "\n",
    "    totalArrCountry = []\n",
    "\n",
    "    for item in countryArr:\n",
    "        rows = industryRows[industryRows[\"country\"]==item]\n",
    "        totalArr = rows[\"total_laid_off\"]\n",
    "        sumTmp=0\n",
    "        for total in totalArr:\n",
    "            sumTmp+=total\n",
    "        # print(sumTmp)\n",
    "        totalArrCountry.append(sumTmp)\n",
    "\n",
    "    result=0\n",
    "    for item in range(len(countryArr)):\n",
    "        if totalArrCountry[item]!=0:\n",
    "            result+=1\n",
    "\n",
    "    y.append(result)\n",
    "    z+=result\n",
    "\n",
    "\n",
    "d = {'industry': x, 'total countries': y}\n",
    "totalCountryByIndustry = pd.DataFrame(data=d)\n",
    "# totalCountryByIndustry\n",
    "\n",
    "print(totalCountryByIndustry[totalCountryByIndustry[\"total countries\"]==totalCountryByIndustry[\"total countries\"].max()])\n",
    "print(totalCountryByIndustry[totalCountryByIndustry[\"total countries\"]==totalCountryByIndustry[\"total countries\"].min()])\n",
    "\n",
    "\n",
    "\n",
    "sns.set(font_scale=0.6)\n",
    "# sns.set(rc = {'figure.figsize':(25,8)})\n",
    "sns.barplot(data=totalCountryByIndustry, x=\"industry\", y=\"total countries\",)\n",
    "\n",
    "\n"
   ]
  },
  {
   "attachments": {},
   "cell_type": "markdown",
   "metadata": {},
   "source": [
    "### Thêm total_employee để chọn ra top company theo quy mô nhân sự. Từ đây phát triễn các phân tích trên nhóm top company. Yến  "
   ]
  },
  {
   "cell_type": "code",
   "execution_count": null,
   "metadata": {},
   "outputs": [],
   "source": []
  },
  {
   "attachments": {},
   "cell_type": "markdown",
   "metadata": {},
   "source": [
    "### Câu 16\n",
    "Có 1 số điểm thú vị trong dữ liệu đang tìm từ từ. VD: \n",
    "\n",
    " 1 số company mà percentage_laid_off=1 tức là toàn bộ công ty đó bị sa thải --> bankrupt. -> KHÁM PHÁ PHÁ SẢN \n",
    "\n",
    "Công ty nào sa thải nhân viên và những dịp lễ đặc biệt (eg: Christmas...) nhiều nhất? Số lượng? \n",
    "\n",
    "Thời điểm nào lay off nhiều nhất (Tháng/quý/năm - stack bar) "
   ]
  },
  {
   "cell_type": "code",
   "execution_count": null,
   "metadata": {},
   "outputs": [],
   "source": []
  },
  {
   "attachments": {},
   "cell_type": "markdown",
   "metadata": {},
   "source": [
    "### Total_laid_off/percentage_laid_off có quan hệ gì với total_employee/funds_raised hay không. Nếu tìm ra được tương quan có thể dùng thể fill null cho cột còn lại. "
   ]
  },
  {
   "cell_type": "code",
   "execution_count": null,
   "metadata": {},
   "outputs": [],
   "source": []
  }
 ],
 "metadata": {
  "kernelspec": {
   "display_name": "Python 3",
   "language": "python",
   "name": "python3"
  },
  "language_info": {
   "codemirror_mode": {
    "name": "ipython",
    "version": 3
   },
   "file_extension": ".py",
   "mimetype": "text/x-python",
   "name": "python",
   "nbconvert_exporter": "python",
   "pygments_lexer": "ipython3",
   "version": "3.9.12"
  },
  "orig_nbformat": 4
 },
 "nbformat": 4,
 "nbformat_minor": 2
}
