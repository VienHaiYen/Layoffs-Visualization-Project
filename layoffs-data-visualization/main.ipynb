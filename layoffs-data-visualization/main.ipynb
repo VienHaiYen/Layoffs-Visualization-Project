{
 "cells": [
  {
   "attachments": {},
   "cell_type": "markdown",
   "metadata": {},
   "source": [
    "# LAB 01: LAYOFFS 2023"
   ]
  },
  {
   "attachments": {},
   "cell_type": "markdown",
   "metadata": {},
   "source": [
    "## Mô tả đồ án:\n",
    "- Từ nguồn dữ liệu lấy được từ Kaggle về vấn đề sa thải nhân viên ở các công ty trên toàn thế giới, đồ án này nhằm mục đích phân tích dữ liệu đã có để có được cái nhìn khách quan hơn về vấn đề này."
   ]
  },
  {
   "attachments": {},
   "cell_type": "markdown",
   "metadata": {},
   "source": [
    "---"
   ]
  },
  {
   "attachments": {},
   "cell_type": "markdown",
   "metadata": {},
   "source": [
    "### Import các thư viện"
   ]
  },
  {
   "cell_type": "code",
   "execution_count": null,
   "metadata": {},
   "outputs": [],
   "source": [
    "import numpy as np\n",
    "import pandas as pd\n",
    "import seaborn as sns\n",
    "import matplotlib.pyplot as plt\n",
    "from textwrap import wrap\n",
    "from scipy import stats\n",
    "from wordcloud import WordCloud\n",
    "import calendar\n",
    "import warnings\n",
    "warnings.filterwarnings('ignore')"
   ]
  },
  {
   "attachments": {},
   "cell_type": "markdown",
   "metadata": {},
   "source": [
    "---"
   ]
  },
  {
   "attachments": {},
   "cell_type": "markdown",
   "metadata": {},
   "source": [
    "### <span style=\"color:yellow\"> A. Thu thập dữ liệu</span>\n"
   ]
  },
  {
   "attachments": {},
   "cell_type": "markdown",
   "metadata": {},
   "source": [
    "#### Ngữ cảnh thực hiện tìm kiếm dữ liệu"
   ]
  },
  {
   "attachments": {},
   "cell_type": "markdown",
   "metadata": {},
   "source": [
    "Sau dịch covid 19, các công ty công nghệ trên toàn cầu đang đối mặt với sự suy thoái kinh tế. Sự chậm lại của chi tiêu từ người tiêu dùng, lãi suất cao hơn từ các ngân hàng trung ương và sức mạnh của đồng đô la ngoại tệ đang gợi ý về khả năng xảy ra suy thoái kinh tế và các công ty công nghệ đã bắt đầu **cắt giảm nhân sự**."
   ]
  },
  {
   "attachments": {},
   "cell_type": "markdown",
   "metadata": {},
   "source": [
    "#### Chủ đề"
   ]
  },
  {
   "attachments": {},
   "cell_type": "markdown",
   "metadata": {},
   "source": [
    "Phân tích tình trạng hỗn loạn công nghệ gần đây thông qua số liệu về việc sa thải nhân sự, từ đó rút ra được những thông tin hữu ích."
   ]
  },
  {
   "attachments": {},
   "cell_type": "markdown",
   "metadata": {},
   "source": [
    "#### Nguồn\n",
    "Dữ liệu được lấy trên Kaggle dưới file csv, đường link dẫn đến  [Ở đây](https://www.kaggle.com/datasets/swaptr/layoffs-2022?resource=download)"
   ]
  },
  {
   "attachments": {},
   "cell_type": "markdown",
   "metadata": {},
   "source": [
    "#### Người ta có cho phép sử dụng dữ liệu như thế này hay không?"
   ]
  },
  {
   "attachments": {},
   "cell_type": "markdown",
   "metadata": {},
   "source": [
    "Thông tin License của dữ liệu: Open Database.\n",
    "\n",
    "Theo thông tin License của dữ liệu, người dùng được phép tự do chia sẻ, sửa đổi và sử dụng dữ liệu trong khi duy trì sự tự do tương tự cho người dùng khác."
   ]
  },
  {
   "attachments": {},
   "cell_type": "markdown",
   "metadata": {},
   "source": [
    "#### Người ta đã thu thập dữ liệu này như thế nào? Phương pháp thực hiện là gì?"
   ]
  },
  {
   "attachments": {},
   "cell_type": "markdown",
   "metadata": {},
   "source": [
    "Dữ liệu được thu thập bằng cách theo dõi số liệu được báo cáo trên các nền tảng:\n",
    "- Bloombreg\n",
    "- San Francisco Business Times\n",
    "- TechCrunch\n",
    "- The New York Times\n",
    "\n",
    "Phương pháp thu thập dữ liệu: Dữ liệu được tải xuống từ Layoffs.fyi Tracker và được biên soạn thành 1 file CSV."
   ]
  },
  {
   "attachments": {},
   "cell_type": "markdown",
   "metadata": {},
   "source": [
    "#### Đọc dữ liệu"
   ]
  },
  {
   "cell_type": "code",
   "execution_count": null,
   "metadata": {},
   "outputs": [],
   "source": [
    "df=pd.read_csv('./datasets/layoffs.csv')\n",
    "df.head()"
   ]
  },
  {
   "attachments": {},
   "cell_type": "markdown",
   "metadata": {},
   "source": [
    "---"
   ]
  },
  {
   "attachments": {},
   "cell_type": "markdown",
   "metadata": {},
   "source": [
    "### <span style=\"color:yellow\"> B. Khám phá dữ liệu</span>\n"
   ]
  },
  {
   "attachments": {},
   "cell_type": "markdown",
   "metadata": {},
   "source": [
    "#### Mỗi dòng có ý nghĩa gì? Có vấn đề các dòng có ý nghĩa khác nhau không?"
   ]
  },
  {
   "cell_type": "code",
   "execution_count": null,
   "metadata": {},
   "outputs": [],
   "source": [
    "# df['stage']"
   ]
  },
  {
   "attachments": {},
   "cell_type": "markdown",
   "metadata": {},
   "source": [
    "- Mỗi dòng chứa dữ liệu về một công ty và các thông tin liên quan đến công ty đó như: tên công ty, nơi đặt trụ sở chính, loại ngành nghề, số nhân viên bị sa thải, tỷ lệ sa thải, ngày công bố, giai đoạn của công ty, quốc gia công ty hoạt động, số vốn huy động bởi công ty.\n",
    "\n",
    "- ví dụ: dòng 1: doanh nghiệp SiriusXM có trụ sở tại New York City và hoạt động trong ngành truyền thông, đã sa thải 475 nhân viên, chiếm 8% tổng số nhân viên của họ tính tới ngày 6 tháng 3 năm 2023. Công ty cũng đang ở giai đoạn Post-IPO và có trụ sở tại Hoa Kỳ. Họ đã huy động được số vốn 525 triệu đô la.\n",
    "\n",
    "- Không có tình trạng các dòng có ý nghĩa khác nhau."
   ]
  },
  {
   "attachments": {},
   "cell_type": "markdown",
   "metadata": {},
   "source": [
    "#### Mỗi cột có ý nghĩa gì?"
   ]
  },
  {
   "cell_type": "code",
   "execution_count": null,
   "metadata": {},
   "outputs": [],
   "source": [
    "\n",
    "# print(\"total columns: \",len(df.columns)) \n",
    "\n",
    "# for column in range(len(df.columns)) :\n",
    "#     print(\"column \", column,\" \", df.columns[column])\n",
    "#     print(\"size: \", len(df.loc[:, df.columns[column]]))\n",
    "#     print(\"number of values: \", len(df.loc[:, df.columns[column]].unique()), \"\\n\")\n",
    "#     print(\"head: \", ' ,'.join(df.loc[:, df.columns[column]].unique()) )\n",
    "\n",
    "column=2\n",
    "print(\"column \", column,\": \", df.columns[column])\n",
    "print(\"size: \", len(df.loc[:, df.columns[column]]))\n",
    "print(\"number of values: \", len(df.loc[:, df.columns[column]].unique()))\n",
    "# print(df.loc[:, df.columns[column]].unique())\n",
    "arr= df.loc[:, df.columns[column]].unique()\n",
    "\n",
    "nanIndex=-1\n",
    "for index in range(len(arr)):\n",
    "    if isinstance(arr[index], float) and np.isnan(arr[index]):\n",
    "        nanIndex=index\n",
    "        break\n",
    "if nanIndex != -1:\n",
    "    arr=np.delete(arr,nanIndex)\n",
    "\n",
    "print(\"number of values (without nan): \", len(arr))\n",
    "\n",
    "# print for string type\n",
    "print(\"data (without nan) : \", ', '.join(arr))\n",
    "\n",
    "# print for number type\n",
    "# print( \", \".join(map(str, arr)))\n",
    "\n",
    "    "
   ]
  },
  {
   "attachments": {},
   "cell_type": "markdown",
   "metadata": {},
   "source": [
    "## Thông tin của mỗi cột:\n",
    "- Company: Tên của công ty\n",
    "    - Kích thước: 2357\n",
    "    - Số lượng dữ liệu không trùng lắp: 1893\n",
    "    - Một số Company có trong dữ liệu: Atlassian, SiriusXM, Alerzo, UpGrad, Loft, Embark Trucks,...\n",
    "- Location: Nơi đặt trụ sở chính của công ty\n",
    "    - Kích thước: 2357\n",
    "    - Số lượng dữ liệu không trùng lắp: 191\n",
    "    - Một số Location có trong dữ liệu: Sydney, New York City, Ibadan, Mumbai, Sao Paulo,...\n",
    "\n",
    "- Industry: Loại ngành mà công ty hoạt động\n",
    "    - Kích thước: 2357\n",
    "    - Số lượng dữ liệu không trùng lắp: 30\n",
    "    - Một số Industry có trong dữ liệu: Other, Media, Retail, Education, Real Estate, Transportation,...\n",
    "\n",
    "- Total_laid_off: Tổng số nhân viên bị sa thải bởi công ty\n",
    "    - Kích thước: 2357\n",
    "    - Số lượng dữ liệu không trùng lắp: 286\n",
    "    - Một số Total_laid_off có trong dữ liệu: 475.0, 400.0, 120.0, 340.0, 230.0, 100.0, 63.0, 30.0...\n",
    "\n",
    "- Percentage_laid_off: Tỷ lệ nhân viên bị sa thải bởi công ty\n",
    "    - Kích thước: 2357\n",
    "    - Số lượng dữ liệu không trùng lắp: 76\n",
    "    - Một số Percentage_laid_off có trong dữ liệu: 0.05, 0.08, 0.15, 0.7, 0.03, 0.11, 0.1, 1.0...\n",
    "\n",
    "- Date: Ngày công bố thông tin về việc sa thải\n",
    "    - Kích thước: 2357\n",
    "    - Số lượng dữ liệu không trùng lắp: 191\n",
    "    - Một số Date có trong dữ liệu: 2023-03-06, 2023-03-03, 2023-03-02, 2023-03-01, 2023-02-28,...\n",
    "\n",
    "- Stage: Giai đoạn của công ty\n",
    "    - Kích thước: 2357\n",
    "    - Số lượng dữ liệu không trùng lắp: 17\n",
    "    - Một số Stage có trong dữ liệu: Post-IPO, Series B, Unknown, Acquired, Series F, Series E...\n",
    "\n",
    "- Country: Quốc gia nơi công ty đặt trụ sở\n",
    "    - Kích thước: 2357\n",
    "    - Số lượng dữ liệu không trùng lắp: 59\n",
    "    - Một số Country có trong dữ liệu:  Australia, United States, Nigeria, India, Brazil,...\n",
    "\n",
    "- Funds_raised: Tổng số vốn do công ty huy động (tính bằng triệu đô la)\n",
    "    - Kích thước: 2357\n",
    "    - Số lượng dữ liệu không trùng lắp: 639\n",
    "    - Một số Funds_raised có trong dữ liệu: 525.0, 16.0, 631.0, 788.0, 317.0, 59.0, 152.0..."
   ]
  },
  {
   "attachments": {},
   "cell_type": "markdown",
   "metadata": {},
   "source": [
    "#### Mỗi cột hiện đang có kiểu dữ liệu gì?"
   ]
  },
  {
   "cell_type": "code",
   "execution_count": null,
   "metadata": {},
   "outputs": [],
   "source": [
    "df.dtypes"
   ]
  },
  {
   "cell_type": "code",
   "execution_count": null,
   "metadata": {},
   "outputs": [],
   "source": [
    "object_columns = df.select_dtypes(include=['object']).columns\n",
    "for col in object_columns:\n",
    "    print(col,\":\",set(df[col].apply(type)))"
   ]
  },
  {
   "attachments": {},
   "cell_type": "markdown",
   "metadata": {},
   "source": [
    "Chúng ta nhận thấy rằng ba cột `industry`, `date` và `stage` có dạng dữ liệu không đồng nhất, tuy nhiên đây chỉ là do sự thiếu hụt dữ liệu trong các dòng, được biểu thị bằng giá trị `NaN` (dạng số thực)."
   ]
  },
  {
   "attachments": {},
   "cell_type": "markdown",
   "metadata": {},
   "source": [
    "#### Có cột nào có kiểu dữ liệu chưa phù hợp để có thể xử lý tiếp hay không?"
   ]
  },
  {
   "attachments": {},
   "cell_type": "markdown",
   "metadata": {},
   "source": [
    "Các cột sau đang có kiểu dữ liệu là `object`, do đó cần được chuyển đổi sang kiểu chuỗi (`string`):\n",
    "\n",
    "* `company`\n",
    "* `location`\n",
    "* `industry`\n",
    "* `stage`\n",
    "* `country`\n",
    "\n",
    "Trong khi đó, cột `date` đang có kiểu dữ liệu là `object`, cần được chuyển đổi sang kiểu ngày tháng (`datetime`)."
   ]
  },
  {
   "attachments": {},
   "cell_type": "markdown",
   "metadata": {},
   "source": [
    "#### Có cần phải tiền xử lý dữ liệu hay không và nếu có thì nhóm sinh viên cần phải xử lý như thế nào?"
   ]
  },
  {
   "cell_type": "code",
   "execution_count": null,
   "metadata": {},
   "outputs": [],
   "source": [
    "df.info()"
   ]
  },
  {
   "attachments": {},
   "cell_type": "markdown",
   "metadata": {},
   "source": [
    "Quan sát thấy có số lượng lớn dữ liệu bị thiếu và có những cột phải xử lý kiểu dữ liệu do vậy ta phải tiền xử lý dữ liệu."
   ]
  },
  {
   "attachments": {},
   "cell_type": "markdown",
   "metadata": {},
   "source": [
    "### Tiền xử lý dữ liệu"
   ]
  },
  {
   "cell_type": "code",
   "execution_count": null,
   "metadata": {},
   "outputs": [],
   "source": [
    "# Kiểm tra missing data\n",
    "have_Nan=df.columns[df.isna().any()]\n",
    "\n",
    "# Đếm số missing data của các cột có missing data\n",
    "print(\"Missing data:\")\n",
    "print(df[have_Nan].isnull().sum())\n",
    "df.isna().sum().plot(kind=\"barh\",title='Missing data')\n",
    "plt.show()\n",
    "\n",
    "# Phần trăm dữ liệu bị thiểu của những cột này\n",
    "print(\"Percentage missing data:\")\n",
    "percentage_missing_data=df[have_Nan].isnull().sum() * 100 / df.shape[0]\n",
    "print(percentage_missing_data)\n",
    "\n",
    "# Kiểm tra có dữ liệu bị duplicate không\n",
    "print(\"Number of rows duplicated: \"+str(df[df.duplicated()].shape[0]))\n"
   ]
  },
  {
   "attachments": {},
   "cell_type": "markdown",
   "metadata": {},
   "source": [
    "Ta thấy có một số lượng khá lớn dữ liệu bị thiếu ở cột `total_laid_off`,`percentage_laid_off` và `funds_raised` . Vì có những cột dữ liệu bị thiếu lên đến hơn 30% nên ta không thể chọn phương án bỏ toàn bộ những dòng nào bị thiếu dữ liệu. Bên cạnh đó có tồn tại 1 dòng bị trùng ta cũng cần phải xử lý. \n",
    "\n",
    "- Đầu tiên ta loại bỏ những dòng có dữ liệu bị thiếu ở cột `industry`,`date` và `stage` vì số lượng bị thiếu không đáng kể.\n",
    "- Xóa dòng bị trùng dữ liệu.\n",
    "- Loại bỏ những dòng mà bị thiếu cả hai trường quan trọng là `total_laid_off` và `percentage_laid_off` vì những dòng này không có ý nghĩa để ta phân tích.\n",
    "- Tiếp theo tùy theo hướng phân tích ta sẽ chọn những cột dữ liệu phù hợp. tạm thời ta sẽ fill bằng 0."
   ]
  },
  {
   "cell_type": "code",
   "execution_count": null,
   "metadata": {},
   "outputs": [],
   "source": [
    "# Loại bỏ những dòng có dữ liệu bị thiếu ở cột `industry`,`date` và `stage`\n",
    "df = df[~df['industry'].isna()]\n",
    "df = df[~df['date'].isna()]\n",
    "df = df[~df['stage'].isna()]\n",
    "\n",
    "# Xóa dòng bị trùng dữ liệu.\n",
    "df = df[~df.duplicated()]\n",
    "\n",
    "# Loại bỏ những dòng mà bị thiểu cả hai trường quan trọng là `total_laid_off` và `percentage_laid_off`\n",
    "df = df[~(df['total_laid_off'].isna()&df['percentage_laid_off'].isna())]\n",
    "\n",
    "# \n",
    "df = df.fillna(0)\n",
    "print(\"After fill null:\")\n",
    "print(df.isna().sum())"
   ]
  },
  {
   "attachments": {},
   "cell_type": "markdown",
   "metadata": {},
   "source": [
    "Sau khi đã tạm thời xử lý các dữ liệu bị thiếu ta bắt đầu xử lý kiễu dữ liệu của các cột.\n",
    "\n",
    "- Chuyển data type của cột `date` sang dạng `datetime`.\n",
    "- Chuyển data type của các cột đang là dạng `object ('str')` sang dạng `category`"
   ]
  },
  {
   "cell_type": "code",
   "execution_count": null,
   "metadata": {},
   "outputs": [],
   "source": [
    "# Chuyển data type của cột `date` sang dạng `datetime`.\n",
    "df['date']=pd.to_datetime(df['date'])\n",
    "# Chuyển data type của các cột đang là dạng `object` sang dạng `category`\n",
    "object_columns = df.select_dtypes(include=['object']).columns\n",
    "for col in object_columns:\n",
    "    df[col]=df[col].astype('category')\n",
    "df.info()"
   ]
  },
  {
   "attachments": {},
   "cell_type": "markdown",
   "metadata": {},
   "source": [
    "Đã xữ lý xong kiểu dữ liệu của các cột. Giờ ta quan sát đến giá trị dữ liệu bên trong các cột."
   ]
  },
  {
   "cell_type": "code",
   "execution_count": null,
   "metadata": {},
   "outputs": [],
   "source": [
    "# Sắp xếp df theo tên company để quan sát cột `company`\n",
    "print(df.sort_values('company')['company'].unique())\n",
    "a=df['company'].unique()\n",
    "b=df['company'].str.upper().unique()\n",
    "print(a.shape[0])\n",
    "print(b.shape[0])"
   ]
  },
  {
   "attachments": {},
   "cell_type": "markdown",
   "metadata": {},
   "source": [
    "Số lượng tên công ty:\n",
    "\n",
    "-   Data gốc: 1629\n",
    "-   Data sau khi đưa tất cả về uppercase: 1624\n",
    "\n",
    "Ta thấy có sự khác nhau về số lượng tên công ty khi ta giữ nguyên data gốc và sau khi đưa tất cả về uppercase -> Có những tên của cùng một công ty nhưng chưa được chuẩn hóa cùng 1 quy tắc.\n",
    "-> Đưa tất cả về 1 loại (uppercase) và ta cũng phải xóa các khoảng trắng thừa trong tên công ty phòng trường hợp có tên công ty bị thừa khoảng trắng."
   ]
  },
  {
   "cell_type": "code",
   "execution_count": null,
   "metadata": {},
   "outputs": [],
   "source": [
    "# Xử lý dữ liệu cột `company`\n",
    "df['company']=df['company'].str.upper()\n",
    "df['company']=df['company'].str.split().str.join(\" \")\n",
    "df['company'].unique().shape[0]"
   ]
  },
  {
   "attachments": {},
   "cell_type": "markdown",
   "metadata": {},
   "source": [
    "Xử lý tương tự cho cột `location`, `industry`, `stage` và `country`."
   ]
  },
  {
   "cell_type": "code",
   "execution_count": null,
   "metadata": {},
   "outputs": [],
   "source": [
    "# Xử lý dữ liệu cột `location`\n",
    "df['location']=df['location'].str.upper()\n",
    "df['location']=df['location'].str.split().str.join(\" \")\n",
    "df['location'].unique().shape[0]"
   ]
  },
  {
   "cell_type": "code",
   "execution_count": null,
   "metadata": {},
   "outputs": [],
   "source": [
    "# Xử lý dữ liệu cột `industry`\n",
    "df['industry']=df['industry'].str.upper()\n",
    "df['industry']=df['industry'].str.split().str.join(\" \")\n",
    "df['industry'].unique().shape[0]"
   ]
  },
  {
   "cell_type": "code",
   "execution_count": null,
   "metadata": {},
   "outputs": [],
   "source": [
    "# Xử lý dữ liệu cột `stage`\n",
    "df['stage']=df['stage'].str.upper()\n",
    "df['stage']=df['stage'].str.split().str.join(\" \")\n",
    "df['stage'].unique().shape[0]"
   ]
  },
  {
   "cell_type": "code",
   "execution_count": null,
   "metadata": {},
   "outputs": [],
   "source": [
    "# Xử lý dữ liệu cột `country`\n",
    "df['country']=df['country'].str.upper()\n",
    "df['country']=df['country'].str.split().str.join(\" \")\n",
    "df['country'].unique().shape[0]"
   ]
  },
  {
   "attachments": {},
   "cell_type": "markdown",
   "metadata": {},
   "source": [
    "Tiếp theo ta kiểm tra những cột có kiễu dữ liệu là số để xem có xuất hiện dữ liệu không hợp lệ không.\n",
    "- Có dòng nào chứa số âm không?\n",
    "- `percentage_laid_off` có giá trị nào lớn hơn 1 không?"
   ]
  },
  {
   "cell_type": "code",
   "execution_count": null,
   "metadata": {},
   "outputs": [],
   "source": [
    "# Kiểu tra giá trị âm\n",
    "print(\"Negative total_laid_off: \"+str(sum(df.total_laid_off<0)))\n",
    "print(\"Negative percentage_laid_off: \"+str(sum(df.percentage_laid_off<0)))\n",
    "print(\"Negative funds_raised: \"+str(sum(df.funds_raised<0)))\n",
    "\n",
    "# Kiểm tra giá trị `percentage_laid_off` không hợp lệ\n",
    "print(\"percentage_laid_off greater than 1: \"+str(sum(df.percentage_laid_off>1)))"
   ]
  },
  {
   "attachments": {},
   "cell_type": "markdown",
   "metadata": {},
   "source": [
    "Sau khi đã xử lý xong tất cả ta sắp xếp và reset index của data."
   ]
  },
  {
   "cell_type": "code",
   "execution_count": null,
   "metadata": {},
   "outputs": [],
   "source": [
    "df=df.sort_values('company')\n",
    "df=df.reset_index(drop=True)\n",
    "df.head()"
   ]
  },
  {
   "attachments": {},
   "cell_type": "markdown",
   "metadata": {},
   "source": [
    "### Thêm cột total_employee để phục phụ phân tích sau này"
   ]
  },
  {
   "cell_type": "code",
   "execution_count": null,
   "metadata": {},
   "outputs": [],
   "source": [
    "\n",
    "\n",
    "df_with_total_employees=df.sort_values(by='total_laid_off',ascending=False)\n",
    "df_with_total_employees=df_with_total_employees.reset_index(drop=True)\n",
    "df_with_total_employees=df_with_total_employees[df_with_total_employees['percentage_laid_off']>0]\n",
    "df_with_total_employees['total_employees']=round(df_with_total_employees['total_laid_off']/df_with_total_employees['percentage_laid_off'])\n",
    "df_with_total_employees=df_with_total_employees[df_with_total_employees['total_employees']>0]\n",
    "df_with_total_employees=df_with_total_employees.sort_values(by='total_employees',ascending=False)\n",
    "df_with_total_employees=df_with_total_employees.reset_index(drop=True)\n",
    "\n"
   ]
  },
  {
   "cell_type": "code",
   "execution_count": null,
   "metadata": {},
   "outputs": [],
   "source": [
    "df2=df_with_total_employees.groupby('company')['total_employees'].max()\n",
    "df2.sort_values(ascending=False).head(10)"
   ]
  },
  {
   "attachments": {},
   "cell_type": "markdown",
   "metadata": {},
   "source": [
    "### Mối liên hệ giữa cột dữ liệu Stage và Percentage_laid_off, liệu nó có liên quan tới nhau hay không ?  Liễu "
   ]
  },
  {
   "cell_type": "code",
   "execution_count": null,
   "metadata": {},
   "outputs": [],
<<<<<<< HEAD
=======
   "source": [
    "df_clean_percentage=df[df['percentage_laid_off']>0]\n",
    "df_clean_percentage['percentage_laid_off']=df_clean_percentage['percentage_laid_off']*100\n",
    "df_clean_percentage['percentage_lo_range']=pd.cut(x=df_clean_percentage['percentage_laid_off'], bins=[0, 10, 20, 30,\n",
    "                                          40,50,60,70,80,90,100],labels=['0-10', '10-20', '20-30',\n",
    "                                          '30-40','40-50','50-60','60-70','70-80','80-90','90-100'],include_lowest=True)"
   ]
  },
  {
   "cell_type": "code",
   "execution_count": null,
   "metadata": {},
   "outputs": [],
   "source": [
    "df_clean_percentage['stage']=df_clean_percentage['stage'].sort_values()\n",
    "table = pd.pivot_table(df_clean_percentage, values='percentage_laid_off', index='percentage_lo_range',columns='stage', aggfunc='count')\n",
    "table=table.sort_values(by=['percentage_lo_range'],ascending=False)\n"
   ]
  },
  {
   "cell_type": "code",
   "execution_count": null,
   "metadata": {},
   "outputs": [],
   "source": [
    "fig, (ax1,ax2) = plt.subplots(1,2,figsize=(15, 5), tight_layout=True)\n",
    "\n",
    "df_clean_percentage=df_clean_percentage.sort_values('stage',ascending=True)\n",
    "fig.tight_layout(pad=5.0)\n",
    "ax1.set_xlabel('Percentage laid off (%)')\n",
    "plt.xticks(rotation=45)\n",
    "ax1.set_title('Phân bố giữa Stage, percentage laid off với mean',wrap=True)\n",
    "ax1.set_xticklabels(df_clean_percentage['stage'].unique(),rotation=45)\n",
    "\n",
    "sns.scatterplot(x='stage', y='percentage_laid_off',data=df_clean_percentage, ax=ax1,alpha=0.5)\n",
    "\n",
    "sns.lineplot(x='stage', y='percentage_laid_off',data=df_clean_percentage,ax=ax1,color='red',ci=None)\n",
    "\n",
    "\n",
    "sns.heatmap(table, annot=True, fmt=\"d\", linewidths=.5, ax=ax2,cmap=\"crest\",cbar_kws={'label': 'Number of companies'})\n",
    "ax2.set_title('Stage, quy mô lay off và tổng số công ty diễn ra lay off với quy mô đó',wrap=True)\n",
    "ax2.set_xlabel('Percentage laid off (%)')\n",
    "plt.xticks(rotation=45)\n",
    "plt.show()"
   ]
  },
  {
   "attachments": {},
   "cell_type": "markdown",
   "metadata": {},
   "source": [
    "Một vài điểm đáng chú ý:\n",
    "- Nhìn vào biểu đồ scatter và heatmap ta có thể thấy dữ liệu phân bố chủ yếu ở mức sa thải dưới 20% nhân sự mỗi đợt. \n",
    "- Nhìn và heat map ta thấy tương đồng nhiều nhất là 150 công ty ở stage `Post-IPO` có xu hướng sa thải >10% nhân sự.\n",
    "- Nhìn vào mean line, các công ty có `stage` là `Seed` sa thải % nhân sự rất cao và không bao giờ sa thải dưới 10% nhân sự.\n",
    "- Dữ liệu chủ yếu tập trung ở nhóm các công ty có stage từ `Series A` đến `Series E`. Nhóm này có xu hướng sa thải trung bình 10-20% mỗi đợt.\n",
    "- Các công ty stage từ `Series F` đến `Series J` và `Subdiary` có rất ít dữ liệu sa thải và không bao giờ sa thải hơn 50% nhân sự trong một đợt. Có thể lý giải đây là các giai đoạn gọi vốn sau khi đã khá ổn định của các công ty nên ít diễn ra sa thải. Các công ty thuộc `Subdiary` thì có công ty mẹ chống lưng nên tình trạng cũng tương đối ổn định."
   ]
  },
  {
   "attachments": {},
   "cell_type": "markdown",
   "metadata": {},
   "source": [
    "### Stage nào có tổng số laid off cao nhất:"
   ]
  },
  {
   "cell_type": "code",
   "execution_count": null,
   "metadata": {},
   "outputs": [],
   "source": [
    "stage_df = df.groupby('stage').sum().reset_index()"
   ]
  },
  {
   "cell_type": "code",
   "execution_count": null,
   "metadata": {},
   "outputs": [],
   "source": [
    "px.pie(stage_df,names='stage',values='total_laid_off',\n",
    "      color_discrete_sequence=px.colors.sequential.thermal,\n",
    "       title='Tổng số laid off của từng stage (theo tỷ lệ %)')"
   ]
  },
  {
   "attachments": {},
   "cell_type": "markdown",
   "metadata": {},
   "source": [
    "Từ biểu đồ tổng số laid off của từng stage ta có thể thấy:\n",
    "- Stage POST-IPO chiếm 53.2% tổng số lượng laid off, chiếm hơn 1/2 tổng số laid off của tất cả các công ty.\n",
    "- POST-IPO cũng chính là Stage có tổng số laid off cao nhất."
   ]
  },
  {
   "attachments": {},
   "cell_type": "markdown",
   "metadata": {},
   "source": [
    "### Tổng số lượng nhân viên bị sa thải của các ngành công nghiệp khác nhau theo từng năm: "
   ]
  },
  {
   "cell_type": "code",
   "execution_count": null,
   "metadata": {},
   "outputs": [],
   "source": [
    "df = df.reset_index()\n",
    "df['date'] = pd.to_datetime(df['date'])\n",
    "df_industry = df.groupby([ df.industry, df.date.dt.year]).sum()\n",
    "# df_industry.sort_values(by=['total_laid_off','date'], ascending=False)"
   ]
  },
  {
   "cell_type": "code",
   "execution_count": null,
   "metadata": {},
   "outputs": [],
   "source": [
    "df_industry = df_industry.reset_index()"
   ]
  },
  {
   "cell_type": "code",
   "execution_count": null,
   "metadata": {},
   "outputs": [],
   "source": [
    "plt.figure(figsize=(14, 10))\n",
    "plt.xticks(rotation=90)\n",
    "plt.title(\"Tổng số lượng sa thải của các ngành công nghiệp khác nhau trong từng năm\")\n",
    "sns.set(style=\"white\", palette=\"Accent\", color_codes=True)\n",
    "\n",
    "sns.barplot(data=df_industry.sort_values(by=['total_laid_off','date'], ascending=False), x=\"industry\", y=\"total_laid_off\", hue=\"date\")"
   ]
  },
  {
   "attachments": {},
   "cell_type": "markdown",
   "metadata": {},
   "source": [
    "Xu hướng sa thải hằng năm của thế giới cho thấy rằng:\n",
    "- Việc xa thải cao hơn vào năm 2020, sau đó giảm và năm 2021 và tăng vọt vào năm 2021.\n",
    "- Vào năm 2020, các ngành công nghiệp Transportation (vận tải) và Travel (du lịch) đã bị ảnh hưởng nhiều nhất bởi dịch COVID-19. Điều đó được thể hiện thông qua số lượng sa thải vào năm 2020. Nhưng 2 ngành này đã phục hồi vào những năm sau đó.\n",
    "- Các ngành công nghiệp Retail (bán lẻ), Consumer (tiêu dùng) và Food (thực phẩm) đã phải đối mặt với việc sa thải gia tăng mạnh mẽ qua các năm."
   ]
  },
  {
   "attachments": {},
   "cell_type": "markdown",
   "metadata": {},
   "source": [
    "### Theo từng năm, quốc gia có tổng số lượng sa thải lớn nhất:"
   ]
  },
  {
   "cell_type": "code",
   "execution_count": null,
   "metadata": {},
   "outputs": [],
   "source": [
    "df['year'] = df['date'].dt.year\n",
    "layoff_year_country = df.groupby(['year','country']).sum().reset_index()[['year','country','total_laid_off']]"
   ]
  },
  {
   "cell_type": "code",
   "execution_count": null,
   "metadata": {},
   "outputs": [],
   "source": [
    "layoff_year_country = layoff_year_country.sort_values([\"year\",\"total_laid_off\"],ascending=False)"
   ]
  },
  {
   "cell_type": "code",
   "execution_count": null,
   "metadata": {},
   "outputs": [],
   "source": [
    "px.bar(layoff_year_country,x='year',y='total_laid_off',color='country',text='country',\n",
    "      title='Tổng lượng sa thải của từng năm theo quốc gia'\n",
    "      )"
   ]
  },
  {
   "attachments": {},
   "cell_type": "markdown",
   "metadata": {},
   "source": [
    "Từ biểu đồ trên ta thấy:\n",
    "- Tổng số lượng sa thải giảm trong giai đoạn từ 2020 sang 2021. Nhưng sau đó lại tăng mạnh vào giai đoạn 2022.\n",
    "- Với tất cả các năm 2020, 2021, 2022, 2023 thì United States luôn là quốc gia có số lượng sa thải lớn nhất. Thường chiếm gần 1/2 tổng số lượng sa thải của tất cả các quốc gia."
   ]
  },
  {
   "attachments": {},
   "cell_type": "markdown",
   "metadata": {},
<<<<<<< HEAD
<<<<<<< HEAD
<<<<<<< HEAD
<<<<<<< HEAD
>>>>>>> parent of 3c8237e (Lieu done 5 cau)
=======
>>>>>>> parent of 3c8237e (Lieu done 5 cau)
=======
>>>>>>> parent of 3c8237e (Lieu done 5 cau)
=======
>>>>>>> parent of 3c8237e (Lieu done 5 cau)
=======
>>>>>>> parent of 3c8237e (Lieu done 5 cau)
   "source": []
  },
  {
   "attachments": {},
   "cell_type": "markdown",
   "metadata": {},
   "source": [
    "### Xét từng quốc gia, thể hiện bằng biểu đồ cột cho thấy số lượng người bị sa thải của các ngành. Trí "
   ]
  },
  {
   "cell_type": "code",
   "execution_count": null,
   "metadata": {},
   "outputs": [],
   "source": []
  },
  {
   "attachments": {},
   "cell_type": "markdown",
   "metadata": {},
   "source": [
    "### ngành nào đang có số lượng layoff cao nhất trên thế giới - Yến "
   ]
  },
  {
   "cell_type": "code",
   "execution_count": null,
   "metadata": {},
   "outputs": [],
   "source": []
  },
  {
   "attachments": {},
   "cell_type": "markdown",
   "metadata": {},
   "source": [
    "### Xét tất cả các ngành, dùng biểu đồ cột thể hiện số lượng quốc gia có ngành nghề đó layoff top đầu / cuối. Hưng \n",
    "\n",
    "Các bước thực hiện: Với mỗi industry ta sẽ tìm số lượng country laid off:\n",
    "- Lọc ra các country\n",
    "- Với mỗi country, đếm số lượng total_laid_off\n",
    "- Nếu total_laid_off của country tương ứng khác 0 thì số lượng country laid off tăng lên 1\n",
    "Sau khi đã có số lượng country laid off, ta trực quan bằng biểu đồ cột với trục x là industry và y là số lượng country laid off tương ứng với industry đó. (xem hình bên dưới)\n",
    "\n",
    "Nhận xét:\n",
    "- Industry có số lượng country laid off cao nhất là finance (số lượng: 20)\n",
    "- Industry có số lượng country laid off thấp nhất là manufacturing (số lượng: 1)"
   ]
  },
  {
   "cell_type": "code",
   "execution_count": null,
   "metadata": {},
   "outputs": [],
   "source": [
    "x= df[\"industry\"].unique()\n",
    "print(len(x))\n",
    "y=[]\n",
    "z=0\n",
    "\n",
    "for i in range(len(df[\"industry\"].unique())):\n",
    "    industryData= df[\"industry\"].unique()[i]\n",
    "    industryRows = df[df[\"industry\"]==industryData]\n",
    "    countryArr = industryRows[\"country\"].unique()\n",
    "\n",
    "    res1=0\n",
    "    for item in industryRows[\"total_laid_off\"]:\n",
    "        res1+=item\n",
    "    # print(res1)\n",
    "\n",
    "\n",
    "    totalArrCountry = []\n",
    "\n",
    "    for item in countryArr:\n",
    "        rows = industryRows[industryRows[\"country\"]==item]\n",
    "        totalArr = rows[\"total_laid_off\"]\n",
    "        sumTmp=0\n",
    "        for total in totalArr:\n",
    "            sumTmp+=total\n",
    "        # print(sumTmp)\n",
    "        totalArrCountry.append(sumTmp)\n",
    "\n",
    "    result=0\n",
    "    for item in range(len(countryArr)):\n",
    "        if totalArrCountry[item]!=0:\n",
    "            result+=1\n",
    "\n",
    "    y.append(result)\n",
    "    z+=result\n",
    "\n",
    "\n",
    "d = {'industry': x, 'total countries': y}\n",
    "totalCountryByIndustry = pd.DataFrame(data=d)\n",
    "# totalCountryByIndustry\n",
    "\n",
    "print(totalCountryByIndustry[totalCountryByIndustry[\"total countries\"]==totalCountryByIndustry[\"total countries\"].max()])\n",
    "print(totalCountryByIndustry[totalCountryByIndustry[\"total countries\"]==totalCountryByIndustry[\"total countries\"].min()])\n",
    "\n",
    "\n",
    "\n",
    "sns.set(font_scale=0.6)\n",
    "# sns.set(rc = {'figure.figsize':(25,8)})\n",
    "sns.barplot(data=totalCountryByIndustry, x=\"industry\", y=\"total countries\",)\n",
    "\n",
    "\n"
   ]
  },
  {
   "attachments": {},
   "cell_type": "markdown",
   "metadata": {},
   "source": [
    "### Thêm total_employee để chọn ra top company theo quy mô nhân sự. Từ đây phát triễn các phân tích trên nhóm top company. Yến  "
   ]
  },
  {
   "cell_type": "code",
   "execution_count": null,
   "metadata": {},
   "outputs": [],
   "source": []
  },
  {
   "attachments": {},
   "cell_type": "markdown",
   "metadata": {},
   "source": [
    "### Câu 16\n",
    "Có 1 số điểm thú vị trong dữ liệu đang tìm từ từ. VD: \n",
    "\n",
    " 1 số company mà percentage_laid_off=1 tức là toàn bộ công ty đó bị sa thải --> bankrupt. -> KHÁM PHÁ PHÁ SẢN \n",
    "\n",
    "Công ty nào sa thải nhân viên và những dịp lễ đặc biệt (eg: Christmas...) nhiều nhất? Số lượng? \n",
    "\n",
    "Thời điểm nào lay off nhiều nhất (Tháng/quý/năm - stack bar) "
   ]
  },
  {
   "attachments": {},
   "cell_type": "markdown",
   "metadata": {},
   "source": [
    "### Địa điểm tiêu biểu nơi xảy ra lay off"
   ]
  },
  {
   "cell_type": "code",
   "execution_count": null,
   "metadata": {},
   "outputs": [],
   "source": [
    "\n",
    "plt.figure(facecolor='k')\n",
    "wordcloud = WordCloud(width=400, height=200,max_font_size=100).generate(' '.join(df['location']))\n",
    "\n",
    "plt.imshow(wordcloud,interpolation=\"bilinear\")\n",
    "plt.axis(\"off\")\n",
    "plt.tight_layout(pad=0)\n",
    "plt.show()"
   ]
  },
  {
   "attachments": {},
   "cell_type": "markdown",
   "metadata": {},
   "source": [
    "San Francisco area bay với Silicon Valley nổi tiếng lại cũng là nơi diễn ra lay off nhiều nhất :("
   ]
  },
  {
   "cell_type": "code",
   "execution_count": null,
   "metadata": {},
   "outputs": [],
   "source": [
    "df_clean_total_lo=df[df['total_laid_off']>0]\n",
    "df_clean_total_lo['date'].min()\n",
    "df_clean_total_lo['date'].max()\n",
    "df_clean_total_lo['month_year'] = pd.to_datetime(df_clean_total_lo['date']).dt.strftime('%Y-%m')\n",
    "total_by_month_year = df_clean_total_lo.groupby('month_year').sum()['total_laid_off']\n",
    "total_by_month_year.reindex(pd.period_range('2020-01',total_by_month_year.index[-1],freq='M'))\n",
    "total_by_month_year.fillna(0.0)\n",
    "total_by_month_year.max()\n",
    "# lo_2020=lo_2020.reindex(pd.RangeIndex(1,13),fill_value= 0).ffill()\n",
    "# total_by_month_year.reset_index().rename(columns={'sum':'valuesum'})\n",
    "\n"
   ]
  },
  {
   "attachments": {},
   "cell_type": "markdown",
   "metadata": {},
   "source": [
    "## Số lượng lay off theo thời gian"
   ]
  },
  {
   "cell_type": "code",
   "execution_count": null,
   "metadata": {},
   "outputs": [],
   "source": [
    "df_total_employees_time=df_with_total_employees[df_with_total_employees.total_laid_off>0]\n",
    "df_total_employees_time['year']=df_total_employees_time['date'].apply(lambda x :x.year)\n",
    "df_total_employees_time['month']=df_total_employees_time['date'].apply(lambda x :x.month)\n",
    "df_total_employees_time['month_year'] = pd.to_datetime(df_total_employees_time['date']).dt.strftime('%Y-%m')\n",
    "\n"
   ]
  },
  {
   "cell_type": "code",
   "execution_count": null,
   "metadata": {},
   "outputs": [],
   "source": [
    "total_by_time=df_total_employees_time.groupby('month_year').sum()['total_laid_off']\n",
    "\n",
    "fig, ax = plt.subplots( figsize=(9, 5), tight_layout=True)\n",
    "fig.tight_layout(pad=5.0)\n",
    "plt.plot(total_by_time.index,total_by_time.values)\n",
    "plt.xlabel('Date')\n",
    "plt.ylabel('Total laid off')\n",
    "plt.title('Số người bị sa thải qua từng thời điểm')\n",
    "\n",
    "\n",
    "x_max=np.where(total_by_time == total_by_time.max())[0]\n",
    "y_max=total_by_time.max()\n",
    "plt.annotate(f'{int(y_max)} employees laid off', xy=(x_max, y_max), xytext=(x_max-10, y_max),arrowprops=dict(arrowstyle='->',color='red'))\n",
    "# beautify the x-labels\n",
    "plt.gcf().autofmt_xdate()\n",
    "print(f\"Số lượng lay off nhiều nhất trong 1 tháng: {y_max} người\")"
   ]
  },
  {
   "attachments": {},
   "cell_type": "markdown",
   "metadata": {},
   "source": [
    "Làng sóng lay off diễn ra mạnh mẽ nhất từ tháng 9 2022 và đạt đỉnh vào tháng 1 2023 với tổng cộng gần 80 ngàn người bị sa thải trong 1 tháng."
   ]
  },
  {
   "cell_type": "markdown",
   "metadata": {},
   "source": [
    "### Số lượng lay off theo tháng"
   ]
  },
  {
   "cell_type": "code",
   "execution_count": null,
   "metadata": {},
   "outputs": [],
   "source": [
    "\n",
    "analysis_year = df_total_employees_time.groupby([\"year\"],sort=True)\n",
    "fig, ax = plt.subplots( figsize=(9, 5), tight_layout=True)\n",
    "fig.tight_layout(pad=5.0)\n",
    "for year, dfx in analysis_year:\n",
    "    df_m=dfx.groupby('month').sum()['total_laid_off']\n",
    "    plt.plot(df_m.index,df_m.values,label=f'{year}')\n",
    "\n",
    "plt.xticks(np.arange(1, 13, 1))\n",
    "plt.xlabel('Month')    \n",
    "plt.ylabel('Total laid off')   \n",
    "plt.title('Số người bị sa thải theo tháng') \n",
    "plt.legend()\n"
   ]
  },
  {
   "attachments": {},
   "cell_type": "markdown",
   "metadata": {},
   "source": [
    "Tháng 11 và tháng 1 là hai thời điểm có nhiều người bị sa thải nhất. Nhìn rộng hơn thì quý 1 và quý 4 là những thời điểm có lượng sa thải lớn nhất."
   ]
  },
  {
   "attachments": {},
   "cell_type": "markdown",
   "metadata": {},
   "source": [
    "## Liệu có đợt lay off này diễn ra vào holiday week?"
   ]
  },
  {
   "attachments": {},
   "cell_type": "markdown",
   "metadata": {},
   "source": [
    "*holiday week: Tuần lễ cuối cùng của năm gồm cả Christmas (25/12) và ngày đầu năm mới (01/01). Đây là dịp lễ lớn ở các nước phương tây."
   ]
  },
  {
   "cell_type": "code",
   "execution_count": null,
   "metadata": {},
   "outputs": [],
   "source": [
    "df_time=df.set_index('date',drop=True)\n",
    "holiday_laid_off_2021=df_time['2020-12-24':'2021-01-01']\n",
    "holiday_laid_off_2022=df_time['2021-12-24':'2022-01-01']\n",
    "holiday_laid_off_2023=df_time['2022-12-24':'2023-01-01']"
   ]
  },
  {
   "cell_type": "code",
   "execution_count": null,
   "metadata": {},
   "outputs": [],
   "source": [
    "print(holiday_laid_off_2021)"
   ]
  },
  {
   "cell_type": "code",
   "execution_count": null,
   "metadata": {},
   "outputs": [],
   "source": [
    "print(holiday_laid_off_2022)"
   ]
  },
  {
   "cell_type": "code",
   "execution_count": null,
   "metadata": {},
   "outputs": [],
   "source": [
    "print(holiday_laid_off_2023)\n"
   ]
  },
  {
   "attachments": {},
   "cell_type": "markdown",
   "metadata": {},
   "source": [
    "Kết quả ta thấy cuối năm 2022 có 4 công ty cho một số lượng khá lớn nhân viên nghỉ khỏe ngay trong thời gian diễn ra trong holiday week 😥."
   ]
  },
  {
   "attachments": {},
   "cell_type": "markdown",
   "metadata": {},
   "source": [
    "### Với mỗi đợt sa thải, các công ty thường cho nghỉ bao nhiêu phần trăm nhân sự?"
   ]
  },
  {
   "cell_type": "code",
   "execution_count": null,
   "metadata": {},
   "outputs": [],
   "source": [
    "df_clean_percentage=df[df['percentage_laid_off']>0]\n",
    "df_clean_percentage['percentage_laid_off']=df_clean_percentage['percentage_laid_off']*100\n",
    "df_clean_percentage['percentage_lo_range']=pd.cut(x=df_clean_percentage['percentage_laid_off'], bins=[0, 10, 20, 30,\n",
    "                                          40,50,60,70,80,90,100],labels=['0-10', '10-20', '20-30',\n",
    "                                          '30-40','40-50','50-60','60-70','70-80','80-90','90-100'],include_lowest=True)"
   ]
  },
  {
   "cell_type": "code",
   "execution_count": null,
   "metadata": {},
   "outputs": [],
   "source": [
    "fig, ax = plt.subplots(figsize=(10, 6), tight_layout=True)\n",
    "fig.tight_layout(pad=5.0)\n",
    "ax.set_xticks(np.arange(0, 101, 10))\n",
    "ax.set_title( 'Số đợt sa thải theo quy mô phần trăm nhân sự mỗi đợt',wrap=True,pad=10)\n",
    "ax.set_xlabel('percentage laid off (%)')\n",
    "ax.set_ylabel('Number of times laid off happend')\n",
    "sns.histplot(df_clean_percentage['percentage_laid_off'], kde=True, bins=50)"
   ]
  },
  {
   "attachments": {},
   "cell_type": "markdown",
   "metadata": {},
   "source": [
    "Ta thấy biểu đồ có 2 đỉnh. Đỉnh lớn nằm quanh 10% cho ta nhận định với mỗi đợt sa thải thì khoảng 10% nhân sự là con số ưu thích của các công ty. Biểu đồ lệch trái cho thấy các công ty có xu hướng luôn có gắng để sa thải ít hơn 50% nhân sự mỗi đợt. Điều thú vị khác là đỉnh thứ 2 nằm ở mức 100%. Điều này có thể liên quan đến các công ty quy nhỏ, toàn bộ các thành viên gắng kết với nhau đến những giây phút cuối cùng ?!?"
   ]
  },
  {
   "cell_type": "markdown",
   "metadata": {},
   "source": [
    "### Top 20 công ty có tổng % số lượng nhân sự bị sa thải nhiều nhất"
   ]
  },
  {
   "cell_type": "code",
   "execution_count": null,
   "metadata": {},
   "outputs": [],
   "source": [
    "fig, ax = plt.subplots( figsize=(9, 5), tight_layout=True)\n",
    "fig.tight_layout(pad=5.0)\n",
    "top_20 = df.groupby(['company','location']).sum().sort_values(by='percentage_laid_off',ascending=False).head(20)['percentage_laid_off'] * 100.0\n",
    "top_20.plot(kind='barh',ax=ax)\n",
    "ax.set_title('Top 20 công ty sai thải nhân sự nhiều nhất theo tổng tỉ lệ phần trăm')\n",
    "ax.set_xlabel('percentage laid off (%)')\n",
    "ax.set_ylabel('Company')"
   ]
  },
  {
   "cell_type": "markdown",
   "metadata": {},
   "source": [
    "Ta có thể thấy là có nhiều công ty sa thải với tổng hơn cả 100% nhân sự. Nguyên do là vì họ đã sa thải- tuyển lại và tiếp tục sa thải tiếp trong nhiều đợt . Một ví dụ là công ty `Air rooms`, ngày 2020-04-22 họ sa thải 70% nhân sự và sau đó vào ngày 2020-05-07 họ tiếp tục sa thải toàn bộ 100% nhân sự. Cá biệt có công ty `Service` trụ sở tại Los Angeles đã sai thải 2 lần với quy mô mỗi lần là 100% nhân sự chỉ cách nhau vài ngày 💀."
   ]
  },
  {
   "cell_type": "code",
   "execution_count": null,
   "metadata": {},
   "outputs": [],
   "source": [
    "print(df[df.company=='AIRY ROOMS'])\n",
    "print(df[df.company=='SERVICE'])"
   ]
  },
  {
   "attachments": {},
   "cell_type": "markdown",
   "metadata": {},
   "source": [
    "### Tìm hiểu về các công ty sa thải hơn 50% nhân sự trong các đợt"
   ]
  },
  {
   "cell_type": "code",
   "execution_count": null,
   "metadata": {},
   "outputs": [],
   "source": [
    "more_than_50percent_laid_off=df_clean_percentage[df_clean_percentage.percentage_laid_off>=50]\n",
    "# số lần sa thải có quy mô > 50% nhân viên\n",
    "n_more_than_50percent_laid_off=more_than_50percent_laid_off.shape[0]\n",
    "\n",
    "# số lần sa thải có quy mô 100% nhân viên\n",
    "laid_off_all_employees =df_clean_percentage[df_clean_percentage.percentage_laid_off==100]\n",
    "n_laid_off_all_employees = laid_off_all_employees.shape[0]\n",
    "print(\"Tổng số đợt sa thải >50% nhân sự: \"+str(n_more_than_50percent_laid_off))\n",
    "print(\"Tổng số đợt sa thải 100% nhân sự: \"+str(n_laid_off_all_employees))"
   ]
  },
  {
   "cell_type": "code",
   "execution_count": null,
   "metadata": {},
   "outputs": [],
   "source": [
    "fig, (ax1, ax2) = plt.subplots(1, 2, figsize=(12, 5), tight_layout=True)\n",
    "fig.tight_layout(pad=5.0)\n",
    "#pie chart\n",
    "pie_lb=['\\n'.join(wrap('Vẫn còn nhân sự', 15)),'\\n'.join(wrap('Toàn bộ nhân sự đã bị sa thải', 15))]\n",
    "ax1.pie([n_more_than_50percent_laid_off-n_laid_off_all_employees,n_laid_off_all_employees],labels=pie_lb,autopct='%.0f%%',counterclock=False, startangle=-270,colors=['#F1C40F','#E74C3C'])\n",
    "ax1.set_title('Tình trạng nhân sự của các công ty có hơn 50% nhân viên bị sa thải',wrap=True)\n",
    "\n",
    "#histogram\n",
    "ax2.hist(more_than_50percent_laid_off['stage'],alpha=0.9)\n",
    "plt.xticks(rotation=45)\n",
    "ax2.set_xlabel('Stage')\n",
    "ax2.set_ylabel('Number of companies')\n",
    "ax2.set_title('Phân bố theo Stage của các công ty có hơn 50% nhân viên bị sa thải',wrap=True)\n",
    "plt.show()"
   ]
  },
  {
   "attachments": {},
   "cell_type": "markdown",
   "metadata": {},
   "source": [
    "Dựa vào biểu đồ tròn ta thấy rằng, một khi đã sa thải hơn 50% nhân sự thì có tới hơn 53% đó sẽ là những lần sa thải toàn bộ 100% nhân sự. Ta có thiểu thấy mức độ nghiêm trọng của những lần sa thải hơn 50%, đa phần những công ty này đã không còn lựa chọn nào và có thể họ đã phá sản.\n",
    "\n",
    "Nhìn vào biểu đồ histogram ta thấy rằng đa số những công ty thuộc nhóm ra thải nhiều này chủ yếu không có thông tin về `stage` hoặc thuộc những giai đoạn khởi đầu (`Seed`, `SeriesA`...). Những công ty này thiếu sự ổn định."
   ]
  },
  {
   "attachments": {},
   "cell_type": "markdown",
   "metadata": {},
   "source": [
    "### Tìm hiểu mối quan hệ giữa Stage và Percentage laid off"
   ]
  },
  {
   "cell_type": "code",
   "execution_count": null,
   "metadata": {},
   "outputs": [],
   "source": [
    "\n",
    "df_clean_percentage['stage']=df_clean_percentage['stage'].sort_values()\n",
    "table = pd.pivot_table(df_clean_percentage, values='percentage_laid_off', index='percentage_lo_range',columns='stage', aggfunc='count')\n",
    "table=table.sort_values(by=['percentage_lo_range'],ascending=False)\n"
   ]
  },
  {
   "cell_type": "code",
   "execution_count": null,
   "metadata": {},
   "outputs": [],
   "source": [
    "fig, (ax1,ax2) = plt.subplots(1,2,figsize=(15, 5), tight_layout=True)\n",
    "\n",
    "df_clean_percentage=df_clean_percentage.sort_values('stage',ascending=True)\n",
    "fig.tight_layout(pad=5.0)\n",
    "ax1.set_xlabel('Percentage laid off (%)')\n",
    "plt.xticks(rotation=45)\n",
    "ax1.set_title('Phân bố giữa Stage, percentage laid off với mean',wrap=True)\n",
    "ax1.set_xticklabels(df_clean_percentage['stage'].unique(),rotation=45)\n",
    "\n",
    "sns.scatterplot(x='stage', y='percentage_laid_off',data=df_clean_percentage, ax=ax1,alpha=0.5)\n",
    "\n",
    "sns.lineplot(x='stage', y='percentage_laid_off',data=df_clean_percentage,ax=ax1,color='red',ci=None)\n",
    "\n",
    "\n",
    "sns.heatmap(table, annot=True, fmt=\"d\", linewidths=.5, ax=ax2,cmap=\"crest\",cbar_kws={'label': 'Number of companies'})\n",
    "ax2.set_title('Stage, quy mô lay off và tổng số công ty diễn ra lay off với quy mô đó',wrap=True)\n",
    "ax2.set_xlabel('Percentage laid off (%)')\n",
    "plt.xticks(rotation=45)\n",
    "plt.show()\n"
   ]
  },
  {
   "attachments": {},
   "cell_type": "markdown",
   "metadata": {},
   "source": [
    "Một vài điểm đáng chú ý:\n",
    "- Nhìn vào biểu đồ scatter và heatmap ta có thể thấy dữ liệu phân bố chủ yếu ở mức sa thải dưới 20% nhân sự mỗi đợt. \n",
    "- Nhìn và heat map ta thấy tương đồng nhiều nhất là 150 công ty ở stage `Post-IPO` có xu hướng sa thải <10% nhân sự.\n",
    "- Nhìn vào mean line, các công ty có `stage` là `Seed` sa thải % nhân sự rất cao và không bao giờ sa thải dưới 10% nhân sự.\n",
    "- Dữ liệu chủ yếu tập trung ở nhóm các công ty có stage từ `Series A` đến `Series E`. Nhóm này có xu hướng sa thải trung bình 10-20% mỗi đợt.\n",
    "- Các công ty stage từ `Series F` đến `Series J` và `Subdiary` có rất ít dữ liệu sa thải và không bao giờ sa thải hơn 50% nhân sự trong một đợt. Có thể lý giải đây là các giai đoạn gọi vốn sau khi đã khá ổn định của các công ty nên ít diễn ra sa thải. Các công ty thuộc `Subdiary` thì có công ty mẹ chống lưng nên tình trạng cũng tương đối ổn định."
   ]
  },
  {
   "attachments": {},
   "cell_type": "markdown",
   "metadata": {},
   "source": [
    "### Tìm hiểu quan hệ giữa percentage laid off và funds raised"
   ]
  },
  {
   "cell_type": "code",
   "execution_count": null,
   "metadata": {},
   "outputs": [],
   "source": [
    "\n",
    "fig, ax = plt.subplots( figsize=(8, 5), tight_layout=True)\n",
    "fig.tight_layout(pad=5.0)\n",
    "#scatter 1\n",
    "df_clean_percentage=df_clean_percentage.sort_values('stage',ascending=False)\n",
    "ax.scatter(df_clean_percentage['percentage_laid_off'],df_clean_percentage['funds_raised'],alpha=0.5)\n",
    "ax.set_xlabel('Percentage laid off (%)')\n",
    "ax.set_title('Phân bố giữa funds raised và percentage laid off',wrap=True)\n",
    "# ax.set_ylim([0, 28000])"
   ]
  },
  {
   "attachments": {},
   "cell_type": "markdown",
   "metadata": {},
   "source": [
    "### Tìm hiểu quan hệ giữa total layoff và total employees"
   ]
  },
  {
   "cell_type": "code",
   "execution_count": null,
   "metadata": {},
   "outputs": [],
   "source": []
  }
 ],
 "metadata": {
  "kernelspec": {
   "display_name": "Python 3",
   "language": "python",
   "name": "python3"
  },
  "language_info": {
   "codemirror_mode": {
    "name": "ipython",
    "version": 3
   },
   "file_extension": ".py",
   "mimetype": "text/x-python",
   "name": "python",
   "nbconvert_exporter": "python",
   "pygments_lexer": "ipython3",
   "version": "3.10.10"
  },
  "orig_nbformat": 4
 },
 "nbformat": 4,
 "nbformat_minor": 2
}
