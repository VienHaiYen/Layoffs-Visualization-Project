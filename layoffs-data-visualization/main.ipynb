{
  "cells": [
    {
      "attachments": {},
      "cell_type": "markdown",
      "metadata": {},
      "source": [
        "# LAB 01: LAYOFFS 2023"
      ]
    },
    {
      "attachments": {},
      "cell_type": "markdown",
      "metadata": {},
      "source": [
        "## Mô tả đồ án:\n",
        "- Từ nguồn dữ liệu lấy được từ Kaggle về vấn đề sa thải nhân viên ở các công ty trên toàn thế giới, đồ án này nhằm mục đích phân tích dữ liệu đã có để có được cái nhìn khách quan hơn về vấn đề này."
      ]
    },
    {
      "attachments": {},
      "cell_type": "markdown",
      "metadata": {},
      "source": [
        "---"
      ]
    },
    {
      "attachments": {},
      "cell_type": "markdown",
      "metadata": {},
      "source": [
        "### Import các thư viện"
      ]
    },
    {
      "cell_type": "code",
      "execution_count": 1,
      "metadata": {},
      "outputs": [],
      "source": [
        "import numpy as np\n",
        "import pandas as pd\n",
        "import seaborn as sns\n",
        "import matplotlib.pyplot as plt\n",
        "from textwrap import wrap\n",
        "from scipy import stats\n",
        "from wordcloud import WordCloud\n",
        "import calendar\n",
        "import warnings\n",
        "warnings.filterwarnings('ignore')\n",
        "import plotly.express as px\n",
        "import matplotlib.colors as colors"
      ]
    },
    {
      "attachments": {},
      "cell_type": "markdown",
      "metadata": {},
      "source": [
        "---"
      ]
    },
    {
      "attachments": {},
      "cell_type": "markdown",
      "metadata": {},
      "source": [
        "### <span style=\"color:yellow\"> A. Thu thập dữ liệu</span>\n"
      ]
    },
    {
      "attachments": {},
      "cell_type": "markdown",
      "metadata": {},
      "source": [
        "#### Ngữ cảnh thực hiện tìm kiếm dữ liệu"
      ]
    },
    {
      "attachments": {},
      "cell_type": "markdown",
      "metadata": {},
      "source": [
        "Sau dịch covid 19, các công ty công nghệ trên toàn cầu đang đối mặt với sự suy thoái kinh tế. Sự chậm lại của chi tiêu từ người tiêu dùng, lãi suất cao hơn từ các ngân hàng trung ương và sức mạnh của đồng đô la ngoại tệ đang gợi ý về khả năng xảy ra suy thoái kinh tế và các công ty công nghệ đã bắt đầu **cắt giảm nhân sự**."
      ]
    },
    {
      "attachments": {},
      "cell_type": "markdown",
      "metadata": {},
      "source": [
        "#### Chủ đề"
      ]
    },
    {
      "attachments": {},
      "cell_type": "markdown",
      "metadata": {},
      "source": [
        "Phân tích tình trạng hỗn loạn công nghệ gần đây thông qua số liệu về việc sa thải nhân sự, từ đó rút ra được những thông tin hữu ích."
      ]
    },
    {
      "attachments": {},
      "cell_type": "markdown",
      "metadata": {},
      "source": [
        "#### Nguồn\n",
        "Dữ liệu được lấy trên Kaggle dưới file csv, đường link dẫn đến  [Ở đây](https://www.kaggle.com/datasets/swaptr/layoffs-2022?resource=download)"
      ]
    },
    {
      "attachments": {},
      "cell_type": "markdown",
      "metadata": {},
      "source": [
        "#### Người ta có cho phép sử dụng dữ liệu như thế này hay không?"
      ]
    },
    {
      "attachments": {},
      "cell_type": "markdown",
      "metadata": {},
      "source": [
        "Thông tin License của dữ liệu: Open Database.\n",
        "\n",
        "Theo thông tin License của dữ liệu, người dùng được phép tự do chia sẻ, sửa đổi và sử dụng dữ liệu trong khi duy trì sự tự do tương tự cho người dùng khác."
      ]
    },
    {
      "attachments": {},
      "cell_type": "markdown",
      "metadata": {},
      "source": [
        "#### Người ta đã thu thập dữ liệu này như thế nào? Phương pháp thực hiện là gì?"
      ]
    },
    {
      "attachments": {},
      "cell_type": "markdown",
      "metadata": {},
      "source": [
        "Dữ liệu được thu thập bằng cách theo dõi số liệu được báo cáo trên các nền tảng:\n",
        "- Bloombreg\n",
        "- San Francisco Business Times\n",
        "- TechCrunch\n",
        "- The New York Times\n",
        "\n",
        "Phương pháp thu thập dữ liệu: Dữ liệu được tải xuống từ Layoffs.fyi Tracker và được biên soạn thành 1 file CSV."
      ]
    },
    {
      "attachments": {},
      "cell_type": "markdown",
      "metadata": {},
      "source": [
        "#### Đọc dữ liệu"
      ]
    },
    {
      "cell_type": "code",
      "execution_count": 2,
      "metadata": {},
      "outputs": [
        {
          "data": {
            "text/html": [
              "<div>\n",
              "<style scoped>\n",
              "    .dataframe tbody tr th:only-of-type {\n",
              "        vertical-align: middle;\n",
              "    }\n",
              "\n",
              "    .dataframe tbody tr th {\n",
              "        vertical-align: top;\n",
              "    }\n",
              "\n",
              "    .dataframe thead th {\n",
              "        text-align: right;\n",
              "    }\n",
              "</style>\n",
              "<table border=\"1\" class=\"dataframe\">\n",
              "  <thead>\n",
              "    <tr style=\"text-align: right;\">\n",
              "      <th></th>\n",
              "      <th>company</th>\n",
              "      <th>location</th>\n",
              "      <th>industry</th>\n",
              "      <th>total_laid_off</th>\n",
              "      <th>percentage_laid_off</th>\n",
              "      <th>date</th>\n",
              "      <th>stage</th>\n",
              "      <th>country</th>\n",
              "      <th>funds_raised</th>\n",
              "    </tr>\n",
              "  </thead>\n",
              "  <tbody>\n",
              "    <tr>\n",
              "      <th>0</th>\n",
              "      <td>Atlassian</td>\n",
              "      <td>Sydney</td>\n",
              "      <td>Other</td>\n",
              "      <td>500.0</td>\n",
              "      <td>0.05</td>\n",
              "      <td>2023-03-06</td>\n",
              "      <td>Post-IPO</td>\n",
              "      <td>Australia</td>\n",
              "      <td>210.0</td>\n",
              "    </tr>\n",
              "    <tr>\n",
              "      <th>1</th>\n",
              "      <td>SiriusXM</td>\n",
              "      <td>New York City</td>\n",
              "      <td>Media</td>\n",
              "      <td>475.0</td>\n",
              "      <td>0.08</td>\n",
              "      <td>2023-03-06</td>\n",
              "      <td>Post-IPO</td>\n",
              "      <td>United States</td>\n",
              "      <td>525.0</td>\n",
              "    </tr>\n",
              "    <tr>\n",
              "      <th>2</th>\n",
              "      <td>Alerzo</td>\n",
              "      <td>Ibadan</td>\n",
              "      <td>Retail</td>\n",
              "      <td>400.0</td>\n",
              "      <td>NaN</td>\n",
              "      <td>2023-03-06</td>\n",
              "      <td>Series B</td>\n",
              "      <td>Nigeria</td>\n",
              "      <td>16.0</td>\n",
              "    </tr>\n",
              "    <tr>\n",
              "      <th>3</th>\n",
              "      <td>UpGrad</td>\n",
              "      <td>Mumbai</td>\n",
              "      <td>Education</td>\n",
              "      <td>120.0</td>\n",
              "      <td>NaN</td>\n",
              "      <td>2023-03-06</td>\n",
              "      <td>Unknown</td>\n",
              "      <td>India</td>\n",
              "      <td>631.0</td>\n",
              "    </tr>\n",
              "    <tr>\n",
              "      <th>4</th>\n",
              "      <td>Loft</td>\n",
              "      <td>Sao Paulo</td>\n",
              "      <td>Real Estate</td>\n",
              "      <td>340.0</td>\n",
              "      <td>0.15</td>\n",
              "      <td>2023-03-03</td>\n",
              "      <td>Unknown</td>\n",
              "      <td>Brazil</td>\n",
              "      <td>788.0</td>\n",
              "    </tr>\n",
              "  </tbody>\n",
              "</table>\n",
              "</div>"
            ],
            "text/plain": [
              "     company       location     industry  total_laid_off  percentage_laid_off  \\\n",
              "0  Atlassian         Sydney        Other           500.0                 0.05   \n",
              "1   SiriusXM  New York City        Media           475.0                 0.08   \n",
              "2     Alerzo         Ibadan       Retail           400.0                  NaN   \n",
              "3     UpGrad         Mumbai    Education           120.0                  NaN   \n",
              "4       Loft      Sao Paulo  Real Estate           340.0                 0.15   \n",
              "\n",
              "         date     stage        country  funds_raised  \n",
              "0  2023-03-06  Post-IPO      Australia         210.0  \n",
              "1  2023-03-06  Post-IPO  United States         525.0  \n",
              "2  2023-03-06  Series B        Nigeria          16.0  \n",
              "3  2023-03-06   Unknown          India         631.0  \n",
              "4  2023-03-03   Unknown         Brazil         788.0  "
            ]
          },
          "execution_count": 2,
          "metadata": {},
          "output_type": "execute_result"
        }
      ],
      "source": [
        "df=pd.read_csv('./datasets/layoffs.csv')\n",
        "df.head()"
      ]
    },
    {
      "attachments": {},
      "cell_type": "markdown",
      "metadata": {},
      "source": [
        "---"
      ]
    },
    {
      "attachments": {},
      "cell_type": "markdown",
      "metadata": {},
      "source": [
        "### <span style=\"color:yellow\"> B. Khám phá dữ liệu</span>\n"
      ]
    },
    {
      "attachments": {},
      "cell_type": "markdown",
      "metadata": {},
      "source": [
        "#### Mỗi dòng có ý nghĩa gì? Có vấn đề các dòng có ý nghĩa khác nhau không?"
      ]
    },
    {
      "cell_type": "code",
      "execution_count": 3,
      "metadata": {},
      "outputs": [],
      "source": [
        "# df['stage']"
      ]
    },
    {
      "attachments": {},
      "cell_type": "markdown",
      "metadata": {},
      "source": [
        "- Mỗi dòng chứa dữ liệu về một công ty và các thông tin liên quan đến công ty đó như: tên công ty, nơi đặt trụ sở chính, loại ngành nghề, số nhân viên bị sa thải, tỷ lệ sa thải, ngày công bố, giai đoạn của công ty, quốc gia công ty hoạt động, số vốn huy động bởi công ty.\n",
        "\n",
        "- ví dụ: dòng 1: doanh nghiệp SiriusXM có trụ sở tại New York City và hoạt động trong ngành truyền thông, đã sa thải 475 nhân viên, chiếm 8% tổng số nhân viên của họ tính tới ngày 6 tháng 3 năm 2023. Công ty cũng đang ở giai đoạn Post-IPO và có trụ sở tại Hoa Kỳ. Họ đã huy động được số vốn 525 triệu đô la.\n",
        "\n",
        "- Không có tình trạng các dòng có ý nghĩa khác nhau."
      ]
    },
    {
      "attachments": {},
      "cell_type": "markdown",
      "metadata": {},
      "source": [
        "#### Mỗi cột có ý nghĩa gì?"
      ]
    },
    {
      "cell_type": "code",
      "execution_count": 4,
      "metadata": {},
      "outputs": [
        {
          "name": "stdout",
          "output_type": "stream",
          "text": [
            "column  2 :  industry\n",
            "size:  2357\n",
            "number of values:  30\n",
            "number of values (without nan):  29\n",
            "data (without nan) :  Other, Media, Retail, Education, Real Estate, Transportation, Marketing, Travel, Healthcare, Security, Food, Fitness, Consumer, Logistics, HR, Support, Crypto, Finance, Data, Sales, Infrastructure, Hardware, Product, Construction, Legal, Energy, Manufacturing, Recruiting, Aerospace\n"
          ]
        }
      ],
      "source": [
        "\n",
        "# print(\"total columns: \",len(df.columns)) \n",
        "\n",
        "# for column in range(len(df.columns)) :\n",
        "#     print(\"column \", column,\" \", df.columns[column])\n",
        "#     print(\"size: \", len(df.loc[:, df.columns[column]]))\n",
        "#     print(\"number of values: \", len(df.loc[:, df.columns[column]].unique()), \"\\n\")\n",
        "#     print(\"head: \", ' ,'.join(df.loc[:, df.columns[column]].unique()) )\n",
        "\n",
        "column=2\n",
        "print(\"column \", column,\": \", df.columns[column])\n",
        "print(\"size: \", len(df.loc[:, df.columns[column]]))\n",
        "print(\"number of values: \", len(df.loc[:, df.columns[column]].unique()))\n",
        "# print(df.loc[:, df.columns[column]].unique())\n",
        "arr= df.loc[:, df.columns[column]].unique()\n",
        "\n",
        "nanIndex=-1\n",
        "for index in range(len(arr)):\n",
        "    if isinstance(arr[index], float) and np.isnan(arr[index]):\n",
        "        nanIndex=index\n",
        "        break\n",
        "if nanIndex != -1:\n",
        "    arr=np.delete(arr,nanIndex)\n",
        "\n",
        "print(\"number of values (without nan): \", len(arr))\n",
        "\n",
        "# print for string type\n",
        "print(\"data (without nan) : \", ', '.join(arr))\n",
        "\n",
        "# print for number type\n",
        "# print( \", \".join(map(str, arr)))\n",
        "\n",
        "    "
      ]
    },
    {
      "attachments": {},
      "cell_type": "markdown",
      "metadata": {},
      "source": [
        "## Thông tin của mỗi cột:\n",
        "- Company: Tên của công ty\n",
        "    - Kích thước: 2357\n",
        "    - Số lượng dữ liệu không trùng lắp: 1893\n",
        "    - Một số Company có trong dữ liệu: Atlassian, SiriusXM, Alerzo, UpGrad, Loft, Embark Trucks,...\n",
        "- Location: Nơi đặt trụ sở chính của công ty\n",
        "    - Kích thước: 2357\n",
        "    - Số lượng dữ liệu không trùng lắp: 191\n",
        "    - Một số Location có trong dữ liệu: Sydney, New York City, Ibadan, Mumbai, Sao Paulo,...\n",
        "\n",
        "- Industry: Loại ngành mà công ty hoạt động\n",
        "    - Kích thước: 2357\n",
        "    - Số lượng dữ liệu không trùng lắp: 30\n",
        "    - Một số Industry có trong dữ liệu: Other, Media, Retail, Education, Real Estate, Transportation,...\n",
        "\n",
        "- Total_laid_off: Tổng số nhân viên bị sa thải bởi công ty\n",
        "    - Kích thước: 2357\n",
        "    - Số lượng dữ liệu không trùng lắp: 286\n",
        "    - Một số Total_laid_off có trong dữ liệu: 475.0, 400.0, 120.0, 340.0, 230.0, 100.0, 63.0, 30.0...\n",
        "\n",
        "- Percentage_laid_off: Tỷ lệ nhân viên bị sa thải bởi công ty\n",
        "    - Kích thước: 2357\n",
        "    - Số lượng dữ liệu không trùng lắp: 76\n",
        "    - Một số Percentage_laid_off có trong dữ liệu: 0.05, 0.08, 0.15, 0.7, 0.03, 0.11, 0.1, 1.0...\n",
        "\n",
        "- Date: Ngày công bố thông tin về việc sa thải\n",
        "    - Kích thước: 2357\n",
        "    - Số lượng dữ liệu không trùng lắp: 191\n",
        "    - Một số Date có trong dữ liệu: 2023-03-06, 2023-03-03, 2023-03-02, 2023-03-01, 2023-02-28,...\n",
        "\n",
        "- Stage: Giai đoạn của công ty\n",
        "    - Kích thước: 2357\n",
        "    - Số lượng dữ liệu không trùng lắp: 17\n",
        "    - Một số Stage có trong dữ liệu: Post-IPO, Series B, Unknown, Acquired, Series F, Series E...\n",
        "\n",
        "- Country: Quốc gia nơi công ty đặt trụ sở\n",
        "    - Kích thước: 2357\n",
        "    - Số lượng dữ liệu không trùng lắp: 59\n",
        "    - Một số Country có trong dữ liệu:  Australia, United States, Nigeria, India, Brazil,...\n",
        "\n",
        "- Funds_raised: Tổng số vốn do công ty huy động (tính bằng triệu đô la)\n",
        "    - Kích thước: 2357\n",
        "    - Số lượng dữ liệu không trùng lắp: 639\n",
        "    - Một số Funds_raised có trong dữ liệu: 525.0, 16.0, 631.0, 788.0, 317.0, 59.0, 152.0..."
      ]
    },
    {
      "attachments": {},
      "cell_type": "markdown",
      "metadata": {},
      "source": [
        "#### Mỗi cột hiện đang có kiểu dữ liệu gì?"
      ]
    },
    {
      "cell_type": "code",
      "execution_count": 5,
      "metadata": {},
      "outputs": [
        {
          "data": {
            "text/plain": [
              "company                 object\n",
              "location                object\n",
              "industry                object\n",
              "total_laid_off         float64\n",
              "percentage_laid_off    float64\n",
              "date                    object\n",
              "stage                   object\n",
              "country                 object\n",
              "funds_raised           float64\n",
              "dtype: object"
            ]
          },
          "execution_count": 5,
          "metadata": {},
          "output_type": "execute_result"
        }
      ],
      "source": [
        "df.dtypes"
      ]
    },
    {
      "cell_type": "code",
      "execution_count": 6,
      "metadata": {},
      "outputs": [
        {
          "name": "stdout",
          "output_type": "stream",
          "text": [
            "company : {<class 'str'>}\n",
            "location : {<class 'str'>}\n",
            "industry : {<class 'str'>, <class 'float'>}\n",
            "date : {<class 'str'>, <class 'float'>}\n",
            "stage : {<class 'str'>, <class 'float'>}\n",
            "country : {<class 'str'>}\n"
          ]
        }
      ],
      "source": [
        "object_columns = df.select_dtypes(include=['object']).columns\n",
        "for col in object_columns:\n",
        "    print(col,\":\",set(df[col].apply(type)))"
      ]
    },
    {
      "attachments": {},
      "cell_type": "markdown",
      "metadata": {},
      "source": [
        "Chúng ta nhận thấy rằng ba cột `industry`, `date` và `stage` có dạng dữ liệu không đồng nhất, tuy nhiên đây chỉ là do sự thiếu hụt dữ liệu trong các dòng, được biểu thị bằng giá trị `NaN` (dạng số thực)."
      ]
    },
    {
      "attachments": {},
      "cell_type": "markdown",
      "metadata": {},
      "source": [
        "#### Có cột nào có kiểu dữ liệu chưa phù hợp để có thể xử lý tiếp hay không?"
      ]
    },
    {
      "attachments": {},
      "cell_type": "markdown",
      "metadata": {},
      "source": [
        "Các cột sau đang có kiểu dữ liệu là `object`, do đó cần được chuyển đổi sang kiểu chuỗi (`string`):\n",
        "\n",
        "* `company`\n",
        "* `location`\n",
        "* `industry`\n",
        "* `stage`\n",
        "* `country`\n",
        "\n",
        "Trong khi đó, cột `date` đang có kiểu dữ liệu là `object`, cần được chuyển đổi sang kiểu ngày tháng (`datetime`)."
      ]
    },
    {
      "attachments": {},
      "cell_type": "markdown",
      "metadata": {},
      "source": [
        "## Phân bố dữ liệu ở các cột"
      ]
    },
    {
      "attachments": {},
      "cell_type": "markdown",
      "metadata": {},
      "source": [
        "### Với mỗi cột có kiểu dữ liệu dạng numeric, các giá trị được phân bố như thế nào? "
      ]
    },
    {
      "cell_type": "code",
      "execution_count": 7,
      "metadata": {},
      "outputs": [
        {
          "data": {
            "text/html": [
              "<div>\n",
              "<style scoped>\n",
              "    .dataframe tbody tr th:only-of-type {\n",
              "        vertical-align: middle;\n",
              "    }\n",
              "\n",
              "    .dataframe tbody tr th {\n",
              "        vertical-align: top;\n",
              "    }\n",
              "\n",
              "    .dataframe thead th {\n",
              "        text-align: right;\n",
              "    }\n",
              "</style>\n",
              "<table border=\"1\" class=\"dataframe\">\n",
              "  <thead>\n",
              "    <tr style=\"text-align: right;\">\n",
              "      <th></th>\n",
              "      <th>total_laid_off</th>\n",
              "      <th>percentage_laid_off</th>\n",
              "      <th>funds_raised</th>\n",
              "    </tr>\n",
              "  </thead>\n",
              "  <tbody>\n",
              "    <tr>\n",
              "      <th>count</th>\n",
              "      <td>1618.000000</td>\n",
              "      <td>1573.000000</td>\n",
              "      <td>2148.000000</td>\n",
              "    </tr>\n",
              "    <tr>\n",
              "      <th>mean</th>\n",
              "      <td>237.582818</td>\n",
              "      <td>0.257964</td>\n",
              "      <td>823.683098</td>\n",
              "    </tr>\n",
              "    <tr>\n",
              "      <th>std</th>\n",
              "      <td>769.674697</td>\n",
              "      <td>0.255808</td>\n",
              "      <td>5599.094277</td>\n",
              "    </tr>\n",
              "    <tr>\n",
              "      <th>min</th>\n",
              "      <td>3.000000</td>\n",
              "      <td>0.000000</td>\n",
              "      <td>0.000000</td>\n",
              "    </tr>\n",
              "    <tr>\n",
              "      <th>25%</th>\n",
              "      <td>36.000000</td>\n",
              "      <td>0.100000</td>\n",
              "      <td>50.000000</td>\n",
              "    </tr>\n",
              "    <tr>\n",
              "      <th>50%</th>\n",
              "      <td>80.000000</td>\n",
              "      <td>0.170000</td>\n",
              "      <td>156.500000</td>\n",
              "    </tr>\n",
              "    <tr>\n",
              "      <th>75%</th>\n",
              "      <td>180.000000</td>\n",
              "      <td>0.300000</td>\n",
              "      <td>445.000000</td>\n",
              "    </tr>\n",
              "    <tr>\n",
              "      <th>max</th>\n",
              "      <td>12000.000000</td>\n",
              "      <td>1.000000</td>\n",
              "      <td>121900.000000</td>\n",
              "    </tr>\n",
              "    <tr>\n",
              "      <th>missing_ratio</th>\n",
              "      <td>0.313534</td>\n",
              "      <td>0.332626</td>\n",
              "      <td>0.088672</td>\n",
              "    </tr>\n",
              "  </tbody>\n",
              "</table>\n",
              "</div>"
            ],
            "text/plain": [
              "               total_laid_off  percentage_laid_off   funds_raised\n",
              "count             1618.000000          1573.000000    2148.000000\n",
              "mean               237.582818             0.257964     823.683098\n",
              "std                769.674697             0.255808    5599.094277\n",
              "min                  3.000000             0.000000       0.000000\n",
              "25%                 36.000000             0.100000      50.000000\n",
              "50%                 80.000000             0.170000     156.500000\n",
              "75%                180.000000             0.300000     445.000000\n",
              "max              12000.000000             1.000000  121900.000000\n",
              "missing_ratio        0.313534             0.332626       0.088672"
            ]
          },
          "execution_count": 7,
          "metadata": {},
          "output_type": "execute_result"
        }
      ],
      "source": [
        "numerical_des = df.describe()\n",
        "missing_ratio = pd.DataFrame({col : df[col].isnull().sum() / len(df) for col in numerical_des.columns}, index=[\"missing_ratio\"])\n",
        "pd.concat([numerical_des,missing_ratio])"
      ]
    },
    {
      "attachments": {},
      "cell_type": "markdown",
      "metadata": {},
      "source": [
        "Từ bảng dữ liệu phân tích của kiểu dữ liệu numberic, tồn tại những trường dữ liệu với tỉ lệ thiếu lên tới hơn 30%."
      ]
    },
    {
      "attachments": {},
      "cell_type": "markdown",
      "metadata": {},
      "source": [
        "### Total Laid Off"
      ]
    },
    {
      "cell_type": "code",
      "execution_count": 8,
      "metadata": {},
      "outputs": [
        {
          "data": {
            "image/png": "[encoded data removed]",
            "text/plain": [
              "<Figure size 1400x600 with 1 Axes>"
            ]
          },
          "metadata": {},
          "output_type": "display_data"
        }
      ],
      "source": [
        "plt.figure(figsize=(14,6))\n",
        "ax= sns.histplot(data=df, x='total_laid_off')\n",
        "ax.set_yscale('log')\n",
        "plt.show()"
      ]
    },
    {
      "attachments": {},
      "cell_type": "markdown",
      "metadata": {},
      "source": [
        "### Percentage Laid Off"
      ]
    },
    {
      "cell_type": "code",
      "execution_count": 9,
      "metadata": {},
      "outputs": [
        {
          "data": {
            "image/png": "[encoded data removed]",
            "text/plain": [
              "<Figure size 640x480 with 1 Axes>"
            ]
          },
          "metadata": {},
          "output_type": "display_data"
        }
      ],
      "source": [
        "sns.histplot(data=df, x='percentage_laid_off')\n",
        "plt.show()"
      ]
    },
    {
      "cell_type": "code",
      "execution_count": 10,
      "metadata": {},
      "outputs": [
        {
          "data": {
            "image/png": "[encoded data removed]",
            "text/plain": [
              "<Figure size 1400x600 with 1 Axes>"
            ]
          },
          "metadata": {},
          "output_type": "display_data"
        }
      ],
      "source": [
        "plt.figure(figsize=(14,6))\n",
        "ax=sns.histplot(data=df, x='funds_raised')\n",
        "ax.set_yscale('log')\n",
        "plt.show()"
      ]
    },
    {
      "attachments": {},
      "cell_type": "markdown",
      "metadata": {},
      "source": [
        "### Với mỗi cột không có kiểu dữ liệu dạng categorical, các giá trị được phân bố như thế nào? "
      ]
    },
    {
      "cell_type": "code",
      "execution_count": 11,
      "metadata": {},
      "outputs": [
        {
          "data": {
            "text/html": [
              "<div>\n",
              "<style scoped>\n",
              "    .dataframe tbody tr th:only-of-type {\n",
              "        vertical-align: middle;\n",
              "    }\n",
              "\n",
              "    .dataframe tbody tr th {\n",
              "        vertical-align: top;\n",
              "    }\n",
              "\n",
              "    .dataframe thead th {\n",
              "        text-align: right;\n",
              "    }\n",
              "</style>\n",
              "<table border=\"1\" class=\"dataframe\">\n",
              "  <thead>\n",
              "    <tr style=\"text-align: right;\">\n",
              "      <th></th>\n",
              "      <th>company</th>\n",
              "      <th>location</th>\n",
              "      <th>industry</th>\n",
              "      <th>stage</th>\n",
              "      <th>country</th>\n",
              "    </tr>\n",
              "  </thead>\n",
              "  <tbody>\n",
              "    <tr>\n",
              "      <th>missing_ratio</th>\n",
              "      <td>0.0</td>\n",
              "      <td>0.0</td>\n",
              "      <td>0.042</td>\n",
              "      <td>0.255</td>\n",
              "      <td>0.0</td>\n",
              "    </tr>\n",
              "    <tr>\n",
              "      <th>num_diff_vals</th>\n",
              "      <td>1893</td>\n",
              "      <td>191</td>\n",
              "      <td>29</td>\n",
              "      <td>16</td>\n",
              "      <td>59</td>\n",
              "    </tr>\n",
              "    <tr>\n",
              "      <th>diff_vals</th>\n",
              "      <td>[Atlassian, SiriusXM, Alerzo, UpGrad, Loft, Em...</td>\n",
              "      <td>[Sydney, New York City, Ibadan, Mumbai, Sao Pa...</td>\n",
              "      <td>[Other, Media, Retail, Education, Real Estate,...</td>\n",
              "      <td>[Post-IPO, Series B, Unknown, Acquired, Series...</td>\n",
              "      <td>[Australia, United States, Nigeria, India, Bra...</td>\n",
              "    </tr>\n",
              "  </tbody>\n",
              "</table>\n",
              "</div>"
            ],
            "text/plain": [
              "                                                         company  \\\n",
              "missing_ratio                                                0.0   \n",
              "num_diff_vals                                               1893   \n",
              "diff_vals      [Atlassian, SiriusXM, Alerzo, UpGrad, Loft, Em...   \n",
              "\n",
              "                                                        location  \\\n",
              "missing_ratio                                                0.0   \n",
              "num_diff_vals                                                191   \n",
              "diff_vals      [Sydney, New York City, Ibadan, Mumbai, Sao Pa...   \n",
              "\n",
              "                                                        industry  \\\n",
              "missing_ratio                                              0.042   \n",
              "num_diff_vals                                                 29   \n",
              "diff_vals      [Other, Media, Retail, Education, Real Estate,...   \n",
              "\n",
              "                                                           stage  \\\n",
              "missing_ratio                                              0.255   \n",
              "num_diff_vals                                                 16   \n",
              "diff_vals      [Post-IPO, Series B, Unknown, Acquired, Series...   \n",
              "\n",
              "                                                         country  \n",
              "missing_ratio                                                0.0  \n",
              "num_diff_vals                                                 59  \n",
              "diff_vals      [Australia, United States, Nigeria, India, Bra...  "
            ]
          },
          "metadata": {},
          "output_type": "display_data"
        }
      ],
      "source": [
        "cate_cols=['company', 'location', 'industry', 'stage', 'country']\n",
        "cate_rows=[\"missing_ratio\",\"num_diff_vals\",\"diff_vals\"]\n",
        "data_cate={}\n",
        "for col in cate_cols:\n",
        "    row=[]\n",
        "    row.append(round(df[col].isnull().sum()/len(df[col])*100,3))\n",
        "    data_cate.update({f'{col}':row})\n",
        "\n",
        "    row.append(len(df[col][df[col].isna()==False].unique()))\n",
        "    row.append(np.array(df[col][df[col].isna()==False].unique()))\n",
        "    data_cate.update({f'{col}':row})\n",
        "\n",
        "cate_col_df=pd.DataFrame(data_cate,index=cate_rows)\n",
        "display(cate_col_df)"
      ]
    },
    {
      "attachments": {},
      "cell_type": "markdown",
      "metadata": {},
      "source": [
        "#### Có cần phải tiền xử lý dữ liệu hay không và nếu có thì nhóm sinh viên cần phải xử lý như thế nào?"
      ]
    },
    {
      "cell_type": "code",
      "execution_count": 12,
      "metadata": {},
      "outputs": [
        {
          "name": "stdout",
          "output_type": "stream",
          "text": [
            "<class 'pandas.core.frame.DataFrame'>\n",
            "RangeIndex: 2357 entries, 0 to 2356\n",
            "Data columns (total 9 columns):\n",
            " #   Column               Non-Null Count  Dtype  \n",
            "---  ------               --------------  -----  \n",
            " 0   company              2357 non-null   object \n",
            " 1   location             2357 non-null   object \n",
            " 2   industry             2356 non-null   object \n",
            " 3   total_laid_off       1618 non-null   float64\n",
            " 4   percentage_laid_off  1573 non-null   float64\n",
            " 5   date                 2356 non-null   object \n",
            " 6   stage                2351 non-null   object \n",
            " 7   country              2357 non-null   object \n",
            " 8   funds_raised         2148 non-null   float64\n",
            "dtypes: float64(3), object(6)\n",
            "memory usage: 165.9+ KB\n"
          ]
        }
      ],
      "source": [
        "df.info()"
      ]
    },
    {
      "attachments": {},
      "cell_type": "markdown",
      "metadata": {},
      "source": [
        "Quan sát thấy có số lượng lớn dữ liệu bị thiếu và có những cột phải xử lý kiểu dữ liệu do vậy ta phải tiền xử lý dữ liệu."
      ]
    },
    {
      "attachments": {},
      "cell_type": "markdown",
      "metadata": {},
      "source": [
        "### Tiền xử lý dữ liệu"
      ]
    },
    {
      "cell_type": "code",
      "execution_count": 13,
      "metadata": {},
      "outputs": [
        {
          "name": "stdout",
          "output_type": "stream",
          "text": [
            "Missing data:\n",
            "industry                 1\n",
            "total_laid_off         739\n",
            "percentage_laid_off    784\n",
            "date                     1\n",
            "stage                    6\n",
            "funds_raised           209\n",
            "dtype: int64\n"
          ]
        },
        {
          "data": {
            "image/png": "[encoded data removed]",
            "text/plain": [
              "<Figure size 640x480 with 1 Axes>"
            ]
          },
          "metadata": {},
          "output_type": "display_data"
        },
        {
          "name": "stdout",
          "output_type": "stream",
          "text": [
            "Percentage missing data:\n",
            "industry                0.042427\n",
            "total_laid_off         31.353415\n",
            "percentage_laid_off    33.262622\n",
            "date                    0.042427\n",
            "stage                   0.254561\n",
            "funds_raised            8.867204\n",
            "dtype: float64\n",
            "Number of rows duplicated: 1\n"
          ]
        }
      ],
      "source": [
        "# Kiểm tra missing data\n",
        "have_Nan=df.columns[df.isna().any()]\n",
        "\n",
        "# Đếm số missing data của các cột có missing data\n",
        "print(\"Missing data:\")\n",
        "print(df[have_Nan].isnull().sum())\n",
        "df.isna().sum().plot(kind=\"barh\",title='Missing data')\n",
        "plt.show()\n",
        "\n",
        "# Phần trăm dữ liệu bị thiểu của những cột này\n",
        "print(\"Percentage missing data:\")\n",
        "percentage_missing_data=df[have_Nan].isnull().sum() * 100 / df.shape[0]\n",
        "print(percentage_missing_data)\n",
        "\n",
        "# Kiểm tra có dữ liệu bị duplicate không\n",
        "print(\"Number of rows duplicated: \"+str(df[df.duplicated()].shape[0]))\n"
      ]
    },
    {
      "attachments": {},
      "cell_type": "markdown",
      "metadata": {},
      "source": [
        "Ta thấy có một số lượng khá lớn dữ liệu bị thiếu ở cột `total_laid_off`,`percentage_laid_off` và `funds_raised` . Vì có những cột dữ liệu bị thiếu lên đến hơn 30% nên ta không thể chọn phương án bỏ toàn bộ những dòng nào bị thiếu dữ liệu. Bên cạnh đó có tồn tại 1 dòng bị trùng ta cũng cần phải xử lý. \n",
        "\n",
        "- Đầu tiên ta loại bỏ những dòng có dữ liệu bị thiếu ở cột `industry`,`date` và `stage` vì số lượng bị thiếu không đáng kể.\n",
        "- Xóa dòng bị trùng dữ liệu.\n",
        "- Loại bỏ những dòng mà bị thiếu cả hai trường quan trọng là `total_laid_off` và `percentage_laid_off` vì những dòng này không có ý nghĩa để ta phân tích.\n",
        "- Tiếp theo tùy theo hướng phân tích ta sẽ chọn những cột dữ liệu phù hợp. tạm thời ta sẽ fill bằng 0."
      ]
    },
    {
      "cell_type": "code",
      "execution_count": 14,
      "metadata": {},
      "outputs": [
        {
          "name": "stdout",
          "output_type": "stream",
          "text": [
            "After fill null:\n",
            "company                0\n",
            "location               0\n",
            "industry               0\n",
            "total_laid_off         0\n",
            "percentage_laid_off    0\n",
            "date                   0\n",
            "stage                  0\n",
            "country                0\n",
            "funds_raised           0\n",
            "dtype: int64\n"
          ]
        }
      ],
      "source": [
        "# Loại bỏ những dòng có dữ liệu bị thiếu ở cột `industry`,`date` và `stage`\n",
        "df = df[~df['industry'].isna()]\n",
        "df = df[~df['date'].isna()]\n",
        "df = df[~df['stage'].isna()]\n",
        "\n",
        "# Xóa dòng bị trùng dữ liệu.\n",
        "df = df[~df.duplicated()]\n",
        "\n",
        "# Loại bỏ những dòng mà bị thiểu cả hai trường quan trọng là `total_laid_off` và `percentage_laid_off`\n",
        "df = df[~(df['total_laid_off'].isna()&df['percentage_laid_off'].isna())]\n",
        "\n",
        "# \n",
        "df = df.fillna(0)\n",
        "print(\"After fill null:\")\n",
        "print(df.isna().sum())"
      ]
    },
    {
      "attachments": {},
      "cell_type": "markdown",
      "metadata": {},
      "source": [
        "Sau khi đã tạm thời xử lý các dữ liệu bị thiếu ta bắt đầu xử lý kiễu dữ liệu của các cột.\n",
        "\n",
        "- Chuyển data type của cột `date` sang dạng `datetime`.\n",
        "- Chuyển data type của các cột đang là dạng `object ('str')` sang dạng `category`"
      ]
    },
    {
      "cell_type": "code",
      "execution_count": 15,
      "metadata": {},
      "outputs": [
        {
          "name": "stdout",
          "output_type": "stream",
          "text": [
            "<class 'pandas.core.frame.DataFrame'>\n",
            "Int64Index: 1988 entries, 0 to 2355\n",
            "Data columns (total 9 columns):\n",
            " #   Column               Non-Null Count  Dtype         \n",
            "---  ------               --------------  -----         \n",
            " 0   company              1988 non-null   category      \n",
            " 1   location             1988 non-null   category      \n",
            " 2   industry             1988 non-null   category      \n",
            " 3   total_laid_off       1988 non-null   float64       \n",
            " 4   percentage_laid_off  1988 non-null   float64       \n",
            " 5   date                 1988 non-null   datetime64[ns]\n",
            " 6   stage                1988 non-null   category      \n",
            " 7   country              1988 non-null   category      \n",
            " 8   funds_raised         1988 non-null   float64       \n",
            "dtypes: category(5), datetime64[ns](1), float64(3)\n",
            "memory usage: 178.3 KB\n"
          ]
        }
      ],
      "source": [
        "# Chuyển data type của cột `date` sang dạng `datetime`.\n",
        "df['date']=pd.to_datetime(df['date'])\n",
        "# Chuyển data type của các cột đang là dạng `object` sang dạng `category`\n",
        "object_columns = df.select_dtypes(include=['object']).columns\n",
        "for col in object_columns:\n",
        "    df[col]=df[col].astype('category')\n",
        "df.info()"
      ]
    },
    {
      "attachments": {},
      "cell_type": "markdown",
      "metadata": {},
      "source": [
        "Đã xữ lý xong kiểu dữ liệu của các cột. Giờ ta quan sát đến giá trị dữ liệu bên trong các cột."
      ]
    },
    {
      "cell_type": "code",
      "execution_count": 16,
      "metadata": {},
      "outputs": [
        {
          "name": "stdout",
          "output_type": "stream",
          "text": [
            "[' Included Health', '#Paid', '&Open', '100 Thieves', '10X Genomics', ..., 'iFood', 'iPrice Group', 'iRobot', 'nCino', 'uShip']\n",
            "Length: 1629\n",
            "Categories (1629, object): [' Included Health', '#Paid', '&Open', '100 Thieves', ..., 'iPrice Group', 'iRobot', 'nCino', 'uShip']\n",
            "1629\n",
            "1624\n"
          ]
        }
      ],
      "source": [
        "# Sắp xếp df theo tên company để quan sát cột `company`\n",
        "print(df.sort_values('company')['company'].unique())\n",
        "a=df['company'].unique()\n",
        "b=df['company'].str.upper().unique()\n",
        "print(a.shape[0])\n",
        "print(b.shape[0])"
      ]
    },
    {
      "attachments": {},
      "cell_type": "markdown",
      "metadata": {},
      "source": [
        "Số lượng tên công ty:\n",
        "\n",
        "-   Data gốc: 1629\n",
        "-   Data sau khi đưa tất cả về uppercase: 1624\n",
        "\n",
        "Ta thấy có sự khác nhau về số lượng tên công ty khi ta giữ nguyên data gốc và sau khi đưa tất cả về uppercase -> Có những tên của cùng một công ty nhưng chưa được chuẩn hóa cùng 1 quy tắc.\n",
        "-> Đưa tất cả về 1 loại (uppercase) và ta cũng phải xóa các khoảng trắng thừa trong tên công ty phòng trường hợp có tên công ty bị thừa khoảng trắng."
      ]
    },
    {
      "cell_type": "code",
      "execution_count": 17,
      "metadata": {},
      "outputs": [
        {
          "data": {
            "text/plain": [
              "1621"
            ]
          },
          "execution_count": 17,
          "metadata": {},
          "output_type": "execute_result"
        }
      ],
      "source": [
        "# Xử lý dữ liệu cột `company`\n",
        "df['company']=df['company'].str.upper()\n",
        "df['company']=df['company'].str.split().str.join(\" \")\n",
        "df['company'].unique().shape[0]"
      ]
    },
    {
      "attachments": {},
      "cell_type": "markdown",
      "metadata": {},
      "source": [
        "Xử lý tương tự cho cột `location`, `industry`, `stage` và `country`."
      ]
    },
    {
      "cell_type": "code",
      "execution_count": 18,
      "metadata": {},
      "outputs": [
        {
          "data": {
            "text/plain": [
              "166"
            ]
          },
          "execution_count": 18,
          "metadata": {},
          "output_type": "execute_result"
        }
      ],
      "source": [
        "# Xử lý dữ liệu cột `location`\n",
        "df['location']=df['location'].str.upper()\n",
        "df['location']=df['location'].str.split().str.join(\" \")\n",
        "df['location'].unique().shape[0]"
      ]
    },
    {
      "cell_type": "code",
      "execution_count": 19,
      "metadata": {},
      "outputs": [
        {
          "data": {
            "text/plain": [
              "29"
            ]
          },
          "execution_count": 19,
          "metadata": {},
          "output_type": "execute_result"
        }
      ],
      "source": [
        "# Xử lý dữ liệu cột `industry`\n",
        "df['industry']=df['industry'].str.upper()\n",
        "df['industry']=df['industry'].str.split().str.join(\" \")\n",
        "df['industry'].unique().shape[0]"
      ]
    },
    {
      "cell_type": "code",
      "execution_count": 20,
      "metadata": {},
      "outputs": [
        {
          "data": {
            "text/plain": [
              "16"
            ]
          },
          "execution_count": 20,
          "metadata": {},
          "output_type": "execute_result"
        }
      ],
      "source": [
        "# Xử lý dữ liệu cột `stage`\n",
        "df['stage']=df['stage'].str.upper()\n",
        "df['stage']=df['stage'].str.split().str.join(\" \")\n",
        "df['stage'].unique().shape[0]"
      ]
    },
    {
      "cell_type": "code",
      "execution_count": 21,
      "metadata": {},
      "outputs": [
        {
          "data": {
            "text/plain": [
              "51"
            ]
          },
          "execution_count": 21,
          "metadata": {},
          "output_type": "execute_result"
        }
      ],
      "source": [
        "# Xử lý dữ liệu cột `country`\n",
        "df['country']=df['country'].str.upper()\n",
        "df['country']=df['country'].str.split().str.join(\" \")\n",
        "df['country'].unique().shape[0]"
      ]
    },
    {
      "attachments": {},
      "cell_type": "markdown",
      "metadata": {},
      "source": [
        "Tiếp theo ta kiểm tra những cột có kiễu dữ liệu là số để xem có xuất hiện dữ liệu không hợp lệ không.\n",
        "- Có dòng nào chứa số âm không?\n",
        "- `percentage_laid_off` có giá trị nào lớn hơn 1 không?"
      ]
    },
    {
      "cell_type": "code",
      "execution_count": 22,
      "metadata": {},
      "outputs": [
        {
          "name": "stdout",
          "output_type": "stream",
          "text": [
            "Negative total_laid_off: 0\n",
            "Negative percentage_laid_off: 0\n",
            "Negative funds_raised: 0\n",
            "percentage_laid_off greater than 1: 0\n"
          ]
        }
      ],
      "source": [
        "# Kiểu tra giá trị âm\n",
        "print(\"Negative total_laid_off: \"+str(sum(df.total_laid_off<0)))\n",
        "print(\"Negative percentage_laid_off: \"+str(sum(df.percentage_laid_off<0)))\n",
        "print(\"Negative funds_raised: \"+str(sum(df.funds_raised<0)))\n",
        "\n",
        "# Kiểm tra giá trị `percentage_laid_off` không hợp lệ\n",
        "print(\"percentage_laid_off greater than 1: \"+str(sum(df.percentage_laid_off>1)))"
      ]
    },
    {
      "attachments": {},
      "cell_type": "markdown",
      "metadata": {},
      "source": [
        "Sau khi đã xử lý xong tất cả ta sắp xếp và reset index của data."
      ]
    },
    {
      "cell_type": "code",
      "execution_count": 23,
      "metadata": {},
      "outputs": [
        {
          "data": {
            "text/html": [
              "<div>\n",
              "<style scoped>\n",
              "    .dataframe tbody tr th:only-of-type {\n",
              "        vertical-align: middle;\n",
              "    }\n",
              "\n",
              "    .dataframe tbody tr th {\n",
              "        vertical-align: top;\n",
              "    }\n",
              "\n",
              "    .dataframe thead th {\n",
              "        text-align: right;\n",
              "    }\n",
              "</style>\n",
              "<table border=\"1\" class=\"dataframe\">\n",
              "  <thead>\n",
              "    <tr style=\"text-align: right;\">\n",
              "      <th></th>\n",
              "      <th>company</th>\n",
              "      <th>location</th>\n",
              "      <th>industry</th>\n",
              "      <th>total_laid_off</th>\n",
              "      <th>percentage_laid_off</th>\n",
              "      <th>date</th>\n",
              "      <th>stage</th>\n",
              "      <th>country</th>\n",
              "      <th>funds_raised</th>\n",
              "    </tr>\n",
              "  </thead>\n",
              "  <tbody>\n",
              "    <tr>\n",
              "      <th>0</th>\n",
              "      <td>#PAID</td>\n",
              "      <td>TORONTO</td>\n",
              "      <td>MARKETING</td>\n",
              "      <td>19.0</td>\n",
              "      <td>0.17</td>\n",
              "      <td>2023-01-27</td>\n",
              "      <td>SERIES B</td>\n",
              "      <td>CANADA</td>\n",
              "      <td>21.0</td>\n",
              "    </tr>\n",
              "    <tr>\n",
              "      <th>1</th>\n",
              "      <td>&amp;OPEN</td>\n",
              "      <td>DUBLIN</td>\n",
              "      <td>MARKETING</td>\n",
              "      <td>9.0</td>\n",
              "      <td>0.09</td>\n",
              "      <td>2022-11-17</td>\n",
              "      <td>SERIES A</td>\n",
              "      <td>IRELAND</td>\n",
              "      <td>35.0</td>\n",
              "    </tr>\n",
              "    <tr>\n",
              "      <th>2</th>\n",
              "      <td>100 THIEVES</td>\n",
              "      <td>LOS ANGELES</td>\n",
              "      <td>CONSUMER</td>\n",
              "      <td>12.0</td>\n",
              "      <td>0.00</td>\n",
              "      <td>2022-07-13</td>\n",
              "      <td>SERIES C</td>\n",
              "      <td>UNITED STATES</td>\n",
              "      <td>120.0</td>\n",
              "    </tr>\n",
              "    <tr>\n",
              "      <th>3</th>\n",
              "      <td>10X GENOMICS</td>\n",
              "      <td>SF BAY AREA</td>\n",
              "      <td>HEALTHCARE</td>\n",
              "      <td>100.0</td>\n",
              "      <td>0.08</td>\n",
              "      <td>2022-08-04</td>\n",
              "      <td>POST-IPO</td>\n",
              "      <td>UNITED STATES</td>\n",
              "      <td>242.0</td>\n",
              "    </tr>\n",
              "    <tr>\n",
              "      <th>4</th>\n",
              "      <td>1STDIBS</td>\n",
              "      <td>NEW YORK CITY</td>\n",
              "      <td>RETAIL</td>\n",
              "      <td>70.0</td>\n",
              "      <td>0.17</td>\n",
              "      <td>2020-04-02</td>\n",
              "      <td>SERIES D</td>\n",
              "      <td>UNITED STATES</td>\n",
              "      <td>253.0</td>\n",
              "    </tr>\n",
              "  </tbody>\n",
              "</table>\n",
              "</div>"
            ],
            "text/plain": [
              "        company       location    industry  total_laid_off  \\\n",
              "0         #PAID        TORONTO   MARKETING            19.0   \n",
              "1         &OPEN         DUBLIN   MARKETING             9.0   \n",
              "2   100 THIEVES    LOS ANGELES    CONSUMER            12.0   \n",
              "3  10X GENOMICS    SF BAY AREA  HEALTHCARE           100.0   \n",
              "4       1STDIBS  NEW YORK CITY      RETAIL            70.0   \n",
              "\n",
              "   percentage_laid_off       date     stage        country  funds_raised  \n",
              "0                 0.17 2023-01-27  SERIES B         CANADA          21.0  \n",
              "1                 0.09 2022-11-17  SERIES A        IRELAND          35.0  \n",
              "2                 0.00 2022-07-13  SERIES C  UNITED STATES         120.0  \n",
              "3                 0.08 2022-08-04  POST-IPO  UNITED STATES         242.0  \n",
              "4                 0.17 2020-04-02  SERIES D  UNITED STATES         253.0  "
            ]
          },
          "execution_count": 23,
          "metadata": {},
          "output_type": "execute_result"
        }
      ],
      "source": [
        "df=df.sort_values('company')\n",
        "df=df.reset_index(drop=True)\n",
        "df.head()"
      ]
    },
    {
      "attachments": {},
      "cell_type": "markdown",
      "metadata": {},
      "source": [
        "### Thêm cột total_employee để phục phụ phân tích sau này"
      ]
    },
    {
      "cell_type": "code",
      "execution_count": 24,
      "metadata": {},
      "outputs": [],
      "source": [
        "\n",
        "\n",
        "df_with_total_employees=df.sort_values(by='total_laid_off',ascending=False)\n",
        "df_with_total_employees=df_with_total_employees.reset_index(drop=True)\n",
        "df_with_total_employees=df_with_total_employees[df_with_total_employees['percentage_laid_off']>0]\n",
        "df_with_total_employees['total_employees']=round(df_with_total_employees['total_laid_off']/df_with_total_employees['percentage_laid_off'])\n",
        "df_with_total_employees=df_with_total_employees[df_with_total_employees['total_employees']>0]\n",
        "df_with_total_employees=df_with_total_employees.sort_values(by='total_employees',ascending=False)\n",
        "df_with_total_employees=df_with_total_employees.reset_index(drop=True)\n",
        "\n"
      ]
    },
    {
      "cell_type": "code",
      "execution_count": 25,
      "metadata": {},
      "outputs": [
        {
          "data": {
            "text/plain": [
              "company\n",
              "AMAZON        400000.0\n",
              "GOOGLE        200000.0\n",
              "MICROSOFT     200000.0\n",
              "IBM           195000.0\n",
              "DELL          133000.0\n",
              "ERICSSON      106250.0\n",
              "SAP           100000.0\n",
              "SALESFORCE    100000.0\n",
              "META           84615.0\n",
              "CISCO          82000.0\n",
              "Name: total_employees, dtype: float64"
            ]
          },
          "execution_count": 25,
          "metadata": {},
          "output_type": "execute_result"
        }
      ],
      "source": [
        "df2=df_with_total_employees.groupby('company')['total_employees'].max()\n",
        "df2.sort_values(ascending=False).head(10)"
      ]
    },
    {
      "attachments": {},
      "cell_type": "markdown",
      "metadata": {},
      "source": [
        "### Tìm hiểu mối liên hệ giữa Stage và Percentage_laid_off: "
      ]
    },
    {
      "cell_type": "code",
      "execution_count": 26,
      "metadata": {},
      "outputs": [],
      "source": [
        "df_clean_percentage=df[df['percentage_laid_off']>0]\n",
        "df_clean_percentage['percentage_laid_off']=df_clean_percentage['percentage_laid_off']*100\n",
        "df_clean_percentage['percentage_lo_range']=pd.cut(x=df_clean_percentage['percentage_laid_off'], bins=[0, 10, 20, 30,\n",
        "                                          40,50,60,70,80,90,100],labels=['0-10', '10-20', '20-30',\n",
        "                                          '30-40','40-50','50-60','60-70','70-80','80-90','90-100'],include_lowest=True)"
      ]
    },
    {
      "cell_type": "code",
      "execution_count": 27,
      "metadata": {},
      "outputs": [],
      "source": [
        "df_clean_percentage['stage']=df_clean_percentage['stage'].sort_values()\n",
        "table = pd.pivot_table(df_clean_percentage, values='percentage_laid_off', index='percentage_lo_range',columns='stage', aggfunc='count')\n",
        "table=table.sort_values(by=['percentage_lo_range'],ascending=False)\n"
      ]
    },
    {
      "cell_type": "code",
      "execution_count": 28,
      "metadata": {},
      "outputs": [
        {
          "data": {
            "image/png": "[encoded data removed]",
            "text/plain": [
              "<Figure size 1500x500 with 3 Axes>"
            ]
          },
          "metadata": {},
          "output_type": "display_data"
        }
      ],
      "source": [
        "fig, (ax1,ax2) = plt.subplots(1,2,figsize=(15, 5), tight_layout=True)\n",
        "\n",
        "df_clean_percentage=df_clean_percentage.sort_values('stage',ascending=True)\n",
        "fig.tight_layout(pad=5.0)\n",
        "ax1.set_xlabel('Percentage laid off (%)')\n",
        "plt.xticks(rotation=45)\n",
        "ax1.set_title('Phân bố giữa Stage, percentage laid off với mean',wrap=True)\n",
        "ax1.set_xticklabels(df_clean_percentage['stage'].unique(),rotation=45)\n",
        "\n",
        "sns.scatterplot(x='stage', y='percentage_laid_off',data=df_clean_percentage, ax=ax1,alpha=0.5)\n",
        "\n",
        "sns.lineplot(x='stage', y='percentage_laid_off',data=df_clean_percentage,ax=ax1,color='red',ci=None)\n",
        "\n",
        "\n",
        "sns.heatmap(table, annot=True, fmt=\"d\", linewidths=.5, ax=ax2,cmap=\"crest\",cbar_kws={'label': 'Number of companies'})\n",
        "ax2.set_title('Stage, quy mô lay off và tổng số công ty diễn ra lay off với quy mô đó',wrap=True)\n",
        "ax2.set_xlabel('Percentage laid off (%)')\n",
        "plt.xticks(rotation=45)\n",
        "plt.show()"
      ]
    },
    {
      "attachments": {},
      "cell_type": "markdown",
      "metadata": {},
      "source": [
        "Một vài điểm đáng chú ý:\n",
        "- Nhìn vào biểu đồ scatter và heatmap ta có thể thấy dữ liệu phân bố chủ yếu ở mức sa thải dưới 20% nhân sự mỗi đợt. \n",
        "- Nhìn và heat map ta thấy tương đồng nhiều nhất là 150 công ty ở stage `Post-IPO` có xu hướng sa thải >10% nhân sự.\n",
        "- Nhìn vào mean line, các công ty có `stage` là `Seed` sa thải % nhân sự rất cao và không bao giờ sa thải dưới 10% nhân sự.\n",
        "- Dữ liệu chủ yếu tập trung ở nhóm các công ty có stage từ `Series A` đến `Series E`. Nhóm này có xu hướng sa thải trung bình 10-20% mỗi đợt.\n",
        "- Các công ty stage từ `Series F` đến `Series J` và `Subdiary` có rất ít dữ liệu sa thải và không bao giờ sa thải hơn 50% nhân sự trong một đợt. Có thể lý giải đây là các giai đoạn gọi vốn sau khi đã khá ổn định của các công ty nên ít diễn ra sa thải. Các công ty thuộc `Subdiary` thì có công ty mẹ chống lưng nên tình trạng cũng tương đối ổn định."
      ]
    },
    {
      "attachments": {},
      "cell_type": "markdown",
      "metadata": {},
      "source": [
        "### Stage nào có tổng số laid off cao nhất:"
      ]
    },
    {
      "cell_type": "code",
      "execution_count": 29,
      "metadata": {},
      "outputs": [],
      "source": [
        "stage_df = df.groupby('stage').sum().reset_index()"
      ]
    },
    {
      "cell_type": "code",
      "execution_count": 30,
      "metadata": {},
      "outputs": [
        {
          "ename": "ValueError",
          "evalue": "Mime type rendering requires nbformat>=4.2.0 but it is not installed",
          "output_type": "error",
          "traceback": [
            "\u001b[1;31m---------------------------------------------------------------------------\u001b[0m",
            "\u001b[1;31mValueError\u001b[0m                                Traceback (most recent call last)",
            "File \u001b[1;32m~\\AppData\\Roaming\\Python\\Python39\\site-packages\\IPython\\core\\formatters.py:920\u001b[0m, in \u001b[0;36mIPythonDisplayFormatter.__call__\u001b[1;34m(self, obj)\u001b[0m\n\u001b[0;32m    918\u001b[0m method \u001b[39m=\u001b[39m get_real_method(obj, \u001b[39mself\u001b[39m\u001b[39m.\u001b[39mprint_method)\n\u001b[0;32m    919\u001b[0m \u001b[39mif\u001b[39;00m method \u001b[39mis\u001b[39;00m \u001b[39mnot\u001b[39;00m \u001b[39mNone\u001b[39;00m:\n\u001b[1;32m--> 920\u001b[0m     method()\n\u001b[0;32m    921\u001b[0m     \u001b[39mreturn\u001b[39;00m \u001b[39mTrue\u001b[39;00m\n",
            "File \u001b[1;32mc:\\Users\\hungn\\AppData\\Local\\Programs\\Python\\Python39\\lib\\site-packages\\plotly\\basedatatypes.py:834\u001b[0m, in \u001b[0;36mBaseFigure._ipython_display_\u001b[1;34m(self)\u001b[0m\n\u001b[0;32m    831\u001b[0m \u001b[39mimport\u001b[39;00m \u001b[39mplotly\u001b[39;00m\u001b[39m.\u001b[39;00m\u001b[39mio\u001b[39;00m \u001b[39mas\u001b[39;00m \u001b[39mpio\u001b[39;00m\n\u001b[0;32m    833\u001b[0m \u001b[39mif\u001b[39;00m pio\u001b[39m.\u001b[39mrenderers\u001b[39m.\u001b[39mrender_on_display \u001b[39mand\u001b[39;00m pio\u001b[39m.\u001b[39mrenderers\u001b[39m.\u001b[39mdefault:\n\u001b[1;32m--> 834\u001b[0m     pio\u001b[39m.\u001b[39;49mshow(\u001b[39mself\u001b[39;49m)\n\u001b[0;32m    835\u001b[0m \u001b[39melse\u001b[39;00m:\n\u001b[0;32m    836\u001b[0m     \u001b[39mprint\u001b[39m(\u001b[39mrepr\u001b[39m(\u001b[39mself\u001b[39m))\n",
            "File \u001b[1;32mc:\\Users\\hungn\\AppData\\Local\\Programs\\Python\\Python39\\lib\\site-packages\\plotly\\io\\_renderers.py:396\u001b[0m, in \u001b[0;36mshow\u001b[1;34m(fig, renderer, validate, **kwargs)\u001b[0m\n\u001b[0;32m    391\u001b[0m         \u001b[39mraise\u001b[39;00m \u001b[39mValueError\u001b[39;00m(\n\u001b[0;32m    392\u001b[0m             \u001b[39m\"\u001b[39m\u001b[39mMime type rendering requires ipython but it is not installed\u001b[39m\u001b[39m\"\u001b[39m\n\u001b[0;32m    393\u001b[0m         )\n\u001b[0;32m    395\u001b[0m     \u001b[39mif\u001b[39;00m \u001b[39mnot\u001b[39;00m nbformat \u001b[39mor\u001b[39;00m Version(nbformat\u001b[39m.\u001b[39m__version__) \u001b[39m<\u001b[39m Version(\u001b[39m\"\u001b[39m\u001b[39m4.2.0\u001b[39m\u001b[39m\"\u001b[39m):\n\u001b[1;32m--> 396\u001b[0m         \u001b[39mraise\u001b[39;00m \u001b[39mValueError\u001b[39;00m(\n\u001b[0;32m    397\u001b[0m             \u001b[39m\"\u001b[39m\u001b[39mMime type rendering requires nbformat>=4.2.0 but it is not installed\u001b[39m\u001b[39m\"\u001b[39m\n\u001b[0;32m    398\u001b[0m         )\n\u001b[0;32m    400\u001b[0m     ipython_display\u001b[39m.\u001b[39mdisplay(bundle, raw\u001b[39m=\u001b[39m\u001b[39mTrue\u001b[39;00m)\n\u001b[0;32m    402\u001b[0m \u001b[39m# external renderers\u001b[39;00m\n",
            "\u001b[1;31mValueError\u001b[0m: Mime type rendering requires nbformat>=4.2.0 but it is not installed"
          ]
        },
        {
          "data": {
            "application/vnd.plotly.v1+json": {
              "config": {
                "plotlyServerURL": "https://plot.ly"
              },
              "data": [
                {
                  "domain": {
                    "x": [
                      0,
                      1
                    ],
                    "y": [
                      0,
                      1
                    ]
                  },
                  "hovertemplate": "stage=%{label}<br>total_laid_off=%{value}<extra></extra>",
                  "labels": [
                    "ACQUIRED",
                    "POST-IPO",
                    "PRIVATE EQUITY",
                    "SEED",
                    "SERIES A",
                    "SERIES B",
                    "SERIES C",
                    "SERIES D",
                    "SERIES E",
                    "SERIES F",
                    "SERIES G",
                    "SERIES H",
                    "SERIES I",
                    "SERIES J",
                    "SUBSIDIARY",
                    "UNKNOWN"
                  ],
                  "legendgroup": "",
                  "name": "",
                  "showlegend": true,
                  "type": "pie",
                  "values": [
                    27576,
                    203632,
                    7957,
                    1636,
                    5678,
                    15311,
                    20017,
                    19225,
                    12697,
                    9932,
                    3697,
                    7244,
                    2855,
                    3570,
                    1094,
                    40716
                  ]
                }
              ],
              "layout": {
                "legend": {
                  "tracegroupgap": 0
                },
                "piecolorway": [
                  "rgb(3, 35, 51)",
                  "rgb(13, 48, 100)",
                  "rgb(53, 50, 155)",
                  "rgb(93, 62, 153)",
                  "rgb(126, 77, 143)",
                  "rgb(158, 89, 135)",
                  "rgb(193, 100, 121)",
                  "rgb(225, 113, 97)",
                  "rgb(246, 139, 69)",
                  "rgb(251, 173, 60)",
                  "rgb(246, 211, 70)",
                  "rgb(231, 250, 90)"
                ],
                "template": {
                  "data": {
                    "bar": [
                      {
                        "error_x": {
                          "color": "#2a3f5f"
                        },
                        "error_y": {
                          "color": "#2a3f5f"
                        },
                        "marker": {
                          "line": {
                            "color": "#E5ECF6",
                            "width": 0.5
                          },
                          "pattern": {
                            "fillmode": "overlay",
                            "size": 10,
                            "solidity": 0.2
                          }
                        },
                        "type": "bar"
                      }
                    ],
                    "barpolar": [
                      {
                        "marker": {
                          "line": {
                            "color": "#E5ECF6",
                            "width": 0.5
                          },
                          "pattern": {
                            "fillmode": "overlay",
                            "size": 10,
                            "solidity": 0.2
                          }
                        },
                        "type": "barpolar"
                      }
                    ],
                    "carpet": [
                      {
                        "aaxis": {
                          "endlinecolor": "#2a3f5f",
                          "gridcolor": "white",
                          "linecolor": "white",
                          "minorgridcolor": "white",
                          "startlinecolor": "#2a3f5f"
                        },
                        "baxis": {
                          "endlinecolor": "#2a3f5f",
                          "gridcolor": "white",
                          "linecolor": "white",
                          "minorgridcolor": "white",
                          "startlinecolor": "#2a3f5f"
                        },
                        "type": "carpet"
                      }
                    ],
                    "choropleth": [
                      {
                        "colorbar": {
                          "outlinewidth": 0,
                          "ticks": ""
                        },
                        "type": "choropleth"
                      }
                    ],
                    "contour": [
                      {
                        "colorbar": {
                          "outlinewidth": 0,
                          "ticks": ""
                        },
                        "colorscale": [
                          [
                            0,
                            "#0d0887"
                          ],
                          [
                            0.1111111111111111,
                            "#46039f"
                          ],
                          [
                            0.2222222222222222,
                            "#7201a8"
                          ],
                          [
                            0.3333333333333333,
                            "#9c179e"
                          ],
                          [
                            0.4444444444444444,
                            "#bd3786"
                          ],
                          [
                            0.5555555555555556,
                            "#d8576b"
                          ],
                          [
                            0.6666666666666666,
                            "#ed7953"
                          ],
                          [
                            0.7777777777777778,
                            "#fb9f3a"
                          ],
                          [
                            0.8888888888888888,
                            "#fdca26"
                          ],
                          [
                            1,
                            "#f0f921"
                          ]
                        ],
                        "type": "contour"
                      }
                    ],
                    "contourcarpet": [
                      {
                        "colorbar": {
                          "outlinewidth": 0,
                          "ticks": ""
                        },
                        "type": "contourcarpet"
                      }
                    ],
                    "heatmap": [
                      {
                        "colorbar": {
                          "outlinewidth": 0,
                          "ticks": ""
                        },
                        "colorscale": [
                          [
                            0,
                            "#0d0887"
                          ],
                          [
                            0.1111111111111111,
                            "#46039f"
                          ],
                          [
                            0.2222222222222222,
                            "#7201a8"
                          ],
                          [
                            0.3333333333333333,
                            "#9c179e"
                          ],
                          [
                            0.4444444444444444,
                            "#bd3786"
                          ],
                          [
                            0.5555555555555556,
                            "#d8576b"
                          ],
                          [
                            0.6666666666666666,
                            "#ed7953"
                          ],
                          [
                            0.7777777777777778,
                            "#fb9f3a"
                          ],
                          [
                            0.8888888888888888,
                            "#fdca26"
                          ],
                          [
                            1,
                            "#f0f921"
                          ]
                        ],
                        "type": "heatmap"
                      }
                    ],
                    "heatmapgl": [
                      {
                        "colorbar": {
                          "outlinewidth": 0,
                          "ticks": ""
                        },
                        "colorscale": [
                          [
                            0,
                            "#0d0887"
                          ],
                          [
                            0.1111111111111111,
                            "#46039f"
                          ],
                          [
                            0.2222222222222222,
                            "#7201a8"
                          ],
                          [
                            0.3333333333333333,
                            "#9c179e"
                          ],
                          [
                            0.4444444444444444,
                            "#bd3786"
                          ],
                          [
                            0.5555555555555556,
                            "#d8576b"
                          ],
                          [
                            0.6666666666666666,
                            "#ed7953"
                          ],
                          [
                            0.7777777777777778,
                            "#fb9f3a"
                          ],
                          [
                            0.8888888888888888,
                            "#fdca26"
                          ],
                          [
                            1,
                            "#f0f921"
                          ]
                        ],
                        "type": "heatmapgl"
                      }
                    ],
                    "histogram": [
                      {
                        "marker": {
                          "pattern": {
                            "fillmode": "overlay",
                            "size": 10,
                            "solidity": 0.2
                          }
                        },
                        "type": "histogram"
                      }
                    ],
                    "histogram2d": [
                      {
                        "colorbar": {
                          "outlinewidth": 0,
                          "ticks": ""
                        },
                        "colorscale": [
                          [
                            0,
                            "#0d0887"
                          ],
                          [
                            0.1111111111111111,
                            "#46039f"
                          ],
                          [
                            0.2222222222222222,
                            "#7201a8"
                          ],
                          [
                            0.3333333333333333,
                            "#9c179e"
                          ],
                          [
                            0.4444444444444444,
                            "#bd3786"
                          ],
                          [
                            0.5555555555555556,
                            "#d8576b"
                          ],
                          [
                            0.6666666666666666,
                            "#ed7953"
                          ],
                          [
                            0.7777777777777778,
                            "#fb9f3a"
                          ],
                          [
                            0.8888888888888888,
                            "#fdca26"
                          ],
                          [
                            1,
                            "#f0f921"
                          ]
                        ],
                        "type": "histogram2d"
                      }
                    ],
                    "histogram2dcontour": [
                      {
                        "colorbar": {
                          "outlinewidth": 0,
                          "ticks": ""
                        },
                        "colorscale": [
                          [
                            0,
                            "#0d0887"
                          ],
                          [
                            0.1111111111111111,
                            "#46039f"
                          ],
                          [
                            0.2222222222222222,
                            "#7201a8"
                          ],
                          [
                            0.3333333333333333,
                            "#9c179e"
                          ],
                          [
                            0.4444444444444444,
                            "#bd3786"
                          ],
                          [
                            0.5555555555555556,
                            "#d8576b"
                          ],
                          [
                            0.6666666666666666,
                            "#ed7953"
                          ],
                          [
                            0.7777777777777778,
                            "#fb9f3a"
                          ],
                          [
                            0.8888888888888888,
                            "#fdca26"
                          ],
                          [
                            1,
                            "#f0f921"
                          ]
                        ],
                        "type": "histogram2dcontour"
                      }
                    ],
                    "mesh3d": [
                      {
                        "colorbar": {
                          "outlinewidth": 0,
                          "ticks": ""
                        },
                        "type": "mesh3d"
                      }
                    ],
                    "parcoords": [
                      {
                        "line": {
                          "colorbar": {
                            "outlinewidth": 0,
                            "ticks": ""
                          }
                        },
                        "type": "parcoords"
                      }
                    ],
                    "pie": [
                      {
                        "automargin": true,
                        "type": "pie"
                      }
                    ],
                    "scatter": [
                      {
                        "fillpattern": {
                          "fillmode": "overlay",
                          "size": 10,
                          "solidity": 0.2
                        },
                        "type": "scatter"
                      }
                    ],
                    "scatter3d": [
                      {
                        "line": {
                          "colorbar": {
                            "outlinewidth": 0,
                            "ticks": ""
                          }
                        },
                        "marker": {
                          "colorbar": {
                            "outlinewidth": 0,
                            "ticks": ""
                          }
                        },
                        "type": "scatter3d"
                      }
                    ],
                    "scattercarpet": [
                      {
                        "marker": {
                          "colorbar": {
                            "outlinewidth": 0,
                            "ticks": ""
                          }
                        },
                        "type": "scattercarpet"
                      }
                    ],
                    "scattergeo": [
                      {
                        "marker": {
                          "colorbar": {
                            "outlinewidth": 0,
                            "ticks": ""
                          }
                        },
                        "type": "scattergeo"
                      }
                    ],
                    "scattergl": [
                      {
                        "marker": {
                          "colorbar": {
                            "outlinewidth": 0,
                            "ticks": ""
                          }
                        },
                        "type": "scattergl"
                      }
                    ],
                    "scattermapbox": [
                      {
                        "marker": {
                          "colorbar": {
                            "outlinewidth": 0,
                            "ticks": ""
                          }
                        },
                        "type": "scattermapbox"
                      }
                    ],
                    "scatterpolar": [
                      {
                        "marker": {
                          "colorbar": {
                            "outlinewidth": 0,
                            "ticks": ""
                          }
                        },
                        "type": "scatterpolar"
                      }
                    ],
                    "scatterpolargl": [
                      {
                        "marker": {
                          "colorbar": {
                            "outlinewidth": 0,
                            "ticks": ""
                          }
                        },
                        "type": "scatterpolargl"
                      }
                    ],
                    "scatterternary": [
                      {
                        "marker": {
                          "colorbar": {
                            "outlinewidth": 0,
                            "ticks": ""
                          }
                        },
                        "type": "scatterternary"
                      }
                    ],
                    "surface": [
                      {
                        "colorbar": {
                          "outlinewidth": 0,
                          "ticks": ""
                        },
                        "colorscale": [
                          [
                            0,
                            "#0d0887"
                          ],
                          [
                            0.1111111111111111,
                            "#46039f"
                          ],
                          [
                            0.2222222222222222,
                            "#7201a8"
                          ],
                          [
                            0.3333333333333333,
                            "#9c179e"
                          ],
                          [
                            0.4444444444444444,
                            "#bd3786"
                          ],
                          [
                            0.5555555555555556,
                            "#d8576b"
                          ],
                          [
                            0.6666666666666666,
                            "#ed7953"
                          ],
                          [
                            0.7777777777777778,
                            "#fb9f3a"
                          ],
                          [
                            0.8888888888888888,
                            "#fdca26"
                          ],
                          [
                            1,
                            "#f0f921"
                          ]
                        ],
                        "type": "surface"
                      }
                    ],
                    "table": [
                      {
                        "cells": {
                          "fill": {
                            "color": "#EBF0F8"
                          },
                          "line": {
                            "color": "white"
                          }
                        },
                        "header": {
                          "fill": {
                            "color": "#C8D4E3"
                          },
                          "line": {
                            "color": "white"
                          }
                        },
                        "type": "table"
                      }
                    ]
                  },
                  "layout": {
                    "annotationdefaults": {
                      "arrowcolor": "#2a3f5f",
                      "arrowhead": 0,
                      "arrowwidth": 1
                    },
                    "autotypenumbers": "strict",
                    "coloraxis": {
                      "colorbar": {
                        "outlinewidth": 0,
                        "ticks": ""
                      }
                    },
                    "colorscale": {
                      "diverging": [
                        [
                          0,
                          "#8e0152"
                        ],
                        [
                          0.1,
                          "#c51b7d"
                        ],
                        [
                          0.2,
                          "#de77ae"
                        ],
                        [
                          0.3,
                          "#f1b6da"
                        ],
                        [
                          0.4,
                          "#fde0ef"
                        ],
                        [
                          0.5,
                          "#f7f7f7"
                        ],
                        [
                          0.6,
                          "#e6f5d0"
                        ],
                        [
                          0.7,
                          "#b8e186"
                        ],
                        [
                          0.8,
                          "#7fbc41"
                        ],
                        [
                          0.9,
                          "#4d9221"
                        ],
                        [
                          1,
                          "#276419"
                        ]
                      ],
                      "sequential": [
                        [
                          0,
                          "#0d0887"
                        ],
                        [
                          0.1111111111111111,
                          "#46039f"
                        ],
                        [
                          0.2222222222222222,
                          "#7201a8"
                        ],
                        [
                          0.3333333333333333,
                          "#9c179e"
                        ],
                        [
                          0.4444444444444444,
                          "#bd3786"
                        ],
                        [
                          0.5555555555555556,
                          "#d8576b"
                        ],
                        [
                          0.6666666666666666,
                          "#ed7953"
                        ],
                        [
                          0.7777777777777778,
                          "#fb9f3a"
                        ],
                        [
                          0.8888888888888888,
                          "#fdca26"
                        ],
                        [
                          1,
                          "#f0f921"
                        ]
                      ],
                      "sequentialminus": [
                        [
                          0,
                          "#0d0887"
                        ],
                        [
                          0.1111111111111111,
                          "#46039f"
                        ],
                        [
                          0.2222222222222222,
                          "#7201a8"
                        ],
                        [
                          0.3333333333333333,
                          "#9c179e"
                        ],
                        [
                          0.4444444444444444,
                          "#bd3786"
                        ],
                        [
                          0.5555555555555556,
                          "#d8576b"
                        ],
                        [
                          0.6666666666666666,
                          "#ed7953"
                        ],
                        [
                          0.7777777777777778,
                          "#fb9f3a"
                        ],
                        [
                          0.8888888888888888,
                          "#fdca26"
                        ],
                        [
                          1,
                          "#f0f921"
                        ]
                      ]
                    },
                    "colorway": [
                      "#636efa",
                      "#EF553B",
                      "#00cc96",
                      "#ab63fa",
                      "#FFA15A",
                      "#19d3f3",
                      "#FF6692",
                      "#B6E880",
                      "#FF97FF",
                      "#FECB52"
                    ],
                    "font": {
                      "color": "#2a3f5f"
                    },
                    "geo": {
                      "bgcolor": "white",
                      "lakecolor": "white",
                      "landcolor": "#E5ECF6",
                      "showlakes": true,
                      "showland": true,
                      "subunitcolor": "white"
                    },
                    "hoverlabel": {
                      "align": "left"
                    },
                    "hovermode": "closest",
                    "mapbox": {
                      "style": "light"
                    },
                    "paper_bgcolor": "white",
                    "plot_bgcolor": "#E5ECF6",
                    "polar": {
                      "angularaxis": {
                        "gridcolor": "white",
                        "linecolor": "white",
                        "ticks": ""
                      },
                      "bgcolor": "#E5ECF6",
                      "radialaxis": {
                        "gridcolor": "white",
                        "linecolor": "white",
                        "ticks": ""
                      }
                    },
                    "scene": {
                      "xaxis": {
                        "backgroundcolor": "#E5ECF6",
                        "gridcolor": "white",
                        "gridwidth": 2,
                        "linecolor": "white",
                        "showbackground": true,
                        "ticks": "",
                        "zerolinecolor": "white"
                      },
                      "yaxis": {
                        "backgroundcolor": "#E5ECF6",
                        "gridcolor": "white",
                        "gridwidth": 2,
                        "linecolor": "white",
                        "showbackground": true,
                        "ticks": "",
                        "zerolinecolor": "white"
                      },
                      "zaxis": {
                        "backgroundcolor": "#E5ECF6",
                        "gridcolor": "white",
                        "gridwidth": 2,
                        "linecolor": "white",
                        "showbackground": true,
                        "ticks": "",
                        "zerolinecolor": "white"
                      }
                    },
                    "shapedefaults": {
                      "line": {
                        "color": "#2a3f5f"
                      }
                    },
                    "ternary": {
                      "aaxis": {
                        "gridcolor": "white",
                        "linecolor": "white",
                        "ticks": ""
                      },
                      "baxis": {
                        "gridcolor": "white",
                        "linecolor": "white",
                        "ticks": ""
                      },
                      "bgcolor": "#E5ECF6",
                      "caxis": {
                        "gridcolor": "white",
                        "linecolor": "white",
                        "ticks": ""
                      }
                    },
                    "title": {
                      "x": 0.05
                    },
                    "xaxis": {
                      "automargin": true,
                      "gridcolor": "white",
                      "linecolor": "white",
                      "ticks": "",
                      "title": {
                        "standoff": 15
                      },
                      "zerolinecolor": "white",
                      "zerolinewidth": 2
                    },
                    "yaxis": {
                      "automargin": true,
                      "gridcolor": "white",
                      "linecolor": "white",
                      "ticks": "",
                      "title": {
                        "standoff": 15
                      },
                      "zerolinecolor": "white",
                      "zerolinewidth": 2
                    }
                  }
                },
                "title": {
                  "text": "Tổng số laid off của từng stage (theo tỷ lệ %)"
                }
              }
            },
            "text/html": [
              "<div>                        <script type=\"text/javascript\">window.PlotlyConfig = {MathJaxConfig: 'local'};</script>\n",
              "        <script src=\"https://cdn.plot.ly/plotly-2.18.2.min.js\"></script>                <div id=\"24eb5021-26d8-44e6-9ce6-80f273fabb37\" class=\"plotly-graph-div\" style=\"height:100%; width:100%;\"></div>            <script type=\"text/javascript\">                                    window.PLOTLYENV=window.PLOTLYENV || {};                                    if (document.getElementById(\"24eb5021-26d8-44e6-9ce6-80f273fabb37\")) {                    Plotly.newPlot(                        \"24eb5021-26d8-44e6-9ce6-80f273fabb37\",                        [{\"domain\":{\"x\":[0.0,1.0],\"y\":[0.0,1.0]},\"hovertemplate\":\"stage=%{label}<br>total_laid_off=%{value}<extra></extra>\",\"labels\":[\"ACQUIRED\",\"POST-IPO\",\"PRIVATE EQUITY\",\"SEED\",\"SERIES A\",\"SERIES B\",\"SERIES C\",\"SERIES D\",\"SERIES E\",\"SERIES F\",\"SERIES G\",\"SERIES H\",\"SERIES I\",\"SERIES J\",\"SUBSIDIARY\",\"UNKNOWN\"],\"legendgroup\":\"\",\"name\":\"\",\"showlegend\":true,\"values\":[27576.0,203632.0,7957.0,1636.0,5678.0,15311.0,20017.0,19225.0,12697.0,9932.0,3697.0,7244.0,2855.0,3570.0,1094.0,40716.0],\"type\":\"pie\"}],                        {\"template\":{\"data\":{\"histogram2dcontour\":[{\"type\":\"histogram2dcontour\",\"colorbar\":{\"outlinewidth\":0,\"ticks\":\"\"},\"colorscale\":[[0.0,\"#0d0887\"],[0.1111111111111111,\"#46039f\"],[0.2222222222222222,\"#7201a8\"],[0.3333333333333333,\"#9c179e\"],[0.4444444444444444,\"#bd3786\"],[0.5555555555555556,\"#d8576b\"],[0.6666666666666666,\"#ed7953\"],[0.7777777777777778,\"#fb9f3a\"],[0.8888888888888888,\"#fdca26\"],[1.0,\"#f0f921\"]]}],\"choropleth\":[{\"type\":\"choropleth\",\"colorbar\":{\"outlinewidth\":0,\"ticks\":\"\"}}],\"histogram2d\":[{\"type\":\"histogram2d\",\"colorbar\":{\"outlinewidth\":0,\"ticks\":\"\"},\"colorscale\":[[0.0,\"#0d0887\"],[0.1111111111111111,\"#46039f\"],[0.2222222222222222,\"#7201a8\"],[0.3333333333333333,\"#9c179e\"],[0.4444444444444444,\"#bd3786\"],[0.5555555555555556,\"#d8576b\"],[0.6666666666666666,\"#ed7953\"],[0.7777777777777778,\"#fb9f3a\"],[0.8888888888888888,\"#fdca26\"],[1.0,\"#f0f921\"]]}],\"heatmap\":[{\"type\":\"heatmap\",\"colorbar\":{\"outlinewidth\":0,\"ticks\":\"\"},\"colorscale\":[[0.0,\"#0d0887\"],[0.1111111111111111,\"#46039f\"],[0.2222222222222222,\"#7201a8\"],[0.3333333333333333,\"#9c179e\"],[0.4444444444444444,\"#bd3786\"],[0.5555555555555556,\"#d8576b\"],[0.6666666666666666,\"#ed7953\"],[0.7777777777777778,\"#fb9f3a\"],[0.8888888888888888,\"#fdca26\"],[1.0,\"#f0f921\"]]}],\"heatmapgl\":[{\"type\":\"heatmapgl\",\"colorbar\":{\"outlinewidth\":0,\"ticks\":\"\"},\"colorscale\":[[0.0,\"#0d0887\"],[0.1111111111111111,\"#46039f\"],[0.2222222222222222,\"#7201a8\"],[0.3333333333333333,\"#9c179e\"],[0.4444444444444444,\"#bd3786\"],[0.5555555555555556,\"#d8576b\"],[0.6666666666666666,\"#ed7953\"],[0.7777777777777778,\"#fb9f3a\"],[0.8888888888888888,\"#fdca26\"],[1.0,\"#f0f921\"]]}],\"contourcarpet\":[{\"type\":\"contourcarpet\",\"colorbar\":{\"outlinewidth\":0,\"ticks\":\"\"}}],\"contour\":[{\"type\":\"contour\",\"colorbar\":{\"outlinewidth\":0,\"ticks\":\"\"},\"colorscale\":[[0.0,\"#0d0887\"],[0.1111111111111111,\"#46039f\"],[0.2222222222222222,\"#7201a8\"],[0.3333333333333333,\"#9c179e\"],[0.4444444444444444,\"#bd3786\"],[0.5555555555555556,\"#d8576b\"],[0.6666666666666666,\"#ed7953\"],[0.7777777777777778,\"#fb9f3a\"],[0.8888888888888888,\"#fdca26\"],[1.0,\"#f0f921\"]]}],\"surface\":[{\"type\":\"surface\",\"colorbar\":{\"outlinewidth\":0,\"ticks\":\"\"},\"colorscale\":[[0.0,\"#0d0887\"],[0.1111111111111111,\"#46039f\"],[0.2222222222222222,\"#7201a8\"],[0.3333333333333333,\"#9c179e\"],[0.4444444444444444,\"#bd3786\"],[0.5555555555555556,\"#d8576b\"],[0.6666666666666666,\"#ed7953\"],[0.7777777777777778,\"#fb9f3a\"],[0.8888888888888888,\"#fdca26\"],[1.0,\"#f0f921\"]]}],\"mesh3d\":[{\"type\":\"mesh3d\",\"colorbar\":{\"outlinewidth\":0,\"ticks\":\"\"}}],\"scatter\":[{\"fillpattern\":{\"fillmode\":\"overlay\",\"size\":10,\"solidity\":0.2},\"type\":\"scatter\"}],\"parcoords\":[{\"type\":\"parcoords\",\"line\":{\"colorbar\":{\"outlinewidth\":0,\"ticks\":\"\"}}}],\"scatterpolargl\":[{\"type\":\"scatterpolargl\",\"marker\":{\"colorbar\":{\"outlinewidth\":0,\"ticks\":\"\"}}}],\"bar\":[{\"error_x\":{\"color\":\"#2a3f5f\"},\"error_y\":{\"color\":\"#2a3f5f\"},\"marker\":{\"line\":{\"color\":\"#E5ECF6\",\"width\":0.5},\"pattern\":{\"fillmode\":\"overlay\",\"size\":10,\"solidity\":0.2}},\"type\":\"bar\"}],\"scattergeo\":[{\"type\":\"scattergeo\",\"marker\":{\"colorbar\":{\"outlinewidth\":0,\"ticks\":\"\"}}}],\"scatterpolar\":[{\"type\":\"scatterpolar\",\"marker\":{\"colorbar\":{\"outlinewidth\":0,\"ticks\":\"\"}}}],\"histogram\":[{\"marker\":{\"pattern\":{\"fillmode\":\"overlay\",\"size\":10,\"solidity\":0.2}},\"type\":\"histogram\"}],\"scattergl\":[{\"type\":\"scattergl\",\"marker\":{\"colorbar\":{\"outlinewidth\":0,\"ticks\":\"\"}}}],\"scatter3d\":[{\"type\":\"scatter3d\",\"line\":{\"colorbar\":{\"outlinewidth\":0,\"ticks\":\"\"}},\"marker\":{\"colorbar\":{\"outlinewidth\":0,\"ticks\":\"\"}}}],\"scattermapbox\":[{\"type\":\"scattermapbox\",\"marker\":{\"colorbar\":{\"outlinewidth\":0,\"ticks\":\"\"}}}],\"scatterternary\":[{\"type\":\"scatterternary\",\"marker\":{\"colorbar\":{\"outlinewidth\":0,\"ticks\":\"\"}}}],\"scattercarpet\":[{\"type\":\"scattercarpet\",\"marker\":{\"colorbar\":{\"outlinewidth\":0,\"ticks\":\"\"}}}],\"carpet\":[{\"aaxis\":{\"endlinecolor\":\"#2a3f5f\",\"gridcolor\":\"white\",\"linecolor\":\"white\",\"minorgridcolor\":\"white\",\"startlinecolor\":\"#2a3f5f\"},\"baxis\":{\"endlinecolor\":\"#2a3f5f\",\"gridcolor\":\"white\",\"linecolor\":\"white\",\"minorgridcolor\":\"white\",\"startlinecolor\":\"#2a3f5f\"},\"type\":\"carpet\"}],\"table\":[{\"cells\":{\"fill\":{\"color\":\"#EBF0F8\"},\"line\":{\"color\":\"white\"}},\"header\":{\"fill\":{\"color\":\"#C8D4E3\"},\"line\":{\"color\":\"white\"}},\"type\":\"table\"}],\"barpolar\":[{\"marker\":{\"line\":{\"color\":\"#E5ECF6\",\"width\":0.5},\"pattern\":{\"fillmode\":\"overlay\",\"size\":10,\"solidity\":0.2}},\"type\":\"barpolar\"}],\"pie\":[{\"automargin\":true,\"type\":\"pie\"}]},\"layout\":{\"autotypenumbers\":\"strict\",\"colorway\":[\"#636efa\",\"#EF553B\",\"#00cc96\",\"#ab63fa\",\"#FFA15A\",\"#19d3f3\",\"#FF6692\",\"#B6E880\",\"#FF97FF\",\"#FECB52\"],\"font\":{\"color\":\"#2a3f5f\"},\"hovermode\":\"closest\",\"hoverlabel\":{\"align\":\"left\"},\"paper_bgcolor\":\"white\",\"plot_bgcolor\":\"#E5ECF6\",\"polar\":{\"bgcolor\":\"#E5ECF6\",\"angularaxis\":{\"gridcolor\":\"white\",\"linecolor\":\"white\",\"ticks\":\"\"},\"radialaxis\":{\"gridcolor\":\"white\",\"linecolor\":\"white\",\"ticks\":\"\"}},\"ternary\":{\"bgcolor\":\"#E5ECF6\",\"aaxis\":{\"gridcolor\":\"white\",\"linecolor\":\"white\",\"ticks\":\"\"},\"baxis\":{\"gridcolor\":\"white\",\"linecolor\":\"white\",\"ticks\":\"\"},\"caxis\":{\"gridcolor\":\"white\",\"linecolor\":\"white\",\"ticks\":\"\"}},\"coloraxis\":{\"colorbar\":{\"outlinewidth\":0,\"ticks\":\"\"}},\"colorscale\":{\"sequential\":[[0.0,\"#0d0887\"],[0.1111111111111111,\"#46039f\"],[0.2222222222222222,\"#7201a8\"],[0.3333333333333333,\"#9c179e\"],[0.4444444444444444,\"#bd3786\"],[0.5555555555555556,\"#d8576b\"],[0.6666666666666666,\"#ed7953\"],[0.7777777777777778,\"#fb9f3a\"],[0.8888888888888888,\"#fdca26\"],[1.0,\"#f0f921\"]],\"sequentialminus\":[[0.0,\"#0d0887\"],[0.1111111111111111,\"#46039f\"],[0.2222222222222222,\"#7201a8\"],[0.3333333333333333,\"#9c179e\"],[0.4444444444444444,\"#bd3786\"],[0.5555555555555556,\"#d8576b\"],[0.6666666666666666,\"#ed7953\"],[0.7777777777777778,\"#fb9f3a\"],[0.8888888888888888,\"#fdca26\"],[1.0,\"#f0f921\"]],\"diverging\":[[0,\"#8e0152\"],[0.1,\"#c51b7d\"],[0.2,\"#de77ae\"],[0.3,\"#f1b6da\"],[0.4,\"#fde0ef\"],[0.5,\"#f7f7f7\"],[0.6,\"#e6f5d0\"],[0.7,\"#b8e186\"],[0.8,\"#7fbc41\"],[0.9,\"#4d9221\"],[1,\"#276419\"]]},\"xaxis\":{\"gridcolor\":\"white\",\"linecolor\":\"white\",\"ticks\":\"\",\"title\":{\"standoff\":15},\"zerolinecolor\":\"white\",\"automargin\":true,\"zerolinewidth\":2},\"yaxis\":{\"gridcolor\":\"white\",\"linecolor\":\"white\",\"ticks\":\"\",\"title\":{\"standoff\":15},\"zerolinecolor\":\"white\",\"automargin\":true,\"zerolinewidth\":2},\"scene\":{\"xaxis\":{\"backgroundcolor\":\"#E5ECF6\",\"gridcolor\":\"white\",\"linecolor\":\"white\",\"showbackground\":true,\"ticks\":\"\",\"zerolinecolor\":\"white\",\"gridwidth\":2},\"yaxis\":{\"backgroundcolor\":\"#E5ECF6\",\"gridcolor\":\"white\",\"linecolor\":\"white\",\"showbackground\":true,\"ticks\":\"\",\"zerolinecolor\":\"white\",\"gridwidth\":2},\"zaxis\":{\"backgroundcolor\":\"#E5ECF6\",\"gridcolor\":\"white\",\"linecolor\":\"white\",\"showbackground\":true,\"ticks\":\"\",\"zerolinecolor\":\"white\",\"gridwidth\":2}},\"shapedefaults\":{\"line\":{\"color\":\"#2a3f5f\"}},\"annotationdefaults\":{\"arrowcolor\":\"#2a3f5f\",\"arrowhead\":0,\"arrowwidth\":1},\"geo\":{\"bgcolor\":\"white\",\"landcolor\":\"#E5ECF6\",\"subunitcolor\":\"white\",\"showland\":true,\"showlakes\":true,\"lakecolor\":\"white\"},\"title\":{\"x\":0.05},\"mapbox\":{\"style\":\"light\"}}},\"legend\":{\"tracegroupgap\":0},\"title\":{\"text\":\"T\\u1ed5ng s\\u1ed1 laid off c\\u1ee7a t\\u1eebng stage (theo t\\u1ef7 l\\u1ec7 %)\"},\"piecolorway\":[\"rgb(3, 35, 51)\",\"rgb(13, 48, 100)\",\"rgb(53, 50, 155)\",\"rgb(93, 62, 153)\",\"rgb(126, 77, 143)\",\"rgb(158, 89, 135)\",\"rgb(193, 100, 121)\",\"rgb(225, 113, 97)\",\"rgb(246, 139, 69)\",\"rgb(251, 173, 60)\",\"rgb(246, 211, 70)\",\"rgb(231, 250, 90)\"]},                        {\"responsive\": true}                    )                };                            </script>        </div>"
            ],
            "text/plain": [
              "Figure({\n",
              "    'data': [{'domain': {'x': [0.0, 1.0], 'y': [0.0, 1.0]},\n",
              "              'hovertemplate': 'stage=%{label}<br>total_laid_off=%{value}<extra></extra>',\n",
              "              'labels': array(['ACQUIRED', 'POST-IPO', 'PRIVATE EQUITY', 'SEED', 'SERIES A',\n",
              "                               'SERIES B', 'SERIES C', 'SERIES D', 'SERIES E', 'SERIES F', 'SERIES G',\n",
              "                               'SERIES H', 'SERIES I', 'SERIES J', 'SUBSIDIARY', 'UNKNOWN'],\n",
              "                              dtype=object),\n",
              "              'legendgroup': '',\n",
              "              'name': '',\n",
              "              'showlegend': True,\n",
              "              'type': 'pie',\n",
              "              'values': array([ 27576., 203632.,   7957.,   1636.,   5678.,  15311.,  20017.,  19225.,\n",
              "                                12697.,   9932.,   3697.,   7244.,   2855.,   3570.,   1094.,  40716.])}],\n",
              "    'layout': {'legend': {'tracegroupgap': 0},\n",
              "               'piecolorway': [rgb(3, 35, 51), rgb(13, 48, 100), rgb(53, 50, 155),\n",
              "                               rgb(93, 62, 153), rgb(126, 77, 143), rgb(158, 89,\n",
              "                               135), rgb(193, 100, 121), rgb(225, 113, 97),\n",
              "                               rgb(246, 139, 69), rgb(251, 173, 60), rgb(246, 211,\n",
              "                               70), rgb(231, 250, 90)],\n",
              "               'template': '...',\n",
              "               'title': {'text': 'Tổng số laid off của từng stage (theo tỷ lệ %)'}}\n",
              "})"
            ]
          },
          "execution_count": 30,
          "metadata": {},
          "output_type": "execute_result"
        }
      ],
      "source": [
        "px.pie(stage_df,names='stage',values='total_laid_off',\n",
        "      color_discrete_sequence=px.colors.sequential.thermal,\n",
        "       title='Tổng số laid off của từng stage (theo tỷ lệ %)')"
      ]
    },
    {
      "attachments": {},
      "cell_type": "markdown",
      "metadata": {},
      "source": [
        "Từ biểu đồ tổng số laid off của từng stage ta có thể thấy:\n",
        "- Stage POST-IPO chiếm 53.2% tổng số lượng laid off, chiếm hơn 1/2 tổng số laid off của tất cả các công ty.\n",
        "- POST-IPO cũng chính là Stage có tổng số laid off cao nhất."
      ]
    },
    {
      "attachments": {},
      "cell_type": "markdown",
      "metadata": {},
      "source": [
        "### Tổng số lượng nhân viên bị sa thải của các ngành công nghiệp khác nhau theo từng năm: "
      ]
    },
    {
      "cell_type": "code",
      "execution_count": null,
      "metadata": {},
      "outputs": [],
      "source": [
        "df_tmp = df.reset_index()\n",
        "df_tmp['date'] = pd.to_datetime(df_tmp['date'])\n",
        "df_industry = df_tmp.groupby([ df.industry, df.date.dt.year]).sum()\n",
        "# df_industry.sort_values(by=['total_laid_off','date'], ascending=False)"
      ]
    },
    {
      "cell_type": "code",
      "execution_count": null,
      "metadata": {},
      "outputs": [],
      "source": [
        "df_industry = df_industry.reset_index()"
      ]
    },
    {
      "cell_type": "code",
      "execution_count": null,
      "metadata": {},
      "outputs": [],
      "source": [
        "plt.figure(figsize=(14, 10))\n",
        "plt.xticks(rotation=45)\n",
        "plt.title(\"Tổng số lượng sa thải của các ngành công nghiệp khác nhau trong từng năm\")\n",
        "sns.set(style=\"white\", palette=\"Accent\", color_codes=True)\n",
        "\n",
        "sns.barplot(data=df_industry.sort_values(by=['total_laid_off','date'], ascending=False), x=\"industry\", y=\"total_laid_off\", hue=\"date\")"
      ]
    },
    {
      "attachments": {},
      "cell_type": "markdown",
      "metadata": {},
      "source": [
        "Xu hướng sa thải hằng năm của thế giới cho thấy rằng:\n",
        "- Việc xa thải cao hơn vào năm 2020, sau đó giảm và năm 2021 và tăng vọt vào năm 2021.\n",
        "- Vào năm 2020, các ngành công nghiệp Transportation (vận tải) và Travel (du lịch) đã bị ảnh hưởng nhiều nhất bởi dịch COVID-19. Điều đó được thể hiện thông qua số lượng sa thải vào năm 2020. Nhưng 2 ngành này đã phục hồi vào những năm sau đó.\n",
        "- Các ngành công nghiệp Retail (bán lẻ), Consumer (tiêu dùng) và Food (thực phẩm) đã phải đối mặt với việc sa thải gia tăng mạnh mẽ qua các năm."
      ]
    },
    {
      "attachments": {},
      "cell_type": "markdown",
      "metadata": {},
      "source": [
        "### Theo từng năm, quốc gia có tổng số lượng sa thải lớn nhất:"
      ]
    },
    {
      "cell_type": "code",
      "execution_count": null,
      "metadata": {},
      "outputs": [],
      "source": [
        "df_tmp['year'] = df_tmp['date'].dt.year\n",
        "layoff_year_country = df_tmp.groupby(['year','country']).sum().reset_index()[['year','country','total_laid_off']]"
      ]
    },
    {
      "cell_type": "code",
      "execution_count": null,
      "metadata": {},
      "outputs": [],
      "source": [
        "layoff_year_country = layoff_year_country.sort_values([\"year\",\"total_laid_off\"],ascending=False)"
      ]
    },
    {
      "cell_type": "code",
      "execution_count": null,
      "metadata": {},
      "outputs": [],
      "source": [
        "px.bar(layoff_year_country,x='year',y='total_laid_off',color='country',text='country',\n",
        "      title='Tổng lượng sa thải của từng năm theo quốc gia'\n",
        "      )"
      ]
    },
    {
      "attachments": {},
      "cell_type": "markdown",
      "metadata": {},
      "source": [
        "Từ biểu đồ trên ta thấy:\n",
        "- Tổng số lượng sa thải giảm trong giai đoạn từ 2020 sang 2021. Nhưng sau đó lại tăng mạnh vào giai đoạn 2022.\n",
        "- Với tất cả các năm 2020, 2021, 2022, 2023 thì United States luôn là quốc gia có số lượng sa thải lớn nhất. Thường chiếm gần 1/2 tổng số lượng sa thải của tất cả các quốc gia."
      ]
    },
    {
      "attachments": {},
      "cell_type": "markdown",
      "metadata": {},
      "source": [
        "### Mối quuan hệ giữa total layoffs và funds raised của các công ty:"
      ]
    },
    {
      "cell_type": "code",
      "execution_count": null,
      "metadata": {},
      "outputs": [],
      "source": [
        "funds_raised = df[(df.funds_raised<40000)][['total_laid_off', 'funds_raised']]"
      ]
    },
    {
      "cell_type": "code",
      "execution_count": null,
      "metadata": {},
      "outputs": [],
      "source": [
        "fig = plt.figure(figsize=(15,10))\n",
        "sns.regplot(data=df, x=funds_raised.total_laid_off, y=funds_raised.funds_raised)\n",
        "plt.title(\"Mối quan hệ giữa total layoffs và funds raised của các công ty\")\n",
        "plt.show()"
      ]
    },
    {
      "attachments": {},
      "cell_type": "markdown",
      "metadata": {},
      "source": [
        "Dựa vào biểu đồ Mối quan hệ của total laidoffs và funds raised:\n",
        "- Đa số các công ty có số funds raised vừa và ít thì cũng có total laidoffs vừa và thấp.\n",
        "- Những công ty có total laidoff cao, thậm chí là rất cao có funds raised rất thấp (gần bằng 0).\n",
        "- Ngược lại, những công ty có funds raised cao thì thường sẽ có total laidoff thấp."
      ]
    },
    {
      "attachments": {},
      "cell_type": "markdown",
      "metadata": {},
      "source": [
        "### Xét từng quốc gia, thể hiện bằng biểu đồ cột cho thấy số lượng người bị sa thải của các ngành. Trí "
      ]
    },
    {
      "attachments": {},
      "cell_type": "markdown",
      "metadata": {},
      "source": [
        "### Số lượng sa thải trên thế giới giai đoạn 2020 - 2023"
      ]
    },
    {
      "cell_type": "code",
      "execution_count": null,
      "metadata": {},
      "outputs": [],
      "source": [
        "# group the data by country and industry and sum the total_laid_off column\n",
        "grouped = df.groupby(['country']).agg({'total_laid_off': 'sum'}).reset_index()\n",
        "# create a choropleth map using Plotly\n",
        "fig = px.choropleth(grouped, locations='country', locationmode='country names', color='total_laid_off',\n",
        "                    # color_continuous_scale='OrRd',\n",
        "                    color_continuous_scale='YlOrRd',\n",
        "                    hover_name='country', projection='natural earth', title='Number of People Laid Off by Country')\n",
        "\n",
        "# show the map\n",
        "fig.show()"
      ]
    },
    {
      "attachments": {},
      "cell_type": "markdown",
      "metadata": {},
      "source": [
        "Biểu đồ trên thể hiện tình hình người bị sa thải cụ thể ở các đất nước trên thế giới. Cụ thể:\n",
        "- Đất nước đang đứng dưới nguy cơ lớn về việc chuyển đổi nhân sự là Mỹ với thống kê khoảng 250.000 người mất việc.\n",
        "- Các đất nước khác thì có tỉ lệ ít đáng kể so với Mỹ, như với Ấn Độ với khoảng 35.953 người mất việc, Brazil 10.391 người, Canada 6.319 người, các đất nước còn lại với con số không đáng kể."
      ]
    },
    {
      "cell_type": "markdown",
      "metadata": {},
      "source": [
        "*Vì số lượng ngành nghề khá nhiều để visualize, nên ta sẽ nhóm các ngành nghề thành các nhóm ngành*"
      ]
    },
    {
      "cell_type": "code",
      "execution_count": null,
      "metadata": {},
      "outputs": [],
      "source": [
        "# Mapping industries into groups\n",
        "industry_to_sector = {\n",
        "    'CRYPTO': 'Technology',\n",
        "    'DATA': 'Technology',\n",
        "    'HARDWARE': 'Technology',\n",
        "    'SOFTWARE': 'Technology',\n",
        "    'HEALTHCARE': 'Healthcare',\n",
        "    'FITNESS': 'Healthcare',\n",
        "    'RETAIL': 'Retail',\n",
        "    'FOOD': 'Retail',\n",
        "    'FINANCE': 'Finance',\n",
        "    'EDUCATION': 'Education',\n",
        "    'MEDIA': 'Media',\n",
        "    'TRANSPORTATION': 'Transportation and Logistics',\n",
        "    'LOGISTICS': 'Transportation and Logistics',\n",
        "    'INFRASTRUCTURE': 'Other',\n",
        "    'PRODUCT': 'Other',\n",
        "    'CONSTRUCTION': 'Other',\n",
        "    'OTHER': 'Other',\n",
        "    'LEGAL': 'Other',\n",
        "    'REAL ESTATE': 'Other',\n",
        "    'HR': 'Other',\n",
        "    'RECRUITING': 'Other',\n",
        "    'SALES': 'Sales',\n",
        "    'AEROSPACE': 'Other',\n",
        "    'SECURITY': 'Other'\n",
        "}"
      ]
    },
    {
      "attachments": {},
      "cell_type": "markdown",
      "metadata": {},
      "source": [
        "### Tình hình sa thải trong các ngành ở các quốc gia"
      ]
    },
    {
      "cell_type": "code",
      "execution_count": null,
      "metadata": {},
      "outputs": [],
      "source": [
        "df_sub=df.copy()\n",
        "df_sub['sector'] = df_sub['industry'].map(industry_to_sector)\n",
        "\n",
        "# Group the data by country and industry and calculate the total number of layoffs\n",
        "# df_sub = df[df['country'] != \"UNITED STATES\"]\n",
        "grouped = df_sub.groupby(['country', 'sector'])['total_laid_off'].sum()\n",
        "\n",
        "# Reshape the data to create a pivot table with countries as rows, industries as columns, and total layoffs as values\n",
        "pivoted = grouped.reset_index().pivot(index='country', columns='sector', values='total_laid_off')\n",
        "\n",
        "# Create the stacked bar chart\n",
        "fig, ax = plt.subplots(figsize=(12, 8))\n",
        "pivoted.plot(kind='bar', stacked=True, ax=ax)\n",
        "\n",
        "# Set the y-axis scale to a log scale\n",
        "ax.set_yscale('log')\n",
        "\n",
        "# Set the title and axis labels\n",
        "plt.title('Total Layoffs by Sector and Country')\n",
        "plt.xlabel('Country')\n",
        "plt.ylabel('Total Layoffs')\n",
        "\n",
        "# Show the plot\n",
        "plt.show()"
      ]
    },
    {
      "attachments": {},
      "cell_type": "markdown",
      "metadata": {},
      "source": [
        "Nhóm các ngành nghề có liên quan thành các lĩnh vực: **Technology, Healthcare, Retail, Finance, Education, Media, Transportation and Logistics, Other, Sales**.\\\n",
        "Biểu diễn bằng biểu đồ cột chồng cho thấy tỉ lệ các lĩnh vực xuất hiện sa thải ở từng quốc gia, *biểu thị đầy đủ về các lĩnh vực* đang được tác động trong một đất nước như thế nào.\\\n",
        "Các yếu tố đáng chú ý về tỷ lệ sa thải có thể bao gồm:\n",
        "- Ấn Độ là quốc gia gặp phải vấn đề sa thải nghiêm trọng nhất liên quan đến giáo dục.\n",
        "- Netherlands chỉ gặp vấn đề ở 2 lĩnh vực chính là Healthcare và Finance.\n",
        "- Lĩnh vực Finance có nguy cơ bị sa thải cao nhất và bị ảnh hưởng tại hầu hết các quốc gia."
      ]
    },
    {
      "attachments": {},
      "cell_type": "markdown",
      "metadata": {},
      "source": [
        "### Các quốc gia đang dẫn đầu trong làn sóng sa thải ở từng lĩnh vực"
      ]
    },
    {
      "cell_type": "code",
      "execution_count": null,
      "metadata": {},
      "outputs": [],
      "source": [
        "# Map industries to sectors in the DataFrame\n",
        "df['sector'] = df['industry'].map(industry_to_sector)\n",
        "\n",
        "# Group the data by sector and country\n",
        "grouped = df.groupby(['sector', 'country'])['total_laid_off'].sum().reset_index()\n",
        "\n",
        "\n",
        "fig= plt.figure(figsize=(12,10))\n",
        "# Loop through the sectors and create a bar chart for each one\n",
        "for index, sector in enumerate(grouped['sector'].unique()):\n",
        "\n",
        "    # Filter the data for the current sector\n",
        "    sector_data = grouped[grouped['sector'] == sector]\n",
        "    \n",
        "    # Sort the data by total layoffs for each country in the sector\n",
        "    sorted_data = sector_data.sort_values('total_laid_off', ascending=False)\n",
        "    \n",
        "    # Filter to include only the top 5 countries\n",
        "    top_5 = sorted_data.head(5)\n",
        "    \n",
        "    # Create the bar chart\n",
        "    ax = fig.add_subplot(4,3,index+1)\n",
        "    ax = sns.barplot(data=top_5,\n",
        "                     x= \"country\",\n",
        "                     y='total_laid_off')\n",
        "    # ax.bar(top_5['country'], top_5['total_laid_off'])\n",
        "    ax.set_title(f'Top 5 total Layoffs in {sector}')\n",
        "    if index % 3 ==0 : ax.set_ylabel('Total LayOffs')\n",
        "    ax.tick_params(axis='x')\n",
        "\n",
        "\n",
        "top_n_countries = 10\n",
        "# create a chart that ranks countries based on their total layoffs in all industries\n",
        "all_data = df.groupby('country')['total_laid_off'].sum().nlargest(top_n_countries)\n",
        "\n",
        "plt.xticks(rotation=45)\n",
        "# fig.subplots_adjust(left=0.1, bottom=0.2)\n",
        "sns.barplot(data=all_data.to_frame().reset_index(),x=\"country\", y =\"total_laid_off\")\n",
        "# ax.bar(all_data.index, all_data.values)\n",
        "ax.set_title(f'Top {top_n_countries} Total Layoffs')\n",
        "ax.set_xlabel('Country')\n",
        "ax.set_ylabel('Total Laid Off')\n",
        "ax.set_yscale('log')\n",
        "\n",
        "# add padding between subplots and adjust layout\n",
        "plt.tight_layout(pad=2)\n",
        "\n",
        "# add margin between rows\n",
        "fig.subplots_adjust(hspace=0.5)\n",
        "plt.show()"
      ]
    },
    {
      "attachments": {},
      "cell_type": "markdown",
      "metadata": {},
      "source": [
        "Từ những nhóm lĩnh vực mà ta đã chia, ta có các biểu đồ cột thể hiện những quốc gia với số lượng sa thải nhân viên ***đạt top đầu***.\\\n",
        "Dễ thấy Mỹ là quốc gia đứng đầu trong tất cả các bảng cho thấy tỉ lệ sa thải ở đất nước này là *đáng báo động*.\\\n",
        "Đặc biệt đáng quan tâm về tỉ lệ bị sa thải của trong các ngành công nghệ liên quan tới Sales, Retail, Technology."
      ]
    },
    {
      "cell_type": "code",
      "execution_count": null,
      "metadata": {},
      "outputs": [],
      "source": [
        "plt.figure(figsize=(14, 8))\n",
        "pivot_df = pd.pivot_table(df, values='total_laid_off', columns=['country'], index=['industry'], aggfunc='sum')\n",
        "# sns.heatmap(pivot_df, cmap='YlGnBu')\n",
        "\n",
        "sns.heatmap(pivot_df, cmap='YlGnBu', norm=colors.LogNorm())"
      ]
    },
    {
      "attachments": {},
      "cell_type": "markdown",
      "metadata": {},
      "source": [
        "**Heat map** trực quan số lượng nhân viên bị cho nghỉ việc ở các quốc gia.\\\n",
        "Mỹ đứng đầu ở hầu hết mọi lĩnh vực.\\\n",
        "Tiếp đến là Ấn Độ với các ngành như: Consumer, Education, Food, Finance, Transportation."
      ]
    },
    {
      "attachments": {},
      "cell_type": "markdown",
      "metadata": {},
      "source": [
        "### Ngành nào đang có số lượng layoff cao nhất trên thế giới - Yến "
      ]
    },
    {
      "cell_type": "code",
      "execution_count": null,
      "metadata": {},
      "outputs": [],
      "source": [
        "industry_grouped = df.groupby([\"industry\"])[\"total_laid_off\"].sum().reset_index()\n",
        "\n",
        "plt.figure(figsize=(14, 8))\n",
        "plt.xticks(rotation=90)\n",
        "sns.barplot(df,x=\"industry\",y=\"total_laid_off\", errorbar=None)"
      ]
    },
    {
      "attachments": {},
      "cell_type": "markdown",
      "metadata": {},
      "source": [
        "Ở thời điểm hiện tại xét trên những mảng của các công ty công nghệ, nhận thấy là các công ty chuyên Hardware đang có lượng người bị sa thải nhiều nhất (gấp hơn 2 lần so với công ty đứng vị trí thứ 2).\\\n",
        "Một số nguyên nhân chính của nó là do: sự cạnh tranh, nhu cầu thị trường thay đổi, giảm thiểu chi phí bảo trì và sửa chữa bằng cách tạo ra các sản phẩm dễ dàng sửa chữa, tác động của đại dịch COVID-19."
      ]
    },
    {
      "attachments": {},
      "cell_type": "markdown",
      "metadata": {},
      "source": [
        "### Xét tất cả các ngành, dùng biểu đồ cột thể hiện số lượng quốc gia có ngành nghề đó layoff top đầu / cuối. Hưng \n",
        "\n",
        "Các bước thực hiện: Với mỗi industry ta sẽ tìm số lượng country laid off:\n",
        "- Lọc ra các country\n",
        "- Với mỗi country, đếm số lượng total_laid_off\n",
        "- Nếu total_laid_off của country tương ứng khác 0 thì số lượng country laid off tăng lên 1\n",
        "Sau khi đã có số lượng country laid off, ta trực quan bằng biểu đồ cột với trục x là industry và y là số lượng country laid off tương ứng với industry đó. (xem hình bên dưới)\n",
        "\n",
        "Nhận xét:\n",
        "- Industry có số lượng country laid off cao nhất là finance (số lượng: 242)\n",
        "- Industry có số lượng country laid off thấp nhất là manufacturing (số lượng: 1)"
      ]
    },
    {
      "cell_type": "code",
      "execution_count": 31,
      "metadata": {},
      "outputs": [
        {
          "name": "stdout",
          "output_type": "stream",
          "text": [
            "industry max:            count\n",
            "industry       \n",
            "FINANCE     242 \n",
            "\n",
            "industry min:                 count\n",
            "industry            \n",
            "MANUFACTURING      1 \n",
            "\n"
          ]
        },
        {
          "data": {
            "image/png": "[encoded data removed]",
            "text/plain": [
              "<Figure size 640x480 with 1 Axes>"
            ]
          },
          "metadata": {},
          "output_type": "display_data"
        }
      ],
      "source": [
        "df_industry = df.groupby(\"industry\")[\"country\"].agg([\"count\"]).sort_values(\"count\")\n",
        "print(\"industry max: \",df_industry[df_industry[\"count\"]==df_industry[\"count\"].max()], \"\\n\")\n",
        "print(\"industry min: \",df_industry[df_industry[\"count\"]==df_industry[\"count\"].min()], \"\\n\")\n",
        "\n",
        "ax = df_industry.plot.bar()\n",
        "ax.set_xlabel=\"industry\"\n",
        "ax.set_ylabel=\"total countries\"\n",
        "ax.set_title=\"Total laid off group by industry\"\n",
        "\n",
        "\n",
        "\n",
        "\n"
      ]
    },
    {
      "attachments": {},
      "cell_type": "markdown",
      "metadata": {},
      "source": [
        "# Sửa lại câu này\n",
        "- nếu total_laid_off hoặc percentage_laid_off khác 0 thì cũng tính 1 lần lay off.\n",
        "- nên dùng groupby cho nhanh. code mẫu ở dưới.\n",
        "- thêm title."
      ]
    },
    {
      "cell_type": "code",
      "execution_count": null,
      "metadata": {},
      "outputs": [],
      "source": [
        "# df_tmp=df.groupby('industry')['country'].nunique()\n",
        "# df_tmp.plot.bar()"
      ]
    },
    {
      "attachments": {},
      "cell_type": "markdown",
      "metadata": {},
      "source": [
        "### Thêm total_employee để chọn ra top company theo quy mô nhân sự. Từ đây phát triễn các phân tích trên nhóm top company. Yến  "
      ]
    },
    {
      "cell_type": "code",
      "execution_count": null,
      "metadata": {},
      "outputs": [],
      "source": [
        "n=10\n",
        "\n",
        "top_n_biggest_companies =list(df_with_total_employees.groupby(\"company\")\\\n",
        "                                                .agg({\"total_employees\": \"max\"})\\\n",
        "                                                .sort_values(\"total_employees\",ascending=False)[:n]\\\n",
        "                                                .index)\n",
        "\n",
        "\n",
        "plt.figure(figsize=(14, 8))\n",
        "plt.xticks(size=10)\n",
        "plt.title(\"Tổng nhân viên trong các tập đoàn lớn\",size=14)\n",
        "sns.barplot(df_with_total_employees[df_with_total_employees['company'].isin(top_n_biggest_companies)],\n",
        "            x=\"company\",\n",
        "            y=\"total_employees\",\n",
        "            errorbar=None,\n",
        "            estimator=\"sum\")\n",
        "\n",
        "\n",
        "plt.figure(figsize=(14, 8))\n",
        "plt.xticks(size=10)\n",
        "plt.title(\"Tổng nhân sự sa thải trong các tập đoàn lớn\",size=14)\n",
        "sns.barplot(df_with_total_employees[df_with_total_employees['company'].isin(top_n_biggest_companies)],\n",
        "            x=\"company\",\n",
        "            y=\"total_laid_off\",\n",
        "            errorbar=None,\n",
        "            estimator=\"sum\")"
      ]
    },
    {
      "cell_type": "code",
      "execution_count": null,
      "metadata": {},
      "outputs": [],
      "source": [
        "df_with_total_employees.describe()['total_laid_off']"
      ]
    },
    {
      "attachments": {},
      "cell_type": "markdown",
      "metadata": {},
      "source": [
        "Trong top 10 công ty lớn, số lượng sa thải đạt thấp nhất là khoảng 2200 người. Nhận thấy được là các tập đoàn lớn có xu hướng sa thải nhân viên cao hơn mức bình quân của toàn bộ các công ty trong tập dữ liệu (272 người)."
      ]
    },
    {
      "attachments": {},
      "cell_type": "markdown",
      "metadata": {},
      "source": [
        "### Câu 16\n",
        "Có 1 số điểm thú vị trong dữ liệu đang tìm từ từ. VD: \n",
        "\n",
        " 1 số company mà percentage_laid_off=1 tức là toàn bộ công ty đó bị sa thải --> bankrupt. -> KHÁM PHÁ PHÁ SẢN \n",
        "\n",
        "Công ty nào sa thải nhân viên và những dịp lễ đặc biệt (eg: Christmas...) nhiều nhất? Số lượng? \n",
        "\n",
        "Thời điểm nào lay off nhiều nhất (Tháng/quý/năm - stack bar) "
      ]
    },
    {
      "attachments": {},
      "cell_type": "markdown",
      "metadata": {},
      "source": [
        "### Địa điểm tiêu biểu nơi xảy ra lay off"
      ]
    },
    {
      "cell_type": "code",
      "execution_count": null,
      "metadata": {},
      "outputs": [],
      "source": [
        "\n",
        "plt.figure(facecolor='k')\n",
        "wordcloud = WordCloud(width=400, height=200,max_font_size=100).generate(' '.join(df['location']))\n",
        "\n",
        "plt.imshow(wordcloud,interpolation=\"bilinear\")\n",
        "plt.axis(\"off\")\n",
        "plt.tight_layout(pad=0)\n",
        "plt.show()"
      ]
    },
    {
      "attachments": {},
      "cell_type": "markdown",
      "metadata": {},
      "source": [
        "San Francisco area bay với Silicon Valley nổi tiếng lại cũng là nơi diễn ra lay off nhiều nhất :("
      ]
    },
    {
      "cell_type": "code",
      "execution_count": null,
      "metadata": {},
      "outputs": [],
      "source": [
        "df_clean_total_lo=df[df['total_laid_off']>0]\n",
        "df_clean_total_lo['date'].min()\n",
        "df_clean_total_lo['date'].max()\n",
        "df_clean_total_lo['month_year'] = pd.to_datetime(df_clean_total_lo['date']).dt.strftime('%Y-%m')\n",
        "total_by_month_year = df_clean_total_lo.groupby('month_year').sum()['total_laid_off']\n",
        "total_by_month_year.reindex(pd.period_range('2020-01',total_by_month_year.index[-1],freq='M'))\n",
        "total_by_month_year.fillna(0.0)\n",
        "total_by_month_year.max()\n",
        "# lo_2020=lo_2020.reindex(pd.RangeIndex(1,13),fill_value= 0).ffill()\n",
        "# total_by_month_year.reset_index().rename(columns={'sum':'valuesum'})\n",
        "\n"
      ]
    },
    {
      "attachments": {},
      "cell_type": "markdown",
      "metadata": {},
      "source": [
        "## Số lượng lay off theo thời gian"
      ]
    },
    {
      "cell_type": "code",
      "execution_count": null,
      "metadata": {},
      "outputs": [],
      "source": [
        "df_total_employees_time=df_with_total_employees[df_with_total_employees.total_laid_off>0]\n",
        "df_total_employees_time['year']=df_total_employees_time['date'].apply(lambda x :x.year)\n",
        "df_total_employees_time['month']=df_total_employees_time['date'].apply(lambda x :x.month)\n",
        "df_total_employees_time['month_year'] = pd.to_datetime(df_total_employees_time['date']).dt.strftime('%Y-%m')\n",
        "\n"
      ]
    },
    {
      "cell_type": "code",
      "execution_count": null,
      "metadata": {},
      "outputs": [],
      "source": [
        "total_by_time=df_total_employees_time.groupby('month_year').sum()['total_laid_off']\n",
        "\n",
        "fig, ax = plt.subplots( figsize=(9, 5), tight_layout=True)\n",
        "fig.tight_layout(pad=5.0)\n",
        "plt.plot(total_by_time.index,total_by_time.values)\n",
        "plt.xlabel('Date')\n",
        "plt.ylabel('Total laid off')\n",
        "plt.title('Số người bị sa thải qua từng thời điểm')\n",
        "\n",
        "\n",
        "x_max=np.where(total_by_time == total_by_time.max())[0]\n",
        "y_max=total_by_time.max()\n",
        "plt.annotate(f'{int(y_max)} employees laid off', xy=(x_max, y_max), xytext=(x_max-10, y_max),arrowprops=dict(arrowstyle='->',color='red'))\n",
        "# beautify the x-labels\n",
        "plt.gcf().autofmt_xdate()\n",
        "print(f\"Số lượng lay off nhiều nhất trong 1 tháng: {y_max} người\")"
      ]
    },
    {
      "attachments": {},
      "cell_type": "markdown",
      "metadata": {},
      "source": [
        "Làng sóng lay off diễn ra mạnh mẽ nhất từ tháng 9 2022 và đạt đỉnh vào tháng 1 2023 với tổng cộng gần 80 ngàn người bị sa thải trong 1 tháng."
      ]
    },
    {
      "cell_type": "markdown",
      "metadata": {},
      "source": [
        "### Số lượng lay off theo tháng"
      ]
    },
    {
      "cell_type": "code",
      "execution_count": null,
      "metadata": {},
      "outputs": [],
      "source": [
        "\n",
        "analysis_year = df_total_employees_time.groupby([\"year\"],sort=True)\n",
        "fig, ax = plt.subplots( figsize=(9, 5), tight_layout=True)\n",
        "fig.tight_layout(pad=5.0)\n",
        "for year, dfx in analysis_year:\n",
        "    df_m=dfx.groupby('month').sum()['total_laid_off']\n",
        "    plt.plot(df_m.index,df_m.values,label=f'{year}')\n",
        "\n",
        "plt.xticks(np.arange(1, 13, 1))\n",
        "plt.xlabel('Month')    \n",
        "plt.ylabel('Total laid off')   \n",
        "plt.title('Số người bị sa thải theo tháng') \n",
        "plt.legend()\n"
      ]
    },
    {
      "attachments": {},
      "cell_type": "markdown",
      "metadata": {},
      "source": [
        "Tháng 11 và tháng 1 là hai thời điểm có nhiều người bị sa thải nhất. Nhìn rộng hơn thì quý 1 và quý 4 là những thời điểm có lượng sa thải lớn nhất."
      ]
    },
    {
      "attachments": {},
      "cell_type": "markdown",
      "metadata": {},
      "source": [
        "## Liệu có đợt lay off này diễn ra vào holiday week?"
      ]
    },
    {
      "attachments": {},
      "cell_type": "markdown",
      "metadata": {},
      "source": [
        "*holiday week: Tuần lễ cuối cùng của năm gồm cả Christmas (25/12) và ngày đầu năm mới (01/01). Đây là dịp lễ lớn ở các nước phương tây."
      ]
    },
    {
      "cell_type": "code",
      "execution_count": null,
      "metadata": {},
      "outputs": [],
      "source": [
        "df_time=df.set_index('date',drop=True)\n",
        "holiday_laid_off_2021=df_time['2020-12-24':'2021-01-01']\n",
        "holiday_laid_off_2022=df_time['2021-12-24':'2022-01-01']\n",
        "holiday_laid_off_2023=df_time['2022-12-24':'2023-01-01']"
      ]
    },
    {
      "cell_type": "code",
      "execution_count": null,
      "metadata": {},
      "outputs": [],
      "source": [
        "print(holiday_laid_off_2021)"
      ]
    },
    {
      "cell_type": "code",
      "execution_count": null,
      "metadata": {},
      "outputs": [],
      "source": [
        "print(holiday_laid_off_2022)"
      ]
    },
    {
      "cell_type": "code",
      "execution_count": null,
      "metadata": {},
      "outputs": [],
      "source": [
        "print(holiday_laid_off_2023)"
      ]
    },
    {
      "attachments": {},
      "cell_type": "markdown",
      "metadata": {},
      "source": [
        "Kết quả ta thấy cuối năm 2022 có 4 công ty cho một số lượng khá lớn nhân viên nghỉ khỏe ngay trong thời gian diễn ra trong holiday week 😥."
      ]
    },
    {
      "attachments": {},
      "cell_type": "markdown",
      "metadata": {},
      "source": [
        "### Tình hình lay off ở Việt Nam"
      ]
    },
    {
      "cell_type": "code",
      "execution_count": null,
      "metadata": {},
      "outputs": [],
      "source": [
        "print(df[df.country=='VIETNAM'])"
      ]
    },
    {
      "attachments": {},
      "cell_type": "markdown",
      "metadata": {},
      "source": [
        "Ta thấy có 3 đợt sa thải được ghi nhận tại Việt Nam đến từ 2 công ty."
      ]
    },
    {
      "attachments": {},
      "cell_type": "markdown",
      "metadata": {},
      "source": [
        "### Với mỗi đợt sa thải, các công ty thường cho nghỉ bao nhiêu phần trăm nhân sự?"
      ]
    },
    {
      "cell_type": "code",
      "execution_count": null,
      "metadata": {},
      "outputs": [],
      "source": [
        "df_clean_percentage=df[df['percentage_laid_off']>0]\n",
        "df_clean_percentage['percentage_laid_off']=df_clean_percentage['percentage_laid_off']*100\n",
        "df_clean_percentage['percentage_lo_range']=pd.cut(x=df_clean_percentage['percentage_laid_off'], bins=[0, 10, 20, 30,\n",
        "                                          40,50,60,70,80,90,100],labels=['0-10', '10-20', '20-30',\n",
        "                                          '30-40','40-50','50-60','60-70','70-80','80-90','90-100'],include_lowest=True)"
      ]
    },
    {
      "cell_type": "code",
      "execution_count": null,
      "metadata": {},
      "outputs": [],
      "source": [
        "fig, ax = plt.subplots(figsize=(10, 6), tight_layout=True)\n",
        "fig.tight_layout(pad=5.0)\n",
        "ax.set_xticks(np.arange(0, 101, 10))\n",
        "ax.set_title( 'Số đợt sa thải theo quy mô phần trăm nhân sự mỗi đợt',wrap=True,pad=10)\n",
        "ax.set_xlabel('percentage laid off (%)')\n",
        "ax.set_ylabel('Number of times laid off happend')\n",
        "sns.histplot(df_clean_percentage['percentage_laid_off'], kde=True, bins=50)"
      ]
    },
    {
      "attachments": {},
      "cell_type": "markdown",
      "metadata": {},
      "source": [
        "Ta thấy biểu đồ có 2 đỉnh. Đỉnh lớn nằm quanh 10% cho ta nhận định với mỗi đợt sa thải thì khoảng 10% nhân sự là con số ưu thích của các công ty. Biểu đồ lệch trái cho thấy các công ty có xu hướng luôn có gắng để sa thải ít hơn 50% nhân sự mỗi đợt. Điều thú vị khác là đỉnh thứ 2 nằm ở mức 100%. Điều này có thể liên quan đến các công ty quy nhỏ, toàn bộ các thành viên gắng kết với nhau đến những giây phút cuối cùng ?!?"
      ]
    },
    {
      "cell_type": "markdown",
      "metadata": {},
      "source": [
        "### Top 20 công ty có tổng % số lượng nhân sự bị sa thải nhiều nhất"
      ]
    },
    {
      "cell_type": "code",
      "execution_count": null,
      "metadata": {},
      "outputs": [],
      "source": [
        "fig, ax = plt.subplots( figsize=(9, 5), tight_layout=True)\n",
        "fig.tight_layout(pad=5.0)\n",
        "top_20 = df.groupby(['company','location']).sum().sort_values(by='percentage_laid_off',ascending=False).head(20)['percentage_laid_off'] * 100.0\n",
        "top_20.plot(kind='barh',ax=ax)\n",
        "ax.set_title('Top 20 công ty sai thải nhân sự nhiều nhất theo tổng tỉ lệ phần trăm')\n",
        "ax.set_xlabel('percentage laid off (%)')\n",
        "ax.set_ylabel('Company')"
      ]
    },
    {
      "cell_type": "markdown",
      "metadata": {},
      "source": [
        "Ta có thể thấy là có nhiều công ty sa thải với tổng hơn cả 100% nhân sự. Nguyên do là vì họ đã sa thải- tuyển lại và tiếp tục sa thải tiếp trong nhiều đợt . Một ví dụ là công ty `Air rooms`, ngày 2020-04-22 họ sa thải 70% nhân sự và sau đó vào ngày 2020-05-07 họ tiếp tục sa thải toàn bộ 100% nhân sự. Cá biệt có công ty `Service` trụ sở tại Los Angeles đã sai thải 2 lần với quy mô mỗi lần là 100% nhân sự chỉ cách nhau vài ngày 💀."
      ]
    },
    {
      "cell_type": "code",
      "execution_count": null,
      "metadata": {},
      "outputs": [],
      "source": [
        "print(df[df.company=='AIRY ROOMS'])\n",
        "print(df[df.company=='SERVICE'])"
      ]
    },
    {
      "attachments": {},
      "cell_type": "markdown",
      "metadata": {},
      "source": [
        "### Tìm hiểu về các công ty sa thải hơn 50% nhân sự trong các đợt"
      ]
    },
    {
      "cell_type": "code",
      "execution_count": null,
      "metadata": {},
      "outputs": [],
      "source": [
        "more_than_50percent_laid_off=df_clean_percentage[df_clean_percentage.percentage_laid_off>=50]\n",
        "# số lần sa thải có quy mô > 50% nhân viên\n",
        "n_more_than_50percent_laid_off=more_than_50percent_laid_off.shape[0]\n",
        "\n",
        "# số lần sa thải có quy mô 100% nhân viên\n",
        "laid_off_all_employees =df_clean_percentage[df_clean_percentage.percentage_laid_off==100]\n",
        "n_laid_off_all_employees = laid_off_all_employees.shape[0]\n",
        "print(\"Tổng số đợt sa thải >50% nhân sự: \"+str(n_more_than_50percent_laid_off))\n",
        "print(\"Tổng số đợt sa thải 100% nhân sự: \"+str(n_laid_off_all_employees))"
      ]
    },
    {
      "cell_type": "code",
      "execution_count": null,
      "metadata": {},
      "outputs": [],
      "source": [
        "fig, (ax1, ax2) = plt.subplots(1, 2, figsize=(12, 5), tight_layout=True)\n",
        "fig.tight_layout(pad=5.0)\n",
        "#pie chart\n",
        "pie_lb=['\\n'.join(wrap('Vẫn còn nhân sự', 15)),'\\n'.join(wrap('Toàn bộ nhân sự đã bị sa thải', 15))]\n",
        "ax1.pie([n_more_than_50percent_laid_off-n_laid_off_all_employees,n_laid_off_all_employees],labels=pie_lb,autopct='%.0f%%',counterclock=False, startangle=-270,colors=['#F1C40F','#E74C3C'])\n",
        "ax1.set_title('Tình trạng nhân sự của các công ty có hơn 50% nhân viên bị sa thải',wrap=True)\n",
        "\n",
        "#histogram\n",
        "ax2.hist(more_than_50percent_laid_off['stage'],alpha=0.9)\n",
        "plt.xticks(rotation=45, size=10)\n",
        "ax2.set_xlabel('Stage')\n",
        "ax2.set_ylabel('Number of companies')\n",
        "ax2.set_title('Phân bố theo Stage của các công ty có hơn 50% nhân viên bị sa thải',wrap=True)\n",
        "plt.show()"
      ]
    },
    {
      "attachments": {},
      "cell_type": "markdown",
      "metadata": {},
      "source": [
        "Dựa vào biểu đồ tròn ta thấy rằng, một khi đã sa thải hơn 50% nhân sự thì có tới hơn 53% đó sẽ là những lần sa thải toàn bộ 100% nhân sự. \n",
        "Nhìn vào biểu đồ histogram ta thấy rằng đa số những công ty thuộc nhóm ra thải nhiều này chủ yếu không có thông tin về `stage` hoặc thuộc những giai đoạn khởi đầu (`Seed`, `SeriesA`...). Những công ty này thiếu sự ổn định."
      ]
    },
    {
      "attachments": {},
      "cell_type": "markdown",
      "metadata": {},
      "source": [
        "### Tìm hiểu quan hệ giữa total_laid_off,percentage_laid_off,funds_raised,total_employees"
      ]
    },
    {
      "cell_type": "code",
      "execution_count": null,
      "metadata": {},
      "outputs": [],
      "source": [
        "# xữ lý các dòng có giá trị 0\n",
        "df_cor=df_with_total_employees[(df_with_total_employees != 0).all(1)]\n",
        "df_cor.reset_index(drop=True)\n",
        "# lấy 4 cột 'total_laid_off','percentage_laid_off','funds_raised','total_employees' để so sánh quan hệ\n",
        "df_cor=df_cor.loc[:,['total_laid_off','percentage_laid_off','funds_raised','total_employees']]\n",
        "df_cor.shape[0]"
      ]
    },
    {
      "cell_type": "code",
      "execution_count": null,
      "metadata": {},
      "outputs": [],
      "source": [
        "# vẽ correlation map\n",
        "corr = df_cor.corr()\n",
        "sns.heatmap(corr,\n",
        "    cmap=sns.diverging_palette(220, 10, as_cmap=True),\n",
        "    vmin=-1.0, vmax=1.0,\n",
        "    square=True)"
      ]
    },
    {
      "attachments": {},
      "cell_type": "markdown",
      "metadata": {},
      "source": [
        "Ta thấy rằng `total_employees` và `total_laid_off` có quan hệ đồng biến rất mạnh còn các cặp feature còn lại gần như không có quan hệ."
      ]
    },
    {
      "cell_type": "code",
      "execution_count": null,
      "metadata": {},
      "outputs": [],
      "source": [
        "sns.scatterplot(data=df_cor,x='total_laid_off',y='total_employees')"
      ]
    }
  ],
  "metadata": {
    "kernelspec": {
      "display_name": "Python 3",
      "language": "python",
      "name": "python3"
    },
    "language_info": {
      "codemirror_mode": {
        "name": "ipython",
        "version": 3
      },
      "file_extension": ".py",
      "mimetype": "text/x-python",
      "name": "python",
      "nbconvert_exporter": "python",
      "pygments_lexer": "ipython3",
      "version": "3.9.12"
    },
    "orig_nbformat": 4
  },
  "nbformat": 4,
  "nbformat_minor": 2
}
