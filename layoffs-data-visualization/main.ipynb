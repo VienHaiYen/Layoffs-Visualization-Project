{
 "cells": [
  {
   "attachments": {},
   "cell_type": "markdown",
   "metadata": {},
   "source": [
    "# LAB 01: LAYOFFS 2023"
   ]
  },
  {
   "attachments": {},
   "cell_type": "markdown",
   "metadata": {},
   "source": [
    "## Mô tả đồ án:\n",
    "- Từ nguồn dữ liệu lấy được từ Kaggle về vấn đề sa thải nhân viên ở các công ty trên toàn thế giới, đồ án này nhằm mục đích phân tích dữ liệu đã có để có được cái nhìn khách quan hơn về vấn đề này."
   ]
  },
  {
   "attachments": {},
   "cell_type": "markdown",
   "metadata": {},
   "source": [
    "---"
   ]
  },
  {
   "attachments": {},
   "cell_type": "markdown",
   "metadata": {},
   "source": [
    "### Import các thư viện"
   ]
  },
  {
   "cell_type": "code",
   "execution_count": null,
   "metadata": {},
   "outputs": [],
   "source": [
    "import numpy as np\n",
    "import pandas as pd\n",
    "import seaborn as sns\n",
    "import matplotlib.pyplot as plt\n",
    "from textwrap import wrap"
   ]
  },
  {
   "attachments": {},
   "cell_type": "markdown",
   "metadata": {},
   "source": [
    "---"
   ]
  },
  {
   "attachments": {},
   "cell_type": "markdown",
   "metadata": {},
   "source": [
    "### <span style=\"color:yellow\"> A. Thu thập dữ liệu</span>\n"
   ]
  },
  {
   "attachments": {},
   "cell_type": "markdown",
   "metadata": {},
   "source": [
    "#### Ngữ cảnh thực hiện tìm kiếm dữ liệu"
   ]
  },
  {
   "attachments": {},
   "cell_type": "markdown",
   "metadata": {},
   "source": [
    "Sau dịch covid 19, các công ty công nghệ trên toàn cầu đang đối mặt với sự suy thoái kinh tế. Sự chậm lại của chi tiêu từ người tiêu dùng, lãi suất cao hơn từ các ngân hàng trung ương và sức mạnh của đồng đô la ngoại tệ đang gợi ý về khả năng xảy ra suy thoái kinh tế và các công ty công nghệ đã bắt đầu **cắt giảm nhân sự**."
   ]
  },
  {
   "attachments": {},
   "cell_type": "markdown",
   "metadata": {},
   "source": [
    "#### Chủ đề"
   ]
  },
  {
   "attachments": {},
   "cell_type": "markdown",
   "metadata": {},
   "source": [
    "Phân tích tình trạng hỗn loạn công nghệ gần đây thông qua số liệu về việc sa thải nhân sự, từ đó rút ra được những thông tin hữu ích."
   ]
  },
  {
   "attachments": {},
   "cell_type": "markdown",
   "metadata": {},
   "source": [
    "#### Nguồn\n",
    "Dữ liệu được lấy trên Kaggle dưới file csv, đường link dẫn đến  [Ở đây](https://www.kaggle.com/datasets/swaptr/layoffs-2022?resource=download)"
   ]
  },
  {
   "attachments": {},
   "cell_type": "markdown",
   "metadata": {},
   "source": [
    "#### Người ta có cho phép sử dụng dữ liệu như thế này hay không?"
   ]
  },
  {
   "attachments": {},
   "cell_type": "markdown",
   "metadata": {},
   "source": [
    "Thông tin License của dữ liệu: Open Database.\n",
    "\n",
    "Theo thông tin License của dữ liệu, người dùng được phép tự do chia sẻ, sửa đổi và sử dụng dữ liệu trong khi duy trì sự tự do tương tự cho người dùng khác."
   ]
  },
  {
   "attachments": {},
   "cell_type": "markdown",
   "metadata": {},
   "source": [
    "#### Người ta đã thu thập dữ liệu này như thế nào? Phương pháp thực hiện là gì?"
   ]
  },
  {
   "attachments": {},
   "cell_type": "markdown",
   "metadata": {},
   "source": [
    "Dữ liệu được thu thập bằng cách theo dõi số liệu được báo cáo trên các nền tảng:\n",
    "- Bloombreg\n",
    "- San Francisco Business Times\n",
    "- TechCrunch\n",
    "- The New York Times\n",
    "\n",
    "Phương pháp thu thập dữ liệu: Dữ liệu được tải xuống từ Layoffs.fyi Tracker và được biên soạn thành 1 file CSV."
   ]
  },
  {
   "attachments": {},
   "cell_type": "markdown",
   "metadata": {},
   "source": [
    "#### Đọc dữ liệu"
   ]
  },
  {
   "cell_type": "code",
   "execution_count": null,
   "metadata": {},
   "outputs": [],
   "source": [
    "df=pd.read_csv('./datasets/layoffs.csv')\n",
    "df.head()"
   ]
  },
  {
   "attachments": {},
   "cell_type": "markdown",
   "metadata": {},
   "source": [
    "---"
   ]
  },
  {
   "attachments": {},
   "cell_type": "markdown",
   "metadata": {},
   "source": [
    "### <span style=\"color:yellow\"> B. Khám phá dữ liệu</span>\n"
   ]
  },
  {
   "attachments": {},
   "cell_type": "markdown",
   "metadata": {},
   "source": [
    "#### Mỗi dòng có ý nghĩa gì? Có vấn đề các dòng có ý nghĩa khác nhau không?"
   ]
  },
  {
   "cell_type": "code",
   "execution_count": null,
   "metadata": {},
   "outputs": [],
   "source": [
    "# df['stage']"
   ]
  },
  {
   "attachments": {},
   "cell_type": "markdown",
   "metadata": {},
   "source": [
    "- Mỗi dòng chứa dữ liệu về một công ty và các thông tin liên quan đến công ty đó như: tên công ty, nơi đặt trụ sở chính, loại ngành nghề, số nhân viên bị sa thải, tỷ lệ sa thải, ngày công bố, giai đoạn của công ty, quốc gia công ty hoạt động, số vốn huy động bởi công ty.\n",
    "\n",
    "- ví dụ: dòng 1: doanh nghiệp SiriusXM có trụ sở tại New York City và hoạt động trong ngành truyền thông, đã sa thải 475 nhân viên, chiếm 8% tổng số nhân viên của họ tính tới ngày 6 tháng 3 năm 2023. Công ty cũng đang ở giai đoạn Post-IPO và có trụ sở tại Hoa Kỳ. Họ đã huy động được số vốn 525 triệu đô la.\n",
    "\n",
    "- Không có tình trạng các dòng có ý nghĩa khác nhau."
   ]
  },
  {
   "attachments": {},
   "cell_type": "markdown",
   "metadata": {},
   "source": [
    "#### Mỗi cột có ý nghĩa gì?"
   ]
  },
  {
   "cell_type": "code",
   "execution_count": null,
   "metadata": {},
   "outputs": [],
   "source": [
    "\n",
    "# print(\"total columns: \",len(df.columns)) \n",
    "\n",
    "# for column in range(len(df.columns)) :\n",
    "#     print(\"column \", column,\" \", df.columns[column])\n",
    "#     print(\"size: \", len(df.loc[:, df.columns[column]]))\n",
    "#     print(\"number of values: \", len(df.loc[:, df.columns[column]].unique()), \"\\n\")\n",
    "#     print(\"head: \", ' ,'.join(df.loc[:, df.columns[column]].unique()) )\n",
    "\n",
    "column=2\n",
    "print(\"column \", column,\": \", df.columns[column])\n",
    "print(\"size: \", len(df.loc[:, df.columns[column]]))\n",
    "print(\"number of values: \", len(df.loc[:, df.columns[column]].unique()))\n",
    "# print(df.loc[:, df.columns[column]].unique())\n",
    "arr= df.loc[:, df.columns[column]].unique()\n",
    "\n",
    "nanIndex=-1\n",
    "for index in range(len(arr)):\n",
    "    if isinstance(arr[index], float) and np.isnan(arr[index]):\n",
    "        nanIndex=index\n",
    "        break\n",
    "if nanIndex != -1:\n",
    "    arr=np.delete(arr,nanIndex)\n",
    "\n",
    "print(\"number of values (without nan): \", len(arr))\n",
    "\n",
    "# print for string type\n",
    "print(\"data (without nan) : \", ', '.join(arr))\n",
    "\n",
    "# print for number type\n",
    "# print( \", \".join(map(str, arr)))\n",
    "\n",
    "    "
   ]
  },
  {
   "attachments": {},
   "cell_type": "markdown",
   "metadata": {},
   "source": [
    "## Thông tin của mỗi cột:\n",
    "- Company: Tên của công ty\n",
    "    - Kích thước: 2357\n",
    "    - Số lượng dữ liệu không trùng lắp: 1893\n",
    "    - Một số Company có trong dữ liệu: Atlassian, SiriusXM, Alerzo, UpGrad, Loft, Embark Trucks,...\n",
    "- Location: Nơi đặt trụ sở chính của công ty\n",
    "    - Kích thước: 2357\n",
    "    - Số lượng dữ liệu không trùng lắp: 191\n",
    "    - Một số Location có trong dữ liệu: Sydney, New York City, Ibadan, Mumbai, Sao Paulo,...\n",
    "\n",
    "- Industry: Loại ngành mà công ty hoạt động\n",
    "    - Kích thước: 2357\n",
    "    - Số lượng dữ liệu không trùng lắp: 30\n",
    "    - Một số Industry có trong dữ liệu: Other, Media, Retail, Education, Real Estate, Transportation,...\n",
    "\n",
    "- Total_laid_off: Tổng số nhân viên bị sa thải bởi công ty\n",
    "    - Kích thước: 2357\n",
    "    - Số lượng dữ liệu không trùng lắp: 286\n",
    "    - Một số Total_laid_off có trong dữ liệu: 475.0, 400.0, 120.0, 340.0, 230.0, 100.0, 63.0, 30.0...\n",
    "\n",
    "- Percentage_laid_off: Tỷ lệ nhân viên bị sa thải bởi công ty\n",
    "    - Kích thước: 2357\n",
    "    - Số lượng dữ liệu không trùng lắp: 76\n",
    "    - Một số Percentage_laid_off có trong dữ liệu: 0.05, 0.08, 0.15, 0.7, 0.03, 0.11, 0.1, 1.0...\n",
    "\n",
    "- Date: Ngày công bố thông tin về việc sa thải\n",
    "    - Kích thước: 2357\n",
    "    - Số lượng dữ liệu không trùng lắp: 191\n",
    "    - Một số Date có trong dữ liệu: 2023-03-06, 2023-03-03, 2023-03-02, 2023-03-01, 2023-02-28,...\n",
    "\n",
    "- Stage: Giai đoạn của công ty\n",
    "    - Kích thước: 2357\n",
    "    - Số lượng dữ liệu không trùng lắp: 17\n",
    "    - Một số Stage có trong dữ liệu: Post-IPO, Series B, Unknown, Acquired, Series F, Series E...\n",
    "\n",
    "- Country: Quốc gia nơi công ty đặt trụ sở\n",
    "    - Kích thước: 2357\n",
    "    - Số lượng dữ liệu không trùng lắp: 59\n",
    "    - Một số Country có trong dữ liệu:  Australia, United States, Nigeria, India, Brazil,...\n",
    "\n",
    "- Funds_raised: Tổng số vốn do công ty huy động (tính bằng triệu đô la)\n",
    "    - Kích thước: 2357\n",
    "    - Số lượng dữ liệu không trùng lắp: 639\n",
    "    - Một số Funds_raised có trong dữ liệu: 525.0, 16.0, 631.0, 788.0, 317.0, 59.0, 152.0..."
   ]
  },
  {
   "attachments": {},
   "cell_type": "markdown",
   "metadata": {},
   "source": [
    "#### Mỗi cột hiện đang có kiểu dữ liệu gì?"
   ]
  },
  {
   "cell_type": "code",
   "execution_count": null,
   "metadata": {},
   "outputs": [],
   "source": [
    "df.dtypes"
   ]
  },
  {
   "cell_type": "code",
   "execution_count": null,
   "metadata": {},
   "outputs": [],
   "source": [
    "object_columns = df.select_dtypes(include=['object']).columns\n",
    "for col in object_columns:\n",
    "    print(col,\":\",set(df[col].apply(type)))"
   ]
  },
  {
   "attachments": {},
   "cell_type": "markdown",
   "metadata": {},
   "source": [
    "Chúng ta nhận thấy rằng ba cột `industry`, `date` và `stage` có dạng dữ liệu không đồng nhất, tuy nhiên đây chỉ là do sự thiếu hụt dữ liệu trong các dòng, được biểu thị bằng giá trị `NaN` (dạng số thực)."
   ]
  },
  {
   "attachments": {},
   "cell_type": "markdown",
   "metadata": {},
   "source": [
    "#### Có cột nào có kiểu dữ liệu chưa phù hợp để có thể xử lý tiếp hay không?"
   ]
  },
  {
   "attachments": {},
   "cell_type": "markdown",
   "metadata": {},
   "source": [
    "Các cột sau đang có kiểu dữ liệu là `object`, do đó cần được chuyển đổi sang kiểu chuỗi (`string`):\n",
    "\n",
    "* `company`\n",
    "* `location`\n",
    "* `industry`\n",
    "* `stage`\n",
    "* `country`\n",
    "\n",
    "Trong khi đó, cột `date` đang có kiểu dữ liệu là `object`, cần được chuyển đổi sang kiểu ngày tháng (`datetime`)."
   ]
  },
  {
   "attachments": {},
   "cell_type": "markdown",
   "metadata": {},
   "source": [
    "#### Có cần phải tiền xử lý dữ liệu hay không và nếu có thì nhóm sinh viên cần phải xử lý như thế nào?"
   ]
  },
  {
   "cell_type": "code",
   "execution_count": null,
   "metadata": {},
   "outputs": [],
   "source": [
    "df.info()"
   ]
  },
  {
   "attachments": {},
   "cell_type": "markdown",
   "metadata": {},
   "source": [
    "Quan sát thấy có số lượng lớn dữ liệu bị thiếu và có những cột phải xử lý kiểu dữ liệu do vậy ta phải tiền xử lý dữ liệu."
   ]
  },
  {
   "attachments": {},
   "cell_type": "markdown",
   "metadata": {},
   "source": [
    "### Tiền xử lý dữ liệu"
   ]
  },
  {
   "cell_type": "code",
   "execution_count": null,
   "metadata": {},
   "outputs": [],
   "source": [
    "# Kiểm tra missing data\n",
    "have_Nan=df.columns[df.isna().any()]\n",
    "\n",
    "# Đếm số missing data của các cột có missing data\n",
    "print(\"Missing data:\")\n",
    "print(df[have_Nan].isnull().sum())\n",
    "df.isna().sum().plot(kind=\"barh\",title='Miss data')\n",
    "plt.show()\n",
    "\n",
    "# Phần trăm dữ liệu bị thiểu của những cột này\n",
    "print(\"Percentage missing data:\")\n",
    "percentage_missing_data=df[have_Nan].isnull().sum() * 100 / df.shape[0]\n",
    "print(percentage_missing_data)\n",
    "\n",
    "# Kiểm tra có dữ liệu bị duplicate không\n",
    "print(\"Number of rows duplicated: \"+str(df[df.duplicated()].shape[0]))\n"
   ]
  },
  {
   "attachments": {},
   "cell_type": "markdown",
   "metadata": {},
   "source": [
    "Ta thấy có một số lượng khá lớn dữ liệu bị thiếu ở cột `total_laid_off`,`percentage_laid_off` và `funds_raised` . Vì có những cột dữ liệu bị thiếu lên đến hơn 30% nên ta không thể chọn phương án bỏ toàn bộ những dòng nào bị thiếu dữ liệu. Bên cạnh đó có tồn tại 1 dòng bị trùng ta cũng cần phải xử lý. \n",
    "\n",
    "- Đầu tiên ta loại bỏ những dòng có dữ liệu bị thiếu ở cột `industry`,`date` và `stage` vì số lượng bị thiếu không đáng kể.\n",
    "- Xóa dòng bị trùng dữ liệu.\n",
    "- Loại bỏ những dòng mà bị thiếu cả hai trường quan trọng là `total_laid_off` và `percentage_laid_off` vì những dòng này không có ý nghĩa để ta phân tích.\n",
    "- Tiếp theo tùy theo hướng phân tích ta sẽ chọn những cột dữ liệu phù hợp. tạm thời ta sẽ fill bằng 0."
   ]
  },
  {
   "cell_type": "code",
   "execution_count": null,
   "metadata": {},
   "outputs": [],
   "source": [
    "# Loại bỏ những dòng có dữ liệu bị thiếu ở cột `industry`,`date` và `stage`\n",
    "df = df[~df['industry'].isna()]\n",
    "df = df[~df['date'].isna()]\n",
    "df = df[~df['stage'].isna()]\n",
    "\n",
    "# Xóa dòng bị trùng dữ liệu.\n",
    "df = df[~df.duplicated()]\n",
    "\n",
    "# Loại bỏ những dòng mà bị thiểu cả hai trường quan trọng là `total_laid_off` và `percentage_laid_off`\n",
    "df = df[~(df['total_laid_off'].isna()&df['percentage_laid_off'].isna())]\n",
    "\n",
    "# \n",
    "df = df.fillna(0)\n",
    "print(\"After fill null:\")\n",
    "print(df.isna().sum())"
   ]
  },
  {
   "attachments": {},
   "cell_type": "markdown",
   "metadata": {},
   "source": [
    "Sau khi đã tạm thời xử lý các dữ liệu bị thiếu ta bắt đầu xử lý kiễu dữ liệu của các cột.\n",
    "\n",
    "- Chuyển data type của cột `date` sang dạng `datetime`.\n",
    "- Chuyển data type của các cột đang là dạng `object ('str')` sang dạng `category`"
   ]
  },
  {
   "cell_type": "code",
   "execution_count": null,
   "metadata": {},
   "outputs": [],
   "source": [
    "# Chuyển data type của cột `date` sang dạng `datetime`.\n",
    "df['date']=pd.to_datetime(df['date'])\n",
    "# Chuyển data type của các cột đang là dạng `object` sang dạng `category`\n",
    "object_columns = df.select_dtypes(include=['object']).columns\n",
    "for col in object_columns:\n",
    "    df[col]=df[col].astype('category')\n",
    "df.info()"
   ]
  },
  {
   "attachments": {},
   "cell_type": "markdown",
   "metadata": {},
   "source": [
    "Đã xữ lý xong kiểu dữ liệu của các cột. Giờ ta quan sát đến giá trị dữ liệu bên trong các cột."
   ]
  },
  {
   "cell_type": "code",
   "execution_count": null,
   "metadata": {},
   "outputs": [],
   "source": [
    "# Sắp xếp df theo tên company để quan sát cột `company`\n",
    "print(df.sort_values('company')['company'].unique())\n",
    "a=df['company'].unique()\n",
    "b=df['company'].str.upper().unique()\n",
    "print(a.shape[0])\n",
    "print(b.shape[0])"
   ]
  },
  {
   "attachments": {},
   "cell_type": "markdown",
   "metadata": {},
   "source": [
    "Số lượng tên công ty:\n",
    "\n",
    "-   Data gốc: 1629\n",
    "-   Data sau khi đưa tất cả về uppercase: 1624\n",
    "\n",
    "Ta thấy có sự khác nhau về số lượng tên công ty khi ta giữ nguyên data gốc và sau khi đưa tất cả về uppercase -> Có những tên của cùng một công ty nhưng chưa được chuẩn hóa cùng 1 quy tắc.\n",
    "-> Đưa tất cả về 1 loại (uppercase) và ta cũng phải xóa các khoảng trắng thừa trong tên công ty phòng trường hợp có tên công ty bị thừa khoảng trắng."
   ]
  },
  {
   "cell_type": "code",
   "execution_count": null,
   "metadata": {},
   "outputs": [],
   "source": [
    "# Xử lý dữ liệu cột `company`\n",
    "df['company']=df['company'].str.upper()\n",
    "df['company']=df['company'].str.split().str.join(\" \")\n",
    "df['company'].unique().shape[0]"
   ]
  },
  {
   "attachments": {},
   "cell_type": "markdown",
   "metadata": {},
   "source": [
    "Xử lý tương tự cho cột `location`, `industry`, `stage` và `country`."
   ]
  },
  {
   "cell_type": "code",
   "execution_count": null,
   "metadata": {},
   "outputs": [],
   "source": [
    "# Xử lý dữ liệu cột `location`\n",
    "df['location']=df['location'].str.upper()\n",
    "df['location']=df['location'].str.split().str.join(\" \")\n",
    "df['location'].unique().shape[0]"
   ]
  },
  {
   "cell_type": "code",
   "execution_count": null,
   "metadata": {},
   "outputs": [],
   "source": [
    "# Xử lý dữ liệu cột `industry`\n",
    "df['industry']=df['industry'].str.upper()\n",
    "df['industry']=df['industry'].str.split().str.join(\" \")\n",
    "df['industry'].unique().shape[0]"
   ]
  },
  {
   "cell_type": "code",
   "execution_count": null,
   "metadata": {},
   "outputs": [],
   "source": [
    "# Xử lý dữ liệu cột `stage`\n",
    "df['stage']=df['stage'].str.upper()\n",
    "df['stage']=df['stage'].str.split().str.join(\" \")\n",
    "df['stage'].unique().shape[0]"
   ]
  },
  {
   "cell_type": "code",
   "execution_count": null,
   "metadata": {},
   "outputs": [],
   "source": [
    "# Xử lý dữ liệu cột `country`\n",
    "df['country']=df['country'].str.upper()\n",
    "df['country']=df['country'].str.split().str.join(\" \")\n",
    "df['country'].unique().shape[0]"
   ]
  },
  {
   "attachments": {},
   "cell_type": "markdown",
   "metadata": {},
   "source": [
    "Tiếp theo ta kiểm tra những cột có kiễu dữ liệu là số để xem có xuất hiện dữ liệu không hợp lệ không.\n",
    "- Có dòng nào chứa số âm không?\n",
    "- `percentage_laid_off` có giá trị nào lớn hơn 1 không?"
   ]
  },
  {
   "cell_type": "code",
   "execution_count": null,
   "metadata": {},
   "outputs": [],
   "source": [
    "# Kiểu tra giá trị âm\n",
    "print(\"Negative total_laid_off: \"+str(sum(df.total_laid_off<0)))\n",
    "print(\"Negative percentage_laid_off: \"+str(sum(df.percentage_laid_off<0)))\n",
    "print(\"Negative funds_raised: \"+str(sum(df.funds_raised<0)))\n",
    "\n",
    "# Kiểm tra giá trị `percentage_laid_off` không hợp lệ\n",
    "print(\"percentage_laid_off greater than 1: \"+str(sum(df.percentage_laid_off>1)))"
   ]
  },
  {
   "attachments": {},
   "cell_type": "markdown",
   "metadata": {},
   "source": [
    "Sau khi đã xử lý xong tất cả ta sắp xếp và reset index của data."
   ]
  },
  {
   "cell_type": "code",
   "execution_count": null,
   "metadata": {},
   "outputs": [],
   "source": [
    "df=df.sort_values('company')\n",
    "df=df.reset_index(drop=True)\n",
    "df.head()"
   ]
  },
  {
   "attachments": {},
   "cell_type": "markdown",
   "metadata": {},
   "source": [
    "Tới đây ta đã tiền xử lý dữ liệu xong tạm ổn."
   ]
  },
  {
   "cell_type": "code",
   "execution_count": null,
   "metadata": {},
   "outputs": [],
   "source": [
    "\n",
    "# Khúc này là thêm 1 cột `total_employees` mục đích là lấy ra top company, lưu tạm để qua phần phân tích dùng\n",
    "df_with_total_employees=df.sort_values(by='total_laid_off',ascending=False)\n",
    "df_with_total_employees=df_with_total_employees.reset_index(drop=True)\n",
    "df_with_total_employees=df_with_total_employees[df_with_total_employees['percentage_laid_off']>0]\n",
    "df_with_total_employees['total_employees']=round(df_with_total_employees['total_laid_off']/df_with_total_employees['percentage_laid_off'])\n",
    "df_with_total_employees=df_with_total_employees[df_with_total_employees['total_employees']>0]\n",
    "df_with_total_employees=df_with_total_employees.sort_values(by='total_employees',ascending=False)\n",
    "df_with_total_employees=df_with_total_employees.reset_index(drop=True)\n",
    "df_with_total_employees\n"
   ]
  },
  {
   "cell_type": "code",
   "execution_count": null,
   "metadata": {},
   "outputs": [],
   "source": [
    "df2=df_with_total_employees.groupby('company')['total_employees'].max()\n",
    "df2.sort_values(ascending=False).head(10)"
   ]
  },
  {
   "attachments": {},
   "cell_type": "markdown",
   "metadata": {},
   "source": [
    "### Mối liên hệ giữa cột dữ liệu Stage và Percentage_laid_off, liệu nó có liên quan tới nhau hay không ?  Liễu "
   ]
  },
  {
   "cell_type": "code",
   "execution_count": null,
   "metadata": {},
   "outputs": [],
   "source": []
  },
  {
   "attachments": {},
   "cell_type": "markdown",
   "metadata": {},
   "source": [
    "### Xét từng quốc gia, thể hiện bằng biểu đồ cột cho thấy số lượng người bị sa thải của các ngành. Trí "
   ]
  },
  {
   "cell_type": "code",
   "execution_count": null,
   "metadata": {},
   "outputs": [],
   "source": []
  },
  {
   "attachments": {},
   "cell_type": "markdown",
   "metadata": {},
   "source": [
    "### ngành nào đang có số lượng layoff cao nhất trên thế giới - Yến "
   ]
  },
  {
   "cell_type": "code",
   "execution_count": null,
   "metadata": {},
   "outputs": [],
   "source": []
  },
  {
   "attachments": {},
   "cell_type": "markdown",
   "metadata": {},
   "source": [
    "### Xét tất cả các ngành, dùng biểu đồ cột thể hiện số lượng quốc gia có ngành nghề đó layoff top đầu / cuối. Hưng "
   ]
  },
  {
   "cell_type": "code",
   "execution_count": null,
   "metadata": {},
   "outputs": [],
   "source": []
  },
  {
   "attachments": {},
   "cell_type": "markdown",
   "metadata": {},
   "source": [
    "### Thêm total_employee để chọn ra top company theo quy mô nhân sự. Từ đây phát triễn các phân tích trên nhóm top company. Yến  "
   ]
  },
  {
   "cell_type": "code",
   "execution_count": null,
   "metadata": {},
   "outputs": [],
   "source": []
  },
  {
   "attachments": {},
   "cell_type": "markdown",
   "metadata": {},
   "source": [
    "### Câu 16\n",
    "Có 1 số điểm thú vị trong dữ liệu đang tìm từ từ. VD: \n",
    "\n",
    " 1 số company mà percentage_laid_off=1 tức là toàn bộ công ty đó bị sa thải --> bankrupt. -> KHÁM PHÁ PHÁ SẢN \n",
    "\n",
    "Công ty nào sa thải nhân viên và những dịp lễ đặc biệt (eg: Christmas...) nhiều nhất? Số lượng? \n",
    "\n",
    "Thời điểm nào lay off nhiều nhất (Tháng/quý/năm - stack bar) "
   ]
  },
  {
   "cell_type": "code",
   "execution_count": null,
   "metadata": {},
   "outputs": [],
   "source": [
    "df_clean_percentage=df[df['percentage_laid_off']>0]\n",
    "df_clean_percentage['percentage_laid_off']=df_clean_percentage['percentage_laid_off']*100\n",
    "# df_clean_percentage['percentage_range']=pd.cut(x=df_clean_percentage['percentage_laid_off'], bins=[0, 10, 20, 30,\n",
    "#                                           40,50,60,70,80,90,100],labels=['<10', '10-20', '20-30',\n",
    "#                                           '30-40','40-50','50-60','60-70','70-80','80-90','>90'],include_lowest=True)\n",
    "# by_percentage_range=df_clean_percentage.groupby('percentage_range').size()\n",
    "# by_percentage_range"
   ]
  },
  {
   "cell_type": "code",
   "execution_count": null,
   "metadata": {},
   "outputs": [],
   "source": [
    "\n",
    "fig, (ax1, ax2) = plt.subplots(1, 2, figsize=(12, 5), tight_layout=True)\n",
    "fig.tight_layout(pad=5.0)\n",
    "\n",
    "#histogram\n",
    "ax1.hist(df_clean_percentage['percentage_laid_off'],bins=[0,10,20,30,40,50,60,70,80,90,100],edgecolor=\"k\")\n",
    "ax1.hist(df_clean_percentage[df_clean_percentage.percentage_laid_off>=50]['percentage_laid_off'],bins=[50,60,70,80,90,100],label=\"greater equal than 50%\",edgecolor=\"k\")\n",
    "ax1.set_xticks(np.arange(0, 101, 10))\n",
    "ax1.set_title('Số đợt diễn ra sa thải xếp theo quy mô mỗi đợt',wrap=True,pad=10)\n",
    "ax1.set_xlabel('percentage laid off')\n",
    "ax1.set_ylabel('Number of times laid off happend')\n",
    "ax1.legend()\n",
    "\n",
    "\n",
    "# Số lần sa thải có quy mô > 50% nhân viên\n",
    "n_more_than_50percent_laid_off=df_clean_percentage[df_clean_percentage.percentage_laid_off>=50].shape[0]\n",
    "\n",
    "# Số lần sa thải có quy mô 100% nhân viên\n",
    "n_laid_off_all_employees = df_clean_percentage[df_clean_percentage.percentage_laid_off==100].shape[0]\n",
    "\n",
    "\n",
    "#pie chart\n",
    "pie_lb=['\\n'.join(wrap('Vẫn còn nhân sự', 15)),'\\n'.join(wrap('Toàn bộ nhân sự đã bị sa thải', 15))]\n",
    "ax2.pie([n_more_than_50percent_laid_off-n_laid_off_all_employees,n_laid_off_all_employees],labels=pie_lb,autopct='%.0f%%',counterclock=False, startangle=-270,colors=['#F1C40F','#E74C3C'])\n",
    "ax2.set_title('Tình trạng nhân sự của các công ty có hơn 50% nhân viên bị sa thải',wrap=True)\n",
    "plt.show()"
   ]
  },
  {
   "cell_type": "code",
   "execution_count": null,
   "metadata": {},
   "outputs": [],
   "source": []
  },
  {
   "attachments": {},
   "cell_type": "markdown",
   "metadata": {},
   "source": [
    "### Total_laid_off/percentage_laid_off có quan hệ gì với total_employee/funds_raised hay không. Nếu tìm ra được tương quan có thể dùng thể fill null cho cột còn lại. "
   ]
  },
  {
   "cell_type": "code",
   "execution_count": null,
   "metadata": {},
   "outputs": [],
   "source": []
  }
 ],
 "metadata": {
  "kernelspec": {
   "display_name": "Python 3",
   "language": "python",
   "name": "python3"
  },
  "language_info": {
   "codemirror_mode": {
    "name": "ipython",
    "version": 3
   },
   "file_extension": ".py",
   "mimetype": "text/x-python",
   "name": "python",
   "nbconvert_exporter": "python",
   "pygments_lexer": "ipython3",
   "version": "3.10.10"
  },
  "orig_nbformat": 4
 },
 "nbformat": 4,
 "nbformat_minor": 2
}
